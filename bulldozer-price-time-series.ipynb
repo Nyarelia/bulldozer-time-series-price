{
 "cells": [
  {
   "cell_type": "markdown",
   "source": [
    "# Predicting the Sale Price of Bulldozers using Machine Learning\n",
    "\n",
    "An example machine learning project with the goal of predicting the sale price of bulldozers\n",
    "\n",
    "\n",
    "## 1. Problem Definition\n",
    "How accurately can we predict the future sale price of a bulldozer, given its characteristics and previous examples of how much similar bulldozers have been sold for?\n",
    "\n",
    "\n",
    "## 2. Data\n",
    "Data has been downloaded from the Kaggle Bluebook for Bulldozers competition.\n",
    "\n",
    "The data for this competition is split into three parts:\n",
    "\n",
    "* Train.csv is the training set, which contains data through the end of 2011.\n",
    "* Valid.csv is the validation set, which contains data from January 1, 2012 - April 30, 2012 You make predictions on this set throughout the majority of the competition. Your score on this set is used to create the public leaderboard.\n",
    "* Test.csv is the test set, which won't be released until the last week of the competition. It contains data from May 1, 2012 - November 2012. Your score on the test set determines your final rank for the competition.\n",
    "\n",
    "Link to the Kaggle repository: [Bluebook for Bulldozers](https://www.kaggle.com/c/bluebook-for-bulldozers/overview)\n",
    "\n",
    "## 3. Evaluation\n",
    "The evaluation metric for this project is the RMSLE (root mean squared log error) between the actual and predicted auction prices e.g. minimizing the RMSLE.\n",
    "\n",
    "For more information: [Evaluation metrics on Kaggle](https://www.kaggle.com/c/bluebook-for-bulldozers/overview/evaluation)\n",
    "\n",
    "## 4. Features\n",
    "Kaggle provided data dictionary detailing the features of the data set on Google Sheets: [Data Dictionary](https://docs.google.com/spreadsheets/d/18ly-bLR8sbDJLITkWG7ozKm8l3RyieQ2Fpgix-beSYI/edit?usp=sharing)\n"
   ],
   "metadata": {
    "collapsed": false
   },
   "id": "219ac0cc96cc3f4f"
  },
  {
   "cell_type": "markdown",
   "source": [
    "# Imports & Data Engineering"
   ],
   "metadata": {
    "collapsed": false
   },
   "id": "c1acda11841f37b7"
  },
  {
   "cell_type": "code",
   "execution_count": 1,
   "id": "initial_id",
   "metadata": {
    "collapsed": true,
    "ExecuteTime": {
     "end_time": "2024-04-24T11:35:52.099909200Z",
     "start_time": "2024-04-24T11:35:51.855365900Z"
    }
   },
   "outputs": [],
   "source": [
    "import numpy as np\n",
    "import matplotlib.pyplot as plt\n",
    "import seaborn as sns\n",
    "import pandas as pd\n",
    "\n",
    "from sklearn.ensemble import RandomForestRegressor\n",
    "from sklearn.model_selection import RandomizedSearchCV\n",
    "\n",
    "from sklearn.metrics import mean_absolute_error, mean_squared_log_error, r2_score\n",
    "\n",
    "\n"
   ]
  },
  {
   "cell_type": "code",
   "outputs": [],
   "source": [
    "df = pd.read_csv('data/TrainAndValid.csv',\n",
    "                 low_memory=False)"
   ],
   "metadata": {
    "collapsed": false,
    "ExecuteTime": {
     "end_time": "2024-04-24T09:08:49.098041700Z",
     "start_time": "2024-04-24T09:08:46.524593Z"
    }
   },
   "id": "8e476eea16fcdca8",
   "execution_count": 22
  },
  {
   "cell_type": "code",
   "outputs": [
    {
     "name": "stdout",
     "output_type": "stream",
     "text": [
      "<class 'pandas.core.frame.DataFrame'>\n",
      "RangeIndex: 412698 entries, 0 to 412697\n",
      "Data columns (total 53 columns):\n",
      " #   Column                    Non-Null Count   Dtype  \n",
      "---  ------                    --------------   -----  \n",
      " 0   SalesID                   412698 non-null  int64  \n",
      " 1   SalePrice                 412698 non-null  float64\n",
      " 2   MachineID                 412698 non-null  int64  \n",
      " 3   ModelID                   412698 non-null  int64  \n",
      " 4   datasource                412698 non-null  int64  \n",
      " 5   auctioneerID              392562 non-null  float64\n",
      " 6   YearMade                  412698 non-null  int64  \n",
      " 7   MachineHoursCurrentMeter  147504 non-null  float64\n",
      " 8   UsageBand                 73670 non-null   object \n",
      " 9   saledate                  412698 non-null  object \n",
      " 10  fiModelDesc               412698 non-null  object \n",
      " 11  fiBaseModel               412698 non-null  object \n",
      " 12  fiSecondaryDesc           271971 non-null  object \n",
      " 13  fiModelSeries             58667 non-null   object \n",
      " 14  fiModelDescriptor         74816 non-null   object \n",
      " 15  ProductSize               196093 non-null  object \n",
      " 16  fiProductClassDesc        412698 non-null  object \n",
      " 17  state                     412698 non-null  object \n",
      " 18  ProductGroup              412698 non-null  object \n",
      " 19  ProductGroupDesc          412698 non-null  object \n",
      " 20  Drive_System              107087 non-null  object \n",
      " 21  Enclosure                 412364 non-null  object \n",
      " 22  Forks                     197715 non-null  object \n",
      " 23  Pad_Type                  81096 non-null   object \n",
      " 24  Ride_Control              152728 non-null  object \n",
      " 25  Stick                     81096 non-null   object \n",
      " 26  Transmission              188007 non-null  object \n",
      " 27  Turbocharged              81096 non-null   object \n",
      " 28  Blade_Extension           25983 non-null   object \n",
      " 29  Blade_Width               25983 non-null   object \n",
      " 30  Enclosure_Type            25983 non-null   object \n",
      " 31  Engine_Horsepower         25983 non-null   object \n",
      " 32  Hydraulics                330133 non-null  object \n",
      " 33  Pushblock                 25983 non-null   object \n",
      " 34  Ripper                    106945 non-null  object \n",
      " 35  Scarifier                 25994 non-null   object \n",
      " 36  Tip_Control               25983 non-null   object \n",
      " 37  Tire_Size                 97638 non-null   object \n",
      " 38  Coupler                   220679 non-null  object \n",
      " 39  Coupler_System            44974 non-null   object \n",
      " 40  Grouser_Tracks            44875 non-null   object \n",
      " 41  Hydraulics_Flow           44875 non-null   object \n",
      " 42  Track_Type                102193 non-null  object \n",
      " 43  Undercarriage_Pad_Width   102916 non-null  object \n",
      " 44  Stick_Length              102261 non-null  object \n",
      " 45  Thumb                     102332 non-null  object \n",
      " 46  Pattern_Changer           102261 non-null  object \n",
      " 47  Grouser_Type              102193 non-null  object \n",
      " 48  Backhoe_Mounting          80712 non-null   object \n",
      " 49  Blade_Type                81875 non-null   object \n",
      " 50  Travel_Controls           81877 non-null   object \n",
      " 51  Differential_Type         71564 non-null   object \n",
      " 52  Steering_Controls         71522 non-null   object \n",
      "dtypes: float64(3), int64(5), object(45)\n",
      "memory usage: 166.9+ MB\n"
     ]
    }
   ],
   "source": [
    "df.info()"
   ],
   "metadata": {
    "collapsed": false,
    "ExecuteTime": {
     "end_time": "2024-04-24T09:08:49.537118300Z",
     "start_time": "2024-04-24T09:08:49.099542800Z"
    }
   },
   "id": "695d798a0dff02b1",
   "execution_count": 23
  },
  {
   "cell_type": "code",
   "outputs": [
    {
     "data": {
      "text/plain": "SalesID                          0\nSalePrice                        0\nMachineID                        0\nModelID                          0\ndatasource                       0\nauctioneerID                 20136\nYearMade                         0\nMachineHoursCurrentMeter    265194\nUsageBand                   339028\nsaledate                         0\nfiModelDesc                      0\nfiBaseModel                      0\nfiSecondaryDesc             140727\nfiModelSeries               354031\nfiModelDescriptor           337882\nProductSize                 216605\nfiProductClassDesc               0\nstate                            0\nProductGroup                     0\nProductGroupDesc                 0\nDrive_System                305611\nEnclosure                      334\nForks                       214983\nPad_Type                    331602\nRide_Control                259970\nStick                       331602\nTransmission                224691\nTurbocharged                331602\nBlade_Extension             386715\nBlade_Width                 386715\nEnclosure_Type              386715\nEngine_Horsepower           386715\nHydraulics                   82565\nPushblock                   386715\nRipper                      305753\nScarifier                   386704\nTip_Control                 386715\nTire_Size                   315060\nCoupler                     192019\nCoupler_System              367724\nGrouser_Tracks              367823\nHydraulics_Flow             367823\nTrack_Type                  310505\nUndercarriage_Pad_Width     309782\nStick_Length                310437\nThumb                       310366\nPattern_Changer             310437\nGrouser_Type                310505\nBackhoe_Mounting            331986\nBlade_Type                  330823\nTravel_Controls             330821\nDifferential_Type           341134\nSteering_Controls           341176\ndtype: int64"
     },
     "execution_count": 24,
     "metadata": {},
     "output_type": "execute_result"
    }
   ],
   "source": [
    "df.isna().sum()"
   ],
   "metadata": {
    "collapsed": false,
    "ExecuteTime": {
     "end_time": "2024-04-24T09:08:49.957192800Z",
     "start_time": "2024-04-24T09:08:49.538118Z"
    }
   },
   "id": "86f13043422e0a4a",
   "execution_count": 24
  },
  {
   "cell_type": "code",
   "outputs": [
    {
     "data": {
      "text/plain": "<Figure size 640x480 with 1 Axes>",
      "image/png": "[encoded data removed]"
     },
     "metadata": {},
     "output_type": "display_data"
    }
   ],
   "source": [
    "fig, ax = plt.subplots()\n",
    "ax.scatter(df['saledate'][:1000], df['SalePrice'][:1000]);"
   ],
   "metadata": {
    "collapsed": false,
    "ExecuteTime": {
     "end_time": "2024-04-24T09:08:51.784511Z",
     "start_time": "2024-04-24T09:08:49.957692100Z"
    }
   },
   "id": "3f4c51da1678e2fb",
   "execution_count": 25
  },
  {
   "cell_type": "code",
   "outputs": [
    {
     "data": {
      "text/plain": "<Figure size 640x480 with 1 Axes>",
      "image/png": "[encoded data removed]"
     },
     "metadata": {},
     "output_type": "display_data"
    }
   ],
   "source": [
    "df.SalePrice.plot.hist();"
   ],
   "metadata": {
    "collapsed": false,
    "ExecuteTime": {
     "end_time": "2024-04-24T09:08:51.974543500Z",
     "start_time": "2024-04-24T09:08:51.783510300Z"
    }
   },
   "id": "71490e5743fde400",
   "execution_count": 26
  },
  {
   "cell_type": "markdown",
   "source": [
    "### Parsing dates\n",
    "Enriching the time & date component as much as possible with pandas, by checking which columns have dates in them.\n",
    "using `parse_dates` parameter"
   ],
   "metadata": {
    "collapsed": false
   },
   "id": "b7839d59c53573c"
  },
  {
   "cell_type": "code",
   "outputs": [],
   "source": [
    "# Importing data again, but with parse_dates\n",
    "\n",
    "df = pd.read_csv('data/TrainAndValid.csv',\n",
    "                 low_memory=False,\n",
    "                 parse_dates=['saledate'])"
   ],
   "metadata": {
    "collapsed": false,
    "ExecuteTime": {
     "end_time": "2024-04-24T09:08:54.435973200Z",
     "start_time": "2024-04-24T09:08:51.966041900Z"
    }
   },
   "id": "42209a7f66cee19a",
   "execution_count": 27
  },
  {
   "cell_type": "code",
   "outputs": [
    {
     "data": {
      "text/plain": "dtype('<M8[ns]')"
     },
     "execution_count": 28,
     "metadata": {},
     "output_type": "execute_result"
    }
   ],
   "source": [
    "df.saledate.dtype"
   ],
   "metadata": {
    "collapsed": false,
    "ExecuteTime": {
     "end_time": "2024-04-24T09:08:54.440974Z",
     "start_time": "2024-04-24T09:08:54.436973200Z"
    }
   },
   "id": "3462287dce54341",
   "execution_count": 28
  },
  {
   "cell_type": "code",
   "outputs": [
    {
     "data": {
      "text/plain": "0     2006-11-16\n1     2004-03-26\n2     2004-02-26\n3     2011-05-19\n4     2009-07-23\n         ...    \n995   2009-07-16\n996   2007-06-14\n997   2005-09-22\n998   2005-07-28\n999   2011-06-16\nName: saledate, Length: 1000, dtype: datetime64[ns]"
     },
     "execution_count": 29,
     "metadata": {},
     "output_type": "execute_result"
    }
   ],
   "source": [
    "df.saledate[:1000]"
   ],
   "metadata": {
    "collapsed": false,
    "ExecuteTime": {
     "end_time": "2024-04-24T09:08:54.458977100Z",
     "start_time": "2024-04-24T09:08:54.440473700Z"
    }
   },
   "id": "5987f056a26fe16b",
   "execution_count": 29
  },
  {
   "cell_type": "code",
   "outputs": [
    {
     "data": {
      "text/plain": "<Figure size 640x480 with 1 Axes>",
      "image/png": "[encoded data removed]"
     },
     "metadata": {},
     "output_type": "display_data"
    }
   ],
   "source": [
    "fig, ax = plt.subplots()\n",
    "ax.scatter(df['saledate'][:1000], df['SalePrice'][:1000]);"
   ],
   "metadata": {
    "collapsed": false,
    "ExecuteTime": {
     "end_time": "2024-04-24T09:08:54.752528300Z",
     "start_time": "2024-04-24T09:08:54.447974900Z"
    }
   },
   "id": "598b33fcd96779d1",
   "execution_count": 30
  },
  {
   "cell_type": "code",
   "outputs": [
    {
     "data": {
      "text/plain": "                                                                 0  \\\nSalesID                                                    1139246   \nSalePrice                                                  66000.0   \nMachineID                                                   999089   \nModelID                                                       3157   \ndatasource                                                     121   \nauctioneerID                                                   3.0   \nYearMade                                                      2004   \nMachineHoursCurrentMeter                                      68.0   \nUsageBand                                                      Low   \nsaledate                                       2006-11-16 00:00:00   \nfiModelDesc                                                   521D   \nfiBaseModel                                                    521   \nfiSecondaryDesc                                                  D   \nfiModelSeries                                                  NaN   \nfiModelDescriptor                                              NaN   \nProductSize                                                    NaN   \nfiProductClassDesc        Wheel Loader - 110.0 to 120.0 Horsepower   \nstate                                                      Alabama   \nProductGroup                                                    WL   \nProductGroupDesc                                      Wheel Loader   \nDrive_System                                                   NaN   \nEnclosure                                               EROPS w AC   \nForks                                          None or Unspecified   \nPad_Type                                                       NaN   \nRide_Control                                   None or Unspecified   \nStick                                                          NaN   \nTransmission                                                   NaN   \nTurbocharged                                                   NaN   \nBlade_Extension                                                NaN   \nBlade_Width                                                    NaN   \nEnclosure_Type                                                 NaN   \nEngine_Horsepower                                              NaN   \nHydraulics                                                 2 Valve   \nPushblock                                                      NaN   \nRipper                                                         NaN   \nScarifier                                                      NaN   \nTip_Control                                                    NaN   \nTire_Size                                      None or Unspecified   \nCoupler                                        None or Unspecified   \nCoupler_System                                                 NaN   \nGrouser_Tracks                                                 NaN   \nHydraulics_Flow                                                NaN   \nTrack_Type                                                     NaN   \nUndercarriage_Pad_Width                                        NaN   \nStick_Length                                                   NaN   \nThumb                                                          NaN   \nPattern_Changer                                                NaN   \nGrouser_Type                                                   NaN   \nBackhoe_Mounting                                               NaN   \nBlade_Type                                                     NaN   \nTravel_Controls                                                NaN   \nDifferential_Type                                         Standard   \nSteering_Controls                                     Conventional   \n\n                                                                 1  \\\nSalesID                                                    1139248   \nSalePrice                                                  57000.0   \nMachineID                                                   117657   \nModelID                                                         77   \ndatasource                                                     121   \nauctioneerID                                                   3.0   \nYearMade                                                      1996   \nMachineHoursCurrentMeter                                    4640.0   \nUsageBand                                                      Low   \nsaledate                                       2004-03-26 00:00:00   \nfiModelDesc                                                 950FII   \nfiBaseModel                                                    950   \nfiSecondaryDesc                                                  F   \nfiModelSeries                                                   II   \nfiModelDescriptor                                              NaN   \nProductSize                                                 Medium   \nfiProductClassDesc        Wheel Loader - 150.0 to 175.0 Horsepower   \nstate                                               North Carolina   \nProductGroup                                                    WL   \nProductGroupDesc                                      Wheel Loader   \nDrive_System                                                   NaN   \nEnclosure                                               EROPS w AC   \nForks                                          None or Unspecified   \nPad_Type                                                       NaN   \nRide_Control                                   None or Unspecified   \nStick                                                          NaN   \nTransmission                                                   NaN   \nTurbocharged                                                   NaN   \nBlade_Extension                                                NaN   \nBlade_Width                                                    NaN   \nEnclosure_Type                                                 NaN   \nEngine_Horsepower                                              NaN   \nHydraulics                                                 2 Valve   \nPushblock                                                      NaN   \nRipper                                                         NaN   \nScarifier                                                      NaN   \nTip_Control                                                    NaN   \nTire_Size                                                     23.5   \nCoupler                                        None or Unspecified   \nCoupler_System                                                 NaN   \nGrouser_Tracks                                                 NaN   \nHydraulics_Flow                                                NaN   \nTrack_Type                                                     NaN   \nUndercarriage_Pad_Width                                        NaN   \nStick_Length                                                   NaN   \nThumb                                                          NaN   \nPattern_Changer                                                NaN   \nGrouser_Type                                                   NaN   \nBackhoe_Mounting                                               NaN   \nBlade_Type                                                     NaN   \nTravel_Controls                                                NaN   \nDifferential_Type                                         Standard   \nSteering_Controls                                     Conventional   \n\n                                                                          2  \\\nSalesID                                                             1139249   \nSalePrice                                                           10000.0   \nMachineID                                                            434808   \nModelID                                                                7009   \ndatasource                                                              121   \nauctioneerID                                                            3.0   \nYearMade                                                               2001   \nMachineHoursCurrentMeter                                             2838.0   \nUsageBand                                                              High   \nsaledate                                                2004-02-26 00:00:00   \nfiModelDesc                                                             226   \nfiBaseModel                                                             226   \nfiSecondaryDesc                                                         NaN   \nfiModelSeries                                                           NaN   \nfiModelDescriptor                                                       NaN   \nProductSize                                                             NaN   \nfiProductClassDesc        Skid Steer Loader - 1351.0 to 1601.0 Lb Operat...   \nstate                                                              New York   \nProductGroup                                                            SSL   \nProductGroupDesc                                         Skid Steer Loaders   \nDrive_System                                                            NaN   \nEnclosure                                                             OROPS   \nForks                                                   None or Unspecified   \nPad_Type                                                                NaN   \nRide_Control                                                            NaN   \nStick                                                                   NaN   \nTransmission                                                            NaN   \nTurbocharged                                                            NaN   \nBlade_Extension                                                         NaN   \nBlade_Width                                                             NaN   \nEnclosure_Type                                                          NaN   \nEngine_Horsepower                                                       NaN   \nHydraulics                                                        Auxiliary   \nPushblock                                                               NaN   \nRipper                                                                  NaN   \nScarifier                                                               NaN   \nTip_Control                                                             NaN   \nTire_Size                                                               NaN   \nCoupler                                                 None or Unspecified   \nCoupler_System                                          None or Unspecified   \nGrouser_Tracks                                          None or Unspecified   \nHydraulics_Flow                                                    Standard   \nTrack_Type                                                              NaN   \nUndercarriage_Pad_Width                                                 NaN   \nStick_Length                                                            NaN   \nThumb                                                                   NaN   \nPattern_Changer                                                         NaN   \nGrouser_Type                                                            NaN   \nBackhoe_Mounting                                                        NaN   \nBlade_Type                                                              NaN   \nTravel_Controls                                                         NaN   \nDifferential_Type                                                       NaN   \nSteering_Controls                                                       NaN   \n\n                                                                          3  \\\nSalesID                                                             1139251   \nSalePrice                                                           38500.0   \nMachineID                                                           1026470   \nModelID                                                                 332   \ndatasource                                                              121   \nauctioneerID                                                            3.0   \nYearMade                                                               2001   \nMachineHoursCurrentMeter                                             3486.0   \nUsageBand                                                              High   \nsaledate                                                2011-05-19 00:00:00   \nfiModelDesc                                                        PC120-6E   \nfiBaseModel                                                           PC120   \nfiSecondaryDesc                                                         NaN   \nfiModelSeries                                                           -6E   \nfiModelDescriptor                                                       NaN   \nProductSize                                                           Small   \nfiProductClassDesc        Hydraulic Excavator, Track - 12.0 to 14.0 Metr...   \nstate                                                                 Texas   \nProductGroup                                                            TEX   \nProductGroupDesc                                           Track Excavators   \nDrive_System                                                            NaN   \nEnclosure                                                        EROPS w AC   \nForks                                                                   NaN   \nPad_Type                                                                NaN   \nRide_Control                                                            NaN   \nStick                                                                   NaN   \nTransmission                                                            NaN   \nTurbocharged                                                            NaN   \nBlade_Extension                                                         NaN   \nBlade_Width                                                             NaN   \nEnclosure_Type                                                          NaN   \nEngine_Horsepower                                                       NaN   \nHydraulics                                                          2 Valve   \nPushblock                                                               NaN   \nRipper                                                                  NaN   \nScarifier                                                               NaN   \nTip_Control                                                             NaN   \nTire_Size                                                               NaN   \nCoupler                                                 None or Unspecified   \nCoupler_System                                                          NaN   \nGrouser_Tracks                                                          NaN   \nHydraulics_Flow                                                         NaN   \nTrack_Type                                                              NaN   \nUndercarriage_Pad_Width                                                 NaN   \nStick_Length                                                            NaN   \nThumb                                                                   NaN   \nPattern_Changer                                                         NaN   \nGrouser_Type                                                            NaN   \nBackhoe_Mounting                                                        NaN   \nBlade_Type                                                              NaN   \nTravel_Controls                                                         NaN   \nDifferential_Type                                                       NaN   \nSteering_Controls                                                       NaN   \n\n                                                                          4  \nSalesID                                                             1139253  \nSalePrice                                                           11000.0  \nMachineID                                                           1057373  \nModelID                                                               17311  \ndatasource                                                              121  \nauctioneerID                                                            3.0  \nYearMade                                                               2007  \nMachineHoursCurrentMeter                                              722.0  \nUsageBand                                                            Medium  \nsaledate                                                2009-07-23 00:00:00  \nfiModelDesc                                                            S175  \nfiBaseModel                                                            S175  \nfiSecondaryDesc                                                         NaN  \nfiModelSeries                                                           NaN  \nfiModelDescriptor                                                       NaN  \nProductSize                                                             NaN  \nfiProductClassDesc        Skid Steer Loader - 1601.0 to 1751.0 Lb Operat...  \nstate                                                              New York  \nProductGroup                                                            SSL  \nProductGroupDesc                                         Skid Steer Loaders  \nDrive_System                                                            NaN  \nEnclosure                                                             EROPS  \nForks                                                   None or Unspecified  \nPad_Type                                                                NaN  \nRide_Control                                                            NaN  \nStick                                                                   NaN  \nTransmission                                                            NaN  \nTurbocharged                                                            NaN  \nBlade_Extension                                                         NaN  \nBlade_Width                                                             NaN  \nEnclosure_Type                                                          NaN  \nEngine_Horsepower                                                       NaN  \nHydraulics                                                        Auxiliary  \nPushblock                                                               NaN  \nRipper                                                                  NaN  \nScarifier                                                               NaN  \nTip_Control                                                             NaN  \nTire_Size                                                               NaN  \nCoupler                                                 None or Unspecified  \nCoupler_System                                          None or Unspecified  \nGrouser_Tracks                                          None or Unspecified  \nHydraulics_Flow                                                    Standard  \nTrack_Type                                                              NaN  \nUndercarriage_Pad_Width                                                 NaN  \nStick_Length                                                            NaN  \nThumb                                                                   NaN  \nPattern_Changer                                                         NaN  \nGrouser_Type                                                            NaN  \nBackhoe_Mounting                                                        NaN  \nBlade_Type                                                              NaN  \nTravel_Controls                                                         NaN  \nDifferential_Type                                                       NaN  \nSteering_Controls                                                       NaN  ",
      "text/html": "<div>\n<style scoped>\n    .dataframe tbody tr th:only-of-type {\n        vertical-align: middle;\n    }\n\n    .dataframe tbody tr th {\n        vertical-align: top;\n    }\n\n    .dataframe thead th {\n        text-align: right;\n    }\n</style>\n<table border=\"1\" class=\"dataframe\">\n  <thead>\n    <tr style=\"text-align: right;\">\n      <th></th>\n      <th>0</th>\n      <th>1</th>\n      <th>2</th>\n      <th>3</th>\n      <th>4</th>\n    </tr>\n  </thead>\n  <tbody>\n    <tr>\n      <th>SalesID</th>\n      <td>1139246</td>\n      <td>1139248</td>\n      <td>1139249</td>\n      <td>1139251</td>\n      <td>1139253</td>\n    </tr>\n    <tr>\n      <th>SalePrice</th>\n      <td>66000.0</td>\n      <td>57000.0</td>\n      <td>10000.0</td>\n      <td>38500.0</td>\n      <td>11000.0</td>\n    </tr>\n    <tr>\n      <th>MachineID</th>\n      <td>999089</td>\n      <td>117657</td>\n      <td>434808</td>\n      <td>1026470</td>\n      <td>1057373</td>\n    </tr>\n    <tr>\n      <th>ModelID</th>\n      <td>3157</td>\n      <td>77</td>\n      <td>7009</td>\n      <td>332</td>\n      <td>17311</td>\n    </tr>\n    <tr>\n      <th>datasource</th>\n      <td>121</td>\n      <td>121</td>\n      <td>121</td>\n      <td>121</td>\n      <td>121</td>\n    </tr>\n    <tr>\n      <th>auctioneerID</th>\n      <td>3.0</td>\n      <td>3.0</td>\n      <td>3.0</td>\n      <td>3.0</td>\n      <td>3.0</td>\n    </tr>\n    <tr>\n      <th>YearMade</th>\n      <td>2004</td>\n      <td>1996</td>\n      <td>2001</td>\n      <td>2001</td>\n      <td>2007</td>\n    </tr>\n    <tr>\n      <th>MachineHoursCurrentMeter</th>\n      <td>68.0</td>\n      <td>4640.0</td>\n      <td>2838.0</td>\n      <td>3486.0</td>\n      <td>722.0</td>\n    </tr>\n    <tr>\n      <th>UsageBand</th>\n      <td>Low</td>\n      <td>Low</td>\n      <td>High</td>\n      <td>High</td>\n      <td>Medium</td>\n    </tr>\n    <tr>\n      <th>saledate</th>\n      <td>2006-11-16 00:00:00</td>\n      <td>2004-03-26 00:00:00</td>\n      <td>2004-02-26 00:00:00</td>\n      <td>2011-05-19 00:00:00</td>\n      <td>2009-07-23 00:00:00</td>\n    </tr>\n    <tr>\n      <th>fiModelDesc</th>\n      <td>521D</td>\n      <td>950FII</td>\n      <td>226</td>\n      <td>PC120-6E</td>\n      <td>S175</td>\n    </tr>\n    <tr>\n      <th>fiBaseModel</th>\n      <td>521</td>\n      <td>950</td>\n      <td>226</td>\n      <td>PC120</td>\n      <td>S175</td>\n    </tr>\n    <tr>\n      <th>fiSecondaryDesc</th>\n      <td>D</td>\n      <td>F</td>\n      <td>NaN</td>\n      <td>NaN</td>\n      <td>NaN</td>\n    </tr>\n    <tr>\n      <th>fiModelSeries</th>\n      <td>NaN</td>\n      <td>II</td>\n      <td>NaN</td>\n      <td>-6E</td>\n      <td>NaN</td>\n    </tr>\n    <tr>\n      <th>fiModelDescriptor</th>\n      <td>NaN</td>\n      <td>NaN</td>\n      <td>NaN</td>\n      <td>NaN</td>\n      <td>NaN</td>\n    </tr>\n    <tr>\n      <th>ProductSize</th>\n      <td>NaN</td>\n      <td>Medium</td>\n      <td>NaN</td>\n      <td>Small</td>\n      <td>NaN</td>\n    </tr>\n    <tr>\n      <th>fiProductClassDesc</th>\n      <td>Wheel Loader - 110.0 to 120.0 Horsepower</td>\n      <td>Wheel Loader - 150.0 to 175.0 Horsepower</td>\n      <td>Skid Steer Loader - 1351.0 to 1601.0 Lb Operat...</td>\n      <td>Hydraulic Excavator, Track - 12.0 to 14.0 Metr...</td>\n      <td>Skid Steer Loader - 1601.0 to 1751.0 Lb Operat...</td>\n    </tr>\n    <tr>\n      <th>state</th>\n      <td>Alabama</td>\n      <td>North Carolina</td>\n      <td>New York</td>\n      <td>Texas</td>\n      <td>New York</td>\n    </tr>\n    <tr>\n      <th>ProductGroup</th>\n      <td>WL</td>\n      <td>WL</td>\n      <td>SSL</td>\n      <td>TEX</td>\n      <td>SSL</td>\n    </tr>\n    <tr>\n      <th>ProductGroupDesc</th>\n      <td>Wheel Loader</td>\n      <td>Wheel Loader</td>\n      <td>Skid Steer Loaders</td>\n      <td>Track Excavators</td>\n      <td>Skid Steer Loaders</td>\n    </tr>\n    <tr>\n      <th>Drive_System</th>\n      <td>NaN</td>\n      <td>NaN</td>\n      <td>NaN</td>\n      <td>NaN</td>\n      <td>NaN</td>\n    </tr>\n    <tr>\n      <th>Enclosure</th>\n      <td>EROPS w AC</td>\n      <td>EROPS w AC</td>\n      <td>OROPS</td>\n      <td>EROPS w AC</td>\n      <td>EROPS</td>\n    </tr>\n    <tr>\n      <th>Forks</th>\n      <td>None or Unspecified</td>\n      <td>None or Unspecified</td>\n      <td>None or Unspecified</td>\n      <td>NaN</td>\n      <td>None or Unspecified</td>\n    </tr>\n    <tr>\n      <th>Pad_Type</th>\n      <td>NaN</td>\n      <td>NaN</td>\n      <td>NaN</td>\n      <td>NaN</td>\n      <td>NaN</td>\n    </tr>\n    <tr>\n      <th>Ride_Control</th>\n      <td>None or Unspecified</td>\n      <td>None or Unspecified</td>\n      <td>NaN</td>\n      <td>NaN</td>\n      <td>NaN</td>\n    </tr>\n    <tr>\n      <th>Stick</th>\n      <td>NaN</td>\n      <td>NaN</td>\n      <td>NaN</td>\n      <td>NaN</td>\n      <td>NaN</td>\n    </tr>\n    <tr>\n      <th>Transmission</th>\n      <td>NaN</td>\n      <td>NaN</td>\n      <td>NaN</td>\n      <td>NaN</td>\n      <td>NaN</td>\n    </tr>\n    <tr>\n      <th>Turbocharged</th>\n      <td>NaN</td>\n      <td>NaN</td>\n      <td>NaN</td>\n      <td>NaN</td>\n      <td>NaN</td>\n    </tr>\n    <tr>\n      <th>Blade_Extension</th>\n      <td>NaN</td>\n      <td>NaN</td>\n      <td>NaN</td>\n      <td>NaN</td>\n      <td>NaN</td>\n    </tr>\n    <tr>\n      <th>Blade_Width</th>\n      <td>NaN</td>\n      <td>NaN</td>\n      <td>NaN</td>\n      <td>NaN</td>\n      <td>NaN</td>\n    </tr>\n    <tr>\n      <th>Enclosure_Type</th>\n      <td>NaN</td>\n      <td>NaN</td>\n      <td>NaN</td>\n      <td>NaN</td>\n      <td>NaN</td>\n    </tr>\n    <tr>\n      <th>Engine_Horsepower</th>\n      <td>NaN</td>\n      <td>NaN</td>\n      <td>NaN</td>\n      <td>NaN</td>\n      <td>NaN</td>\n    </tr>\n    <tr>\n      <th>Hydraulics</th>\n      <td>2 Valve</td>\n      <td>2 Valve</td>\n      <td>Auxiliary</td>\n      <td>2 Valve</td>\n      <td>Auxiliary</td>\n    </tr>\n    <tr>\n      <th>Pushblock</th>\n      <td>NaN</td>\n      <td>NaN</td>\n      <td>NaN</td>\n      <td>NaN</td>\n      <td>NaN</td>\n    </tr>\n    <tr>\n      <th>Ripper</th>\n      <td>NaN</td>\n      <td>NaN</td>\n      <td>NaN</td>\n      <td>NaN</td>\n      <td>NaN</td>\n    </tr>\n    <tr>\n      <th>Scarifier</th>\n      <td>NaN</td>\n      <td>NaN</td>\n      <td>NaN</td>\n      <td>NaN</td>\n      <td>NaN</td>\n    </tr>\n    <tr>\n      <th>Tip_Control</th>\n      <td>NaN</td>\n      <td>NaN</td>\n      <td>NaN</td>\n      <td>NaN</td>\n      <td>NaN</td>\n    </tr>\n    <tr>\n      <th>Tire_Size</th>\n      <td>None or Unspecified</td>\n      <td>23.5</td>\n      <td>NaN</td>\n      <td>NaN</td>\n      <td>NaN</td>\n    </tr>\n    <tr>\n      <th>Coupler</th>\n      <td>None or Unspecified</td>\n      <td>None or Unspecified</td>\n      <td>None or Unspecified</td>\n      <td>None or Unspecified</td>\n      <td>None or Unspecified</td>\n    </tr>\n    <tr>\n      <th>Coupler_System</th>\n      <td>NaN</td>\n      <td>NaN</td>\n      <td>None or Unspecified</td>\n      <td>NaN</td>\n      <td>None or Unspecified</td>\n    </tr>\n    <tr>\n      <th>Grouser_Tracks</th>\n      <td>NaN</td>\n      <td>NaN</td>\n      <td>None or Unspecified</td>\n      <td>NaN</td>\n      <td>None or Unspecified</td>\n    </tr>\n    <tr>\n      <th>Hydraulics_Flow</th>\n      <td>NaN</td>\n      <td>NaN</td>\n      <td>Standard</td>\n      <td>NaN</td>\n      <td>Standard</td>\n    </tr>\n    <tr>\n      <th>Track_Type</th>\n      <td>NaN</td>\n      <td>NaN</td>\n      <td>NaN</td>\n      <td>NaN</td>\n      <td>NaN</td>\n    </tr>\n    <tr>\n      <th>Undercarriage_Pad_Width</th>\n      <td>NaN</td>\n      <td>NaN</td>\n      <td>NaN</td>\n      <td>NaN</td>\n      <td>NaN</td>\n    </tr>\n    <tr>\n      <th>Stick_Length</th>\n      <td>NaN</td>\n      <td>NaN</td>\n      <td>NaN</td>\n      <td>NaN</td>\n      <td>NaN</td>\n    </tr>\n    <tr>\n      <th>Thumb</th>\n      <td>NaN</td>\n      <td>NaN</td>\n      <td>NaN</td>\n      <td>NaN</td>\n      <td>NaN</td>\n    </tr>\n    <tr>\n      <th>Pattern_Changer</th>\n      <td>NaN</td>\n      <td>NaN</td>\n      <td>NaN</td>\n      <td>NaN</td>\n      <td>NaN</td>\n    </tr>\n    <tr>\n      <th>Grouser_Type</th>\n      <td>NaN</td>\n      <td>NaN</td>\n      <td>NaN</td>\n      <td>NaN</td>\n      <td>NaN</td>\n    </tr>\n    <tr>\n      <th>Backhoe_Mounting</th>\n      <td>NaN</td>\n      <td>NaN</td>\n      <td>NaN</td>\n      <td>NaN</td>\n      <td>NaN</td>\n    </tr>\n    <tr>\n      <th>Blade_Type</th>\n      <td>NaN</td>\n      <td>NaN</td>\n      <td>NaN</td>\n      <td>NaN</td>\n      <td>NaN</td>\n    </tr>\n    <tr>\n      <th>Travel_Controls</th>\n      <td>NaN</td>\n      <td>NaN</td>\n      <td>NaN</td>\n      <td>NaN</td>\n      <td>NaN</td>\n    </tr>\n    <tr>\n      <th>Differential_Type</th>\n      <td>Standard</td>\n      <td>Standard</td>\n      <td>NaN</td>\n      <td>NaN</td>\n      <td>NaN</td>\n    </tr>\n    <tr>\n      <th>Steering_Controls</th>\n      <td>Conventional</td>\n      <td>Conventional</td>\n      <td>NaN</td>\n      <td>NaN</td>\n      <td>NaN</td>\n    </tr>\n  </tbody>\n</table>\n</div>"
     },
     "execution_count": 31,
     "metadata": {},
     "output_type": "execute_result"
    }
   ],
   "source": [
    "df.head().T"
   ],
   "metadata": {
    "collapsed": false,
    "ExecuteTime": {
     "end_time": "2024-04-24T09:08:54.779032700Z",
     "start_time": "2024-04-24T09:08:54.755528500Z"
    }
   },
   "id": "19d3edc74a98c0b1",
   "execution_count": 31
  },
  {
   "cell_type": "markdown",
   "source": [
    "### Sort DataFrame by saledate\n",
    "\n",
    "Sorting by date is useful when working with time series data.\n",
    "\n"
   ],
   "metadata": {
    "collapsed": false
   },
   "id": "18af35abc380095c"
  },
  {
   "cell_type": "code",
   "outputs": [
    {
     "data": {
      "text/plain": "205615   1989-01-17\n274835   1989-01-31\n141296   1989-01-31\n212552   1989-01-31\n62755    1989-01-31\n54653    1989-01-31\n81383    1989-01-31\n204924   1989-01-31\n135376   1989-01-31\n113390   1989-01-31\n113394   1989-01-31\n116419   1989-01-31\n32138    1989-01-31\n127610   1989-01-31\n76171    1989-01-31\n127000   1989-01-31\n128130   1989-01-31\n127626   1989-01-31\n55455    1989-01-31\n55454    1989-01-31\nName: saledate, dtype: datetime64[ns]"
     },
     "execution_count": 32,
     "metadata": {},
     "output_type": "execute_result"
    }
   ],
   "source": [
    "# Sort DataFrane ub date order\n",
    "df.sort_values(by=['saledate'],inplace=True ,ascending=True)\n",
    "df.saledate.head(20)"
   ],
   "metadata": {
    "collapsed": false,
    "ExecuteTime": {
     "end_time": "2024-04-24T09:08:55.116591700Z",
     "start_time": "2024-04-24T09:08:54.766030700Z"
    }
   },
   "id": "32588bd55ad3ef7e",
   "execution_count": 32
  },
  {
   "cell_type": "markdown",
   "source": [
    "### Make a copy of the original DataFrame\n",
    "\n",
    "Keeping the original DataFrame as a backup\n"
   ],
   "metadata": {
    "collapsed": false
   },
   "id": "bf31fcd2cc3c6b6c"
  },
  {
   "cell_type": "code",
   "outputs": [],
   "source": [
    "df_temp = df.copy()"
   ],
   "metadata": {
    "collapsed": false,
    "ExecuteTime": {
     "end_time": "2024-04-24T09:08:55.244614Z",
     "start_time": "2024-04-24T09:08:55.118097300Z"
    }
   },
   "id": "7b63f2167bc1cc5b",
   "execution_count": 33
  },
  {
   "cell_type": "code",
   "outputs": [
    {
     "data": {
      "text/plain": "        SalesID  SalePrice  MachineID  ModelID  datasource  auctioneerID  \\\n205615  1646770     9500.0    1126363     8434         132          18.0   \n274835  1821514    14000.0    1194089    10150         132          99.0   \n141296  1505138    50000.0    1473654     4139         132          99.0   \n212552  1671174    16000.0    1327630     8591         132          99.0   \n62755   1329056    22000.0    1336053     4089         132          99.0   \n\n        YearMade  MachineHoursCurrentMeter UsageBand   saledate  ...  \\\n205615      1974                       NaN       NaN 1989-01-17  ...   \n274835      1980                       NaN       NaN 1989-01-31  ...   \n141296      1978                       NaN       NaN 1989-01-31  ...   \n212552      1980                       NaN       NaN 1989-01-31  ...   \n62755       1984                       NaN       NaN 1989-01-31  ...   \n\n       Undercarriage_Pad_Width Stick_Length Thumb Pattern_Changer  \\\n205615                     NaN          NaN   NaN             NaN   \n274835                     NaN          NaN   NaN             NaN   \n141296                     NaN          NaN   NaN             NaN   \n212552                     NaN          NaN   NaN             NaN   \n62755                      NaN          NaN   NaN             NaN   \n\n       Grouser_Type     Backhoe_Mounting Blade_Type      Travel_Controls  \\\n205615          NaN  None or Unspecified   Straight  None or Unspecified   \n274835          NaN                  NaN        NaN                  NaN   \n141296          NaN  None or Unspecified   Straight  None or Unspecified   \n212552          NaN                  NaN        NaN                  NaN   \n62755           NaN  None or Unspecified        PAT                Lever   \n\n       Differential_Type Steering_Controls  \n205615               NaN               NaN  \n274835          Standard      Conventional  \n141296               NaN               NaN  \n212552          Standard      Conventional  \n62755                NaN               NaN  \n\n[5 rows x 53 columns]",
      "text/html": "<div>\n<style scoped>\n    .dataframe tbody tr th:only-of-type {\n        vertical-align: middle;\n    }\n\n    .dataframe tbody tr th {\n        vertical-align: top;\n    }\n\n    .dataframe thead th {\n        text-align: right;\n    }\n</style>\n<table border=\"1\" class=\"dataframe\">\n  <thead>\n    <tr style=\"text-align: right;\">\n      <th></th>\n      <th>SalesID</th>\n      <th>SalePrice</th>\n      <th>MachineID</th>\n      <th>ModelID</th>\n      <th>datasource</th>\n      <th>auctioneerID</th>\n      <th>YearMade</th>\n      <th>MachineHoursCurrentMeter</th>\n      <th>UsageBand</th>\n      <th>saledate</th>\n      <th>...</th>\n      <th>Undercarriage_Pad_Width</th>\n      <th>Stick_Length</th>\n      <th>Thumb</th>\n      <th>Pattern_Changer</th>\n      <th>Grouser_Type</th>\n      <th>Backhoe_Mounting</th>\n      <th>Blade_Type</th>\n      <th>Travel_Controls</th>\n      <th>Differential_Type</th>\n      <th>Steering_Controls</th>\n    </tr>\n  </thead>\n  <tbody>\n    <tr>\n      <th>205615</th>\n      <td>1646770</td>\n      <td>9500.0</td>\n      <td>1126363</td>\n      <td>8434</td>\n      <td>132</td>\n      <td>18.0</td>\n      <td>1974</td>\n      <td>NaN</td>\n      <td>NaN</td>\n      <td>1989-01-17</td>\n      <td>...</td>\n      <td>NaN</td>\n      <td>NaN</td>\n      <td>NaN</td>\n      <td>NaN</td>\n      <td>NaN</td>\n      <td>None or Unspecified</td>\n      <td>Straight</td>\n      <td>None or Unspecified</td>\n      <td>NaN</td>\n      <td>NaN</td>\n    </tr>\n    <tr>\n      <th>274835</th>\n      <td>1821514</td>\n      <td>14000.0</td>\n      <td>1194089</td>\n      <td>10150</td>\n      <td>132</td>\n      <td>99.0</td>\n      <td>1980</td>\n      <td>NaN</td>\n      <td>NaN</td>\n      <td>1989-01-31</td>\n      <td>...</td>\n      <td>NaN</td>\n      <td>NaN</td>\n      <td>NaN</td>\n      <td>NaN</td>\n      <td>NaN</td>\n      <td>NaN</td>\n      <td>NaN</td>\n      <td>NaN</td>\n      <td>Standard</td>\n      <td>Conventional</td>\n    </tr>\n    <tr>\n      <th>141296</th>\n      <td>1505138</td>\n      <td>50000.0</td>\n      <td>1473654</td>\n      <td>4139</td>\n      <td>132</td>\n      <td>99.0</td>\n      <td>1978</td>\n      <td>NaN</td>\n      <td>NaN</td>\n      <td>1989-01-31</td>\n      <td>...</td>\n      <td>NaN</td>\n      <td>NaN</td>\n      <td>NaN</td>\n      <td>NaN</td>\n      <td>NaN</td>\n      <td>None or Unspecified</td>\n      <td>Straight</td>\n      <td>None or Unspecified</td>\n      <td>NaN</td>\n      <td>NaN</td>\n    </tr>\n    <tr>\n      <th>212552</th>\n      <td>1671174</td>\n      <td>16000.0</td>\n      <td>1327630</td>\n      <td>8591</td>\n      <td>132</td>\n      <td>99.0</td>\n      <td>1980</td>\n      <td>NaN</td>\n      <td>NaN</td>\n      <td>1989-01-31</td>\n      <td>...</td>\n      <td>NaN</td>\n      <td>NaN</td>\n      <td>NaN</td>\n      <td>NaN</td>\n      <td>NaN</td>\n      <td>NaN</td>\n      <td>NaN</td>\n      <td>NaN</td>\n      <td>Standard</td>\n      <td>Conventional</td>\n    </tr>\n    <tr>\n      <th>62755</th>\n      <td>1329056</td>\n      <td>22000.0</td>\n      <td>1336053</td>\n      <td>4089</td>\n      <td>132</td>\n      <td>99.0</td>\n      <td>1984</td>\n      <td>NaN</td>\n      <td>NaN</td>\n      <td>1989-01-31</td>\n      <td>...</td>\n      <td>NaN</td>\n      <td>NaN</td>\n      <td>NaN</td>\n      <td>NaN</td>\n      <td>NaN</td>\n      <td>None or Unspecified</td>\n      <td>PAT</td>\n      <td>Lever</td>\n      <td>NaN</td>\n      <td>NaN</td>\n    </tr>\n  </tbody>\n</table>\n<p>5 rows × 53 columns</p>\n</div>"
     },
     "execution_count": 34,
     "metadata": {},
     "output_type": "execute_result"
    }
   ],
   "source": [
    "df_temp.head()"
   ],
   "metadata": {
    "collapsed": false,
    "ExecuteTime": {
     "end_time": "2024-04-24T09:08:55.267118700Z",
     "start_time": "2024-04-24T09:08:55.245614Z"
    }
   },
   "id": "b903dde5e0955f32",
   "execution_count": 34
  },
  {
   "cell_type": "markdown",
   "source": [
    "### Add datetime parameters of `saledate` column"
   ],
   "metadata": {
    "collapsed": false
   },
   "id": "62fa78089eff0547"
  },
  {
   "cell_type": "code",
   "outputs": [],
   "source": [
    "df_temp['saleYear'] = df_temp['saledate'].dt.year\n",
    "df_temp['saleMonth'] = df_temp['saledate'].dt.month\n",
    "df_temp['saleDay'] = df_temp['saledate'].dt.day\n",
    "df_temp['saleDayOfWeek'] = df_temp['saledate'].dt.dayofweek\n",
    "df_temp['saleDayOfYear'] = df_temp['saledate'].dt.dayofyear"
   ],
   "metadata": {
    "collapsed": false,
    "ExecuteTime": {
     "end_time": "2024-04-24T09:08:55.442648200Z",
     "start_time": "2024-04-24T09:08:55.260616600Z"
    }
   },
   "id": "35055250fd6e4141",
   "execution_count": 35
  },
  {
   "cell_type": "code",
   "outputs": [
    {
     "data": {
      "text/plain": "                                                                     205615  \\\nSalesID                                                             1646770   \nSalePrice                                                            9500.0   \nMachineID                                                           1126363   \nModelID                                                                8434   \ndatasource                                                              132   \nauctioneerID                                                           18.0   \nYearMade                                                               1974   \nMachineHoursCurrentMeter                                                NaN   \nUsageBand                                                               NaN   \nsaledate                                                1989-01-17 00:00:00   \nfiModelDesc                                                            TD20   \nfiBaseModel                                                            TD20   \nfiSecondaryDesc                                                         NaN   \nfiModelSeries                                                           NaN   \nfiModelDescriptor                                                       NaN   \nProductSize                                                          Medium   \nfiProductClassDesc        Track Type Tractor, Dozer - 105.0 to 130.0 Hor...   \nstate                                                                 Texas   \nProductGroup                                                            TTT   \nProductGroupDesc                                        Track Type Tractors   \nDrive_System                                                            NaN   \nEnclosure                                                             OROPS   \nForks                                                                   NaN   \nPad_Type                                                                NaN   \nRide_Control                                                            NaN   \nStick                                                                   NaN   \nTransmission                                                   Direct Drive   \nTurbocharged                                                            NaN   \nBlade_Extension                                                         NaN   \nBlade_Width                                                             NaN   \nEnclosure_Type                                                          NaN   \nEngine_Horsepower                                                       NaN   \nHydraulics                                                          2 Valve   \nPushblock                                                               NaN   \nRipper                                                  None or Unspecified   \nScarifier                                                               NaN   \nTip_Control                                                             NaN   \nTire_Size                                                               NaN   \nCoupler                                                                 NaN   \nCoupler_System                                                          NaN   \nGrouser_Tracks                                                          NaN   \nHydraulics_Flow                                                         NaN   \nTrack_Type                                                              NaN   \nUndercarriage_Pad_Width                                                 NaN   \nStick_Length                                                            NaN   \nThumb                                                                   NaN   \nPattern_Changer                                                         NaN   \nGrouser_Type                                                            NaN   \nBackhoe_Mounting                                        None or Unspecified   \nBlade_Type                                                         Straight   \nTravel_Controls                                         None or Unspecified   \nDifferential_Type                                                       NaN   \nSteering_Controls                                                       NaN   \nsaleYear                                                               1989   \nsaleMonth                                                                 1   \nsaleDay                                                                  17   \nsaleDayOfWeek                                                             1   \nsaleDayOfYear                                                            17   \n\n                                                            274835  \\\nSalesID                                                    1821514   \nSalePrice                                                  14000.0   \nMachineID                                                  1194089   \nModelID                                                      10150   \ndatasource                                                     132   \nauctioneerID                                                  99.0   \nYearMade                                                      1980   \nMachineHoursCurrentMeter                                       NaN   \nUsageBand                                                      NaN   \nsaledate                                       1989-01-31 00:00:00   \nfiModelDesc                                                    A66   \nfiBaseModel                                                    A66   \nfiSecondaryDesc                                                NaN   \nfiModelSeries                                                  NaN   \nfiModelDescriptor                                              NaN   \nProductSize                                                    NaN   \nfiProductClassDesc        Wheel Loader - 120.0 to 135.0 Horsepower   \nstate                                                      Florida   \nProductGroup                                                    WL   \nProductGroupDesc                                      Wheel Loader   \nDrive_System                                                   NaN   \nEnclosure                                                    OROPS   \nForks                                          None or Unspecified   \nPad_Type                                                       NaN   \nRide_Control                                   None or Unspecified   \nStick                                                          NaN   \nTransmission                                                   NaN   \nTurbocharged                                                   NaN   \nBlade_Extension                                                NaN   \nBlade_Width                                                    NaN   \nEnclosure_Type                                                 NaN   \nEngine_Horsepower                                              NaN   \nHydraulics                                                 2 Valve   \nPushblock                                                      NaN   \nRipper                                                         NaN   \nScarifier                                                      NaN   \nTip_Control                                                    NaN   \nTire_Size                                      None or Unspecified   \nCoupler                                        None or Unspecified   \nCoupler_System                                                 NaN   \nGrouser_Tracks                                                 NaN   \nHydraulics_Flow                                                NaN   \nTrack_Type                                                     NaN   \nUndercarriage_Pad_Width                                        NaN   \nStick_Length                                                   NaN   \nThumb                                                          NaN   \nPattern_Changer                                                NaN   \nGrouser_Type                                                   NaN   \nBackhoe_Mounting                                               NaN   \nBlade_Type                                                     NaN   \nTravel_Controls                                                NaN   \nDifferential_Type                                         Standard   \nSteering_Controls                                     Conventional   \nsaleYear                                                      1989   \nsaleMonth                                                        1   \nsaleDay                                                         31   \nsaleDayOfWeek                                                    1   \nsaleDayOfYear                                                   31   \n\n                                                                     141296  \\\nSalesID                                                             1505138   \nSalePrice                                                           50000.0   \nMachineID                                                           1473654   \nModelID                                                                4139   \ndatasource                                                              132   \nauctioneerID                                                           99.0   \nYearMade                                                               1978   \nMachineHoursCurrentMeter                                                NaN   \nUsageBand                                                               NaN   \nsaledate                                                1989-01-31 00:00:00   \nfiModelDesc                                                             D7G   \nfiBaseModel                                                              D7   \nfiSecondaryDesc                                                           G   \nfiModelSeries                                                           NaN   \nfiModelDescriptor                                                       NaN   \nProductSize                                                           Large   \nfiProductClassDesc        Track Type Tractor, Dozer - 190.0 to 260.0 Hor...   \nstate                                                               Florida   \nProductGroup                                                            TTT   \nProductGroupDesc                                        Track Type Tractors   \nDrive_System                                                            NaN   \nEnclosure                                                             OROPS   \nForks                                                                   NaN   \nPad_Type                                                                NaN   \nRide_Control                                                            NaN   \nStick                                                                   NaN   \nTransmission                                                       Standard   \nTurbocharged                                                            NaN   \nBlade_Extension                                                         NaN   \nBlade_Width                                                             NaN   \nEnclosure_Type                                                          NaN   \nEngine_Horsepower                                                       NaN   \nHydraulics                                                          2 Valve   \nPushblock                                                               NaN   \nRipper                                                  None or Unspecified   \nScarifier                                                               NaN   \nTip_Control                                                             NaN   \nTire_Size                                                               NaN   \nCoupler                                                                 NaN   \nCoupler_System                                                          NaN   \nGrouser_Tracks                                                          NaN   \nHydraulics_Flow                                                         NaN   \nTrack_Type                                                              NaN   \nUndercarriage_Pad_Width                                                 NaN   \nStick_Length                                                            NaN   \nThumb                                                                   NaN   \nPattern_Changer                                                         NaN   \nGrouser_Type                                                            NaN   \nBackhoe_Mounting                                        None or Unspecified   \nBlade_Type                                                         Straight   \nTravel_Controls                                         None or Unspecified   \nDifferential_Type                                                       NaN   \nSteering_Controls                                                       NaN   \nsaleYear                                                               1989   \nsaleMonth                                                                 1   \nsaleDay                                                                  31   \nsaleDayOfWeek                                                             1   \nsaleDayOfYear                                                            31   \n\n                                               212552  \\\nSalesID                                       1671174   \nSalePrice                                     16000.0   \nMachineID                                     1327630   \nModelID                                          8591   \ndatasource                                        132   \nauctioneerID                                     99.0   \nYearMade                                         1980   \nMachineHoursCurrentMeter                          NaN   \nUsageBand                                         NaN   \nsaledate                          1989-01-31 00:00:00   \nfiModelDesc                                       A62   \nfiBaseModel                                       A62   \nfiSecondaryDesc                                   NaN   \nfiModelSeries                                     NaN   \nfiModelDescriptor                                 NaN   \nProductSize                                       NaN   \nfiProductClassDesc        Wheel Loader - Unidentified   \nstate                                         Florida   \nProductGroup                                       WL   \nProductGroupDesc                         Wheel Loader   \nDrive_System                                      NaN   \nEnclosure                                       EROPS   \nForks                             None or Unspecified   \nPad_Type                                          NaN   \nRide_Control                      None or Unspecified   \nStick                                             NaN   \nTransmission                                      NaN   \nTurbocharged                                      NaN   \nBlade_Extension                                   NaN   \nBlade_Width                                       NaN   \nEnclosure_Type                                    NaN   \nEngine_Horsepower                                 NaN   \nHydraulics                                    2 Valve   \nPushblock                                         NaN   \nRipper                                            NaN   \nScarifier                                         NaN   \nTip_Control                                       NaN   \nTire_Size                         None or Unspecified   \nCoupler                           None or Unspecified   \nCoupler_System                                    NaN   \nGrouser_Tracks                                    NaN   \nHydraulics_Flow                                   NaN   \nTrack_Type                                        NaN   \nUndercarriage_Pad_Width                           NaN   \nStick_Length                                      NaN   \nThumb                                             NaN   \nPattern_Changer                                   NaN   \nGrouser_Type                                      NaN   \nBackhoe_Mounting                                  NaN   \nBlade_Type                                        NaN   \nTravel_Controls                                   NaN   \nDifferential_Type                            Standard   \nSteering_Controls                        Conventional   \nsaleYear                                         1989   \nsaleMonth                                           1   \nsaleDay                                            31   \nsaleDayOfWeek                                       1   \nsaleDayOfYear                                      31   \n\n                                                                     62755   \nSalesID                                                             1329056  \nSalePrice                                                           22000.0  \nMachineID                                                           1336053  \nModelID                                                                4089  \ndatasource                                                              132  \nauctioneerID                                                           99.0  \nYearMade                                                               1984  \nMachineHoursCurrentMeter                                                NaN  \nUsageBand                                                               NaN  \nsaledate                                                1989-01-31 00:00:00  \nfiModelDesc                                                             D3B  \nfiBaseModel                                                              D3  \nfiSecondaryDesc                                                           B  \nfiModelSeries                                                           NaN  \nfiModelDescriptor                                                       NaN  \nProductSize                                                             NaN  \nfiProductClassDesc        Track Type Tractor, Dozer - 20.0 to 75.0 Horse...  \nstate                                                               Florida  \nProductGroup                                                            TTT  \nProductGroupDesc                                        Track Type Tractors  \nDrive_System                                                            NaN  \nEnclosure                                                             OROPS  \nForks                                                                   NaN  \nPad_Type                                                                NaN  \nRide_Control                                                            NaN  \nStick                                                                   NaN  \nTransmission                                                       Standard  \nTurbocharged                                                            NaN  \nBlade_Extension                                                         NaN  \nBlade_Width                                                             NaN  \nEnclosure_Type                                                          NaN  \nEngine_Horsepower                                                       NaN  \nHydraulics                                                          2 Valve  \nPushblock                                                               NaN  \nRipper                                                  None or Unspecified  \nScarifier                                                               NaN  \nTip_Control                                                             NaN  \nTire_Size                                                               NaN  \nCoupler                                                                 NaN  \nCoupler_System                                                          NaN  \nGrouser_Tracks                                                          NaN  \nHydraulics_Flow                                                         NaN  \nTrack_Type                                                              NaN  \nUndercarriage_Pad_Width                                                 NaN  \nStick_Length                                                            NaN  \nThumb                                                                   NaN  \nPattern_Changer                                                         NaN  \nGrouser_Type                                                            NaN  \nBackhoe_Mounting                                        None or Unspecified  \nBlade_Type                                                              PAT  \nTravel_Controls                                                       Lever  \nDifferential_Type                                                       NaN  \nSteering_Controls                                                       NaN  \nsaleYear                                                               1989  \nsaleMonth                                                                 1  \nsaleDay                                                                  31  \nsaleDayOfWeek                                                             1  \nsaleDayOfYear                                                            31  ",
      "text/html": "<div>\n<style scoped>\n    .dataframe tbody tr th:only-of-type {\n        vertical-align: middle;\n    }\n\n    .dataframe tbody tr th {\n        vertical-align: top;\n    }\n\n    .dataframe thead th {\n        text-align: right;\n    }\n</style>\n<table border=\"1\" class=\"dataframe\">\n  <thead>\n    <tr style=\"text-align: right;\">\n      <th></th>\n      <th>205615</th>\n      <th>274835</th>\n      <th>141296</th>\n      <th>212552</th>\n      <th>62755</th>\n    </tr>\n  </thead>\n  <tbody>\n    <tr>\n      <th>SalesID</th>\n      <td>1646770</td>\n      <td>1821514</td>\n      <td>1505138</td>\n      <td>1671174</td>\n      <td>1329056</td>\n    </tr>\n    <tr>\n      <th>SalePrice</th>\n      <td>9500.0</td>\n      <td>14000.0</td>\n      <td>50000.0</td>\n      <td>16000.0</td>\n      <td>22000.0</td>\n    </tr>\n    <tr>\n      <th>MachineID</th>\n      <td>1126363</td>\n      <td>1194089</td>\n      <td>1473654</td>\n      <td>1327630</td>\n      <td>1336053</td>\n    </tr>\n    <tr>\n      <th>ModelID</th>\n      <td>8434</td>\n      <td>10150</td>\n      <td>4139</td>\n      <td>8591</td>\n      <td>4089</td>\n    </tr>\n    <tr>\n      <th>datasource</th>\n      <td>132</td>\n      <td>132</td>\n      <td>132</td>\n      <td>132</td>\n      <td>132</td>\n    </tr>\n    <tr>\n      <th>auctioneerID</th>\n      <td>18.0</td>\n      <td>99.0</td>\n      <td>99.0</td>\n      <td>99.0</td>\n      <td>99.0</td>\n    </tr>\n    <tr>\n      <th>YearMade</th>\n      <td>1974</td>\n      <td>1980</td>\n      <td>1978</td>\n      <td>1980</td>\n      <td>1984</td>\n    </tr>\n    <tr>\n      <th>MachineHoursCurrentMeter</th>\n      <td>NaN</td>\n      <td>NaN</td>\n      <td>NaN</td>\n      <td>NaN</td>\n      <td>NaN</td>\n    </tr>\n    <tr>\n      <th>UsageBand</th>\n      <td>NaN</td>\n      <td>NaN</td>\n      <td>NaN</td>\n      <td>NaN</td>\n      <td>NaN</td>\n    </tr>\n    <tr>\n      <th>saledate</th>\n      <td>1989-01-17 00:00:00</td>\n      <td>1989-01-31 00:00:00</td>\n      <td>1989-01-31 00:00:00</td>\n      <td>1989-01-31 00:00:00</td>\n      <td>1989-01-31 00:00:00</td>\n    </tr>\n    <tr>\n      <th>fiModelDesc</th>\n      <td>TD20</td>\n      <td>A66</td>\n      <td>D7G</td>\n      <td>A62</td>\n      <td>D3B</td>\n    </tr>\n    <tr>\n      <th>fiBaseModel</th>\n      <td>TD20</td>\n      <td>A66</td>\n      <td>D7</td>\n      <td>A62</td>\n      <td>D3</td>\n    </tr>\n    <tr>\n      <th>fiSecondaryDesc</th>\n      <td>NaN</td>\n      <td>NaN</td>\n      <td>G</td>\n      <td>NaN</td>\n      <td>B</td>\n    </tr>\n    <tr>\n      <th>fiModelSeries</th>\n      <td>NaN</td>\n      <td>NaN</td>\n      <td>NaN</td>\n      <td>NaN</td>\n      <td>NaN</td>\n    </tr>\n    <tr>\n      <th>fiModelDescriptor</th>\n      <td>NaN</td>\n      <td>NaN</td>\n      <td>NaN</td>\n      <td>NaN</td>\n      <td>NaN</td>\n    </tr>\n    <tr>\n      <th>ProductSize</th>\n      <td>Medium</td>\n      <td>NaN</td>\n      <td>Large</td>\n      <td>NaN</td>\n      <td>NaN</td>\n    </tr>\n    <tr>\n      <th>fiProductClassDesc</th>\n      <td>Track Type Tractor, Dozer - 105.0 to 130.0 Hor...</td>\n      <td>Wheel Loader - 120.0 to 135.0 Horsepower</td>\n      <td>Track Type Tractor, Dozer - 190.0 to 260.0 Hor...</td>\n      <td>Wheel Loader - Unidentified</td>\n      <td>Track Type Tractor, Dozer - 20.0 to 75.0 Horse...</td>\n    </tr>\n    <tr>\n      <th>state</th>\n      <td>Texas</td>\n      <td>Florida</td>\n      <td>Florida</td>\n      <td>Florida</td>\n      <td>Florida</td>\n    </tr>\n    <tr>\n      <th>ProductGroup</th>\n      <td>TTT</td>\n      <td>WL</td>\n      <td>TTT</td>\n      <td>WL</td>\n      <td>TTT</td>\n    </tr>\n    <tr>\n      <th>ProductGroupDesc</th>\n      <td>Track Type Tractors</td>\n      <td>Wheel Loader</td>\n      <td>Track Type Tractors</td>\n      <td>Wheel Loader</td>\n      <td>Track Type Tractors</td>\n    </tr>\n    <tr>\n      <th>Drive_System</th>\n      <td>NaN</td>\n      <td>NaN</td>\n      <td>NaN</td>\n      <td>NaN</td>\n      <td>NaN</td>\n    </tr>\n    <tr>\n      <th>Enclosure</th>\n      <td>OROPS</td>\n      <td>OROPS</td>\n      <td>OROPS</td>\n      <td>EROPS</td>\n      <td>OROPS</td>\n    </tr>\n    <tr>\n      <th>Forks</th>\n      <td>NaN</td>\n      <td>None or Unspecified</td>\n      <td>NaN</td>\n      <td>None or Unspecified</td>\n      <td>NaN</td>\n    </tr>\n    <tr>\n      <th>Pad_Type</th>\n      <td>NaN</td>\n      <td>NaN</td>\n      <td>NaN</td>\n      <td>NaN</td>\n      <td>NaN</td>\n    </tr>\n    <tr>\n      <th>Ride_Control</th>\n      <td>NaN</td>\n      <td>None or Unspecified</td>\n      <td>NaN</td>\n      <td>None or Unspecified</td>\n      <td>NaN</td>\n    </tr>\n    <tr>\n      <th>Stick</th>\n      <td>NaN</td>\n      <td>NaN</td>\n      <td>NaN</td>\n      <td>NaN</td>\n      <td>NaN</td>\n    </tr>\n    <tr>\n      <th>Transmission</th>\n      <td>Direct Drive</td>\n      <td>NaN</td>\n      <td>Standard</td>\n      <td>NaN</td>\n      <td>Standard</td>\n    </tr>\n    <tr>\n      <th>Turbocharged</th>\n      <td>NaN</td>\n      <td>NaN</td>\n      <td>NaN</td>\n      <td>NaN</td>\n      <td>NaN</td>\n    </tr>\n    <tr>\n      <th>Blade_Extension</th>\n      <td>NaN</td>\n      <td>NaN</td>\n      <td>NaN</td>\n      <td>NaN</td>\n      <td>NaN</td>\n    </tr>\n    <tr>\n      <th>Blade_Width</th>\n      <td>NaN</td>\n      <td>NaN</td>\n      <td>NaN</td>\n      <td>NaN</td>\n      <td>NaN</td>\n    </tr>\n    <tr>\n      <th>Enclosure_Type</th>\n      <td>NaN</td>\n      <td>NaN</td>\n      <td>NaN</td>\n      <td>NaN</td>\n      <td>NaN</td>\n    </tr>\n    <tr>\n      <th>Engine_Horsepower</th>\n      <td>NaN</td>\n      <td>NaN</td>\n      <td>NaN</td>\n      <td>NaN</td>\n      <td>NaN</td>\n    </tr>\n    <tr>\n      <th>Hydraulics</th>\n      <td>2 Valve</td>\n      <td>2 Valve</td>\n      <td>2 Valve</td>\n      <td>2 Valve</td>\n      <td>2 Valve</td>\n    </tr>\n    <tr>\n      <th>Pushblock</th>\n      <td>NaN</td>\n      <td>NaN</td>\n      <td>NaN</td>\n      <td>NaN</td>\n      <td>NaN</td>\n    </tr>\n    <tr>\n      <th>Ripper</th>\n      <td>None or Unspecified</td>\n      <td>NaN</td>\n      <td>None or Unspecified</td>\n      <td>NaN</td>\n      <td>None or Unspecified</td>\n    </tr>\n    <tr>\n      <th>Scarifier</th>\n      <td>NaN</td>\n      <td>NaN</td>\n      <td>NaN</td>\n      <td>NaN</td>\n      <td>NaN</td>\n    </tr>\n    <tr>\n      <th>Tip_Control</th>\n      <td>NaN</td>\n      <td>NaN</td>\n      <td>NaN</td>\n      <td>NaN</td>\n      <td>NaN</td>\n    </tr>\n    <tr>\n      <th>Tire_Size</th>\n      <td>NaN</td>\n      <td>None or Unspecified</td>\n      <td>NaN</td>\n      <td>None or Unspecified</td>\n      <td>NaN</td>\n    </tr>\n    <tr>\n      <th>Coupler</th>\n      <td>NaN</td>\n      <td>None or Unspecified</td>\n      <td>NaN</td>\n      <td>None or Unspecified</td>\n      <td>NaN</td>\n    </tr>\n    <tr>\n      <th>Coupler_System</th>\n      <td>NaN</td>\n      <td>NaN</td>\n      <td>NaN</td>\n      <td>NaN</td>\n      <td>NaN</td>\n    </tr>\n    <tr>\n      <th>Grouser_Tracks</th>\n      <td>NaN</td>\n      <td>NaN</td>\n      <td>NaN</td>\n      <td>NaN</td>\n      <td>NaN</td>\n    </tr>\n    <tr>\n      <th>Hydraulics_Flow</th>\n      <td>NaN</td>\n      <td>NaN</td>\n      <td>NaN</td>\n      <td>NaN</td>\n      <td>NaN</td>\n    </tr>\n    <tr>\n      <th>Track_Type</th>\n      <td>NaN</td>\n      <td>NaN</td>\n      <td>NaN</td>\n      <td>NaN</td>\n      <td>NaN</td>\n    </tr>\n    <tr>\n      <th>Undercarriage_Pad_Width</th>\n      <td>NaN</td>\n      <td>NaN</td>\n      <td>NaN</td>\n      <td>NaN</td>\n      <td>NaN</td>\n    </tr>\n    <tr>\n      <th>Stick_Length</th>\n      <td>NaN</td>\n      <td>NaN</td>\n      <td>NaN</td>\n      <td>NaN</td>\n      <td>NaN</td>\n    </tr>\n    <tr>\n      <th>Thumb</th>\n      <td>NaN</td>\n      <td>NaN</td>\n      <td>NaN</td>\n      <td>NaN</td>\n      <td>NaN</td>\n    </tr>\n    <tr>\n      <th>Pattern_Changer</th>\n      <td>NaN</td>\n      <td>NaN</td>\n      <td>NaN</td>\n      <td>NaN</td>\n      <td>NaN</td>\n    </tr>\n    <tr>\n      <th>Grouser_Type</th>\n      <td>NaN</td>\n      <td>NaN</td>\n      <td>NaN</td>\n      <td>NaN</td>\n      <td>NaN</td>\n    </tr>\n    <tr>\n      <th>Backhoe_Mounting</th>\n      <td>None or Unspecified</td>\n      <td>NaN</td>\n      <td>None or Unspecified</td>\n      <td>NaN</td>\n      <td>None or Unspecified</td>\n    </tr>\n    <tr>\n      <th>Blade_Type</th>\n      <td>Straight</td>\n      <td>NaN</td>\n      <td>Straight</td>\n      <td>NaN</td>\n      <td>PAT</td>\n    </tr>\n    <tr>\n      <th>Travel_Controls</th>\n      <td>None or Unspecified</td>\n      <td>NaN</td>\n      <td>None or Unspecified</td>\n      <td>NaN</td>\n      <td>Lever</td>\n    </tr>\n    <tr>\n      <th>Differential_Type</th>\n      <td>NaN</td>\n      <td>Standard</td>\n      <td>NaN</td>\n      <td>Standard</td>\n      <td>NaN</td>\n    </tr>\n    <tr>\n      <th>Steering_Controls</th>\n      <td>NaN</td>\n      <td>Conventional</td>\n      <td>NaN</td>\n      <td>Conventional</td>\n      <td>NaN</td>\n    </tr>\n    <tr>\n      <th>saleYear</th>\n      <td>1989</td>\n      <td>1989</td>\n      <td>1989</td>\n      <td>1989</td>\n      <td>1989</td>\n    </tr>\n    <tr>\n      <th>saleMonth</th>\n      <td>1</td>\n      <td>1</td>\n      <td>1</td>\n      <td>1</td>\n      <td>1</td>\n    </tr>\n    <tr>\n      <th>saleDay</th>\n      <td>17</td>\n      <td>31</td>\n      <td>31</td>\n      <td>31</td>\n      <td>31</td>\n    </tr>\n    <tr>\n      <th>saleDayOfWeek</th>\n      <td>1</td>\n      <td>1</td>\n      <td>1</td>\n      <td>1</td>\n      <td>1</td>\n    </tr>\n    <tr>\n      <th>saleDayOfYear</th>\n      <td>17</td>\n      <td>31</td>\n      <td>31</td>\n      <td>31</td>\n      <td>31</td>\n    </tr>\n  </tbody>\n</table>\n</div>"
     },
     "execution_count": 36,
     "metadata": {},
     "output_type": "execute_result"
    }
   ],
   "source": [
    "df_temp.head().T"
   ],
   "metadata": {
    "collapsed": false,
    "ExecuteTime": {
     "end_time": "2024-04-24T09:08:55.445148600Z",
     "start_time": "2024-04-24T09:08:55.337130Z"
    }
   },
   "id": "aac3f43c815ae979",
   "execution_count": 36
  },
  {
   "cell_type": "code",
   "outputs": [],
   "source": [
    "# Dropping `saledate` since it is no longer needed after enriching\n",
    "df_temp.drop(['saledate'], axis=1, inplace=True)"
   ],
   "metadata": {
    "collapsed": false,
    "ExecuteTime": {
     "end_time": "2024-04-24T09:08:55.546666600Z",
     "start_time": "2024-04-24T09:08:55.350132500Z"
    }
   },
   "id": "769d8e1a994b6934",
   "execution_count": 37
  },
  {
   "cell_type": "code",
   "outputs": [
    {
     "data": {
      "text/plain": "state\nFlorida           67320\nTexas             53110\nCalifornia        29761\nWashington        16222\nGeorgia           14633\nMaryland          13322\nMississippi       13240\nOhio              12369\nIllinois          11540\nColorado          11529\nNew Jersey        11156\nNorth Carolina    10636\nTennessee         10298\nAlabama           10292\nPennsylvania      10234\nSouth Carolina     9951\nArizona            9364\nNew York           8639\nConnecticut        8276\nMinnesota          7885\nMissouri           7178\nNevada             6932\nLouisiana          6627\nKentucky           5351\nMaine              5096\nIndiana            4124\nArkansas           3933\nNew Mexico         3631\nUtah               3046\nUnspecified        2801\nWisconsin          2745\nNew Hampshire      2738\nVirginia           2353\nIdaho              2025\nOregon             1911\nMichigan           1831\nWyoming            1672\nMontana            1336\nIowa               1336\nOklahoma           1326\nNebraska            866\nWest Virginia       840\nKansas              667\nDelaware            510\nNorth Dakota        480\nAlaska              430\nMassachusetts       347\nVermont             300\nSouth Dakota        244\nHawaii              118\nRhode Island         83\nPuerto Rico          42\nWashington DC         2\nName: count, dtype: int64"
     },
     "execution_count": 38,
     "metadata": {},
     "output_type": "execute_result"
    }
   ],
   "source": [
    "# Check the values of the different columns\n",
    "df_temp.state.value_counts()"
   ],
   "metadata": {
    "collapsed": false,
    "ExecuteTime": {
     "end_time": "2024-04-24T09:08:55.633681700Z",
     "start_time": "2024-04-24T09:08:55.502659600Z"
    }
   },
   "id": "46cd603bca49254b",
   "execution_count": 38
  },
  {
   "cell_type": "markdown",
   "source": [
    "# Modelling\n",
    "Starting with model-driven EDA"
   ],
   "metadata": {
    "collapsed": false
   },
   "id": "d833b4a3c8a34e2d"
  },
  {
   "cell_type": "code",
   "outputs": [],
   "source": [
    "# model = RandomForestRegressor(random_state=42) \n",
    "# \n",
    "# model.fit(df_temp.drop(['SalePrice'], axis=1), df_temp['SalePrice'])\n",
    "\n"
   ],
   "metadata": {
    "collapsed": false,
    "ExecuteTime": {
     "end_time": "2024-04-24T09:08:55.634682300Z",
     "start_time": "2024-04-24T09:08:55.525663200Z"
    }
   },
   "id": "3520732488158800",
   "execution_count": 39
  },
  {
   "cell_type": "markdown",
   "source": [
    "### Convert strings to categories"
   ],
   "metadata": {
    "collapsed": false
   },
   "id": "f925e3c9bbab042"
  },
  {
   "cell_type": "code",
   "outputs": [
    {
     "data": {
      "text/plain": "True"
     },
     "execution_count": 40,
     "metadata": {},
     "output_type": "execute_result"
    }
   ],
   "source": [
    "pd.api.types.is_object_dtype(df_temp['UsageBand'])\n",
    "# df_temp.UsageBand.dtype"
   ],
   "metadata": {
    "collapsed": false,
    "ExecuteTime": {
     "end_time": "2024-04-24T09:08:55.673188800Z",
     "start_time": "2024-04-24T09:08:55.530163300Z"
    }
   },
   "id": "6e10dc807085ab2c",
   "execution_count": 40
  },
  {
   "cell_type": "code",
   "outputs": [
    {
     "name": "stdout",
     "output_type": "stream",
     "text": [
      "UsageBand\n",
      "fiModelDesc\n",
      "fiBaseModel\n",
      "fiSecondaryDesc\n",
      "fiModelSeries\n",
      "fiModelDescriptor\n",
      "ProductSize\n",
      "fiProductClassDesc\n",
      "state\n",
      "ProductGroup\n",
      "ProductGroupDesc\n",
      "Drive_System\n",
      "Enclosure\n",
      "Forks\n",
      "Pad_Type\n",
      "Ride_Control\n",
      "Stick\n",
      "Transmission\n",
      "Turbocharged\n",
      "Blade_Extension\n",
      "Blade_Width\n",
      "Enclosure_Type\n",
      "Engine_Horsepower\n",
      "Hydraulics\n",
      "Pushblock\n",
      "Ripper\n",
      "Scarifier\n",
      "Tip_Control\n",
      "Tire_Size\n",
      "Coupler\n",
      "Coupler_System\n",
      "Grouser_Tracks\n",
      "Hydraulics_Flow\n",
      "Track_Type\n",
      "Undercarriage_Pad_Width\n",
      "Stick_Length\n",
      "Thumb\n",
      "Pattern_Changer\n",
      "Grouser_Type\n",
      "Backhoe_Mounting\n",
      "Blade_Type\n",
      "Travel_Controls\n",
      "Differential_Type\n",
      "Steering_Controls\n"
     ]
    }
   ],
   "source": [
    "for label, content in df_temp.items():\n",
    "    if pd.api.types.is_object_dtype(content):\n",
    "        print(label)"
   ],
   "metadata": {
    "collapsed": false,
    "ExecuteTime": {
     "end_time": "2024-04-24T09:08:55.675689400Z",
     "start_time": "2024-04-24T09:08:55.534664600Z"
    }
   },
   "id": "e9ce90283b8a8117",
   "execution_count": 41
  },
  {
   "cell_type": "code",
   "outputs": [
    {
     "name": "stdout",
     "output_type": "stream",
     "text": [
      "fiModelDesc\n",
      "fiBaseModel\n",
      "fiProductClassDesc\n",
      "state\n",
      "ProductGroup\n",
      "ProductGroupDesc\n"
     ]
    }
   ],
   "source": [
    "for label, content in df_temp.items():\n",
    "    if pd.api.types.is_string_dtype(content):\n",
    "        print(label)"
   ],
   "metadata": {
    "collapsed": false,
    "ExecuteTime": {
     "end_time": "2024-04-24T09:08:55.686190800Z",
     "start_time": "2024-04-24T09:08:55.543166300Z"
    }
   },
   "id": "42ca9b08200d9d6e",
   "execution_count": 42
  },
  {
   "cell_type": "code",
   "outputs": [],
   "source": [
    "# Converting all object and string values into category values\n",
    "for label, content in df_temp.items():\n",
    "    if pd.api.types.is_string_dtype(content):\n",
    "        df_temp[label] = content.astype('category').cat.as_ordered()\n",
    "    elif pd.api.types.is_object_dtype(content):\n",
    "        df_temp[label]  = content.astype('category').cat.as_ordered()"
   ],
   "metadata": {
    "collapsed": false,
    "ExecuteTime": {
     "end_time": "2024-04-24T09:08:56.594849300Z",
     "start_time": "2024-04-24T09:08:55.562169300Z"
    }
   },
   "id": "bec2cdf04392f19d",
   "execution_count": 43
  },
  {
   "cell_type": "code",
   "outputs": [
    {
     "name": "stdout",
     "output_type": "stream",
     "text": [
      "<class 'pandas.core.frame.DataFrame'>\n",
      "Index: 412698 entries, 205615 to 409203\n",
      "Data columns (total 57 columns):\n",
      " #   Column                    Non-Null Count   Dtype   \n",
      "---  ------                    --------------   -----   \n",
      " 0   SalesID                   412698 non-null  int64   \n",
      " 1   SalePrice                 412698 non-null  float64 \n",
      " 2   MachineID                 412698 non-null  int64   \n",
      " 3   ModelID                   412698 non-null  int64   \n",
      " 4   datasource                412698 non-null  int64   \n",
      " 5   auctioneerID              392562 non-null  float64 \n",
      " 6   YearMade                  412698 non-null  int64   \n",
      " 7   MachineHoursCurrentMeter  147504 non-null  float64 \n",
      " 8   UsageBand                 73670 non-null   category\n",
      " 9   fiModelDesc               412698 non-null  category\n",
      " 10  fiBaseModel               412698 non-null  category\n",
      " 11  fiSecondaryDesc           271971 non-null  category\n",
      " 12  fiModelSeries             58667 non-null   category\n",
      " 13  fiModelDescriptor         74816 non-null   category\n",
      " 14  ProductSize               196093 non-null  category\n",
      " 15  fiProductClassDesc        412698 non-null  category\n",
      " 16  state                     412698 non-null  category\n",
      " 17  ProductGroup              412698 non-null  category\n",
      " 18  ProductGroupDesc          412698 non-null  category\n",
      " 19  Drive_System              107087 non-null  category\n",
      " 20  Enclosure                 412364 non-null  category\n",
      " 21  Forks                     197715 non-null  category\n",
      " 22  Pad_Type                  81096 non-null   category\n",
      " 23  Ride_Control              152728 non-null  category\n",
      " 24  Stick                     81096 non-null   category\n",
      " 25  Transmission              188007 non-null  category\n",
      " 26  Turbocharged              81096 non-null   category\n",
      " 27  Blade_Extension           25983 non-null   category\n",
      " 28  Blade_Width               25983 non-null   category\n",
      " 29  Enclosure_Type            25983 non-null   category\n",
      " 30  Engine_Horsepower         25983 non-null   category\n",
      " 31  Hydraulics                330133 non-null  category\n",
      " 32  Pushblock                 25983 non-null   category\n",
      " 33  Ripper                    106945 non-null  category\n",
      " 34  Scarifier                 25994 non-null   category\n",
      " 35  Tip_Control               25983 non-null   category\n",
      " 36  Tire_Size                 97638 non-null   category\n",
      " 37  Coupler                   220679 non-null  category\n",
      " 38  Coupler_System            44974 non-null   category\n",
      " 39  Grouser_Tracks            44875 non-null   category\n",
      " 40  Hydraulics_Flow           44875 non-null   category\n",
      " 41  Track_Type                102193 non-null  category\n",
      " 42  Undercarriage_Pad_Width   102916 non-null  category\n",
      " 43  Stick_Length              102261 non-null  category\n",
      " 44  Thumb                     102332 non-null  category\n",
      " 45  Pattern_Changer           102261 non-null  category\n",
      " 46  Grouser_Type              102193 non-null  category\n",
      " 47  Backhoe_Mounting          80712 non-null   category\n",
      " 48  Blade_Type                81875 non-null   category\n",
      " 49  Travel_Controls           81877 non-null   category\n",
      " 50  Differential_Type         71564 non-null   category\n",
      " 51  Steering_Controls         71522 non-null   category\n",
      " 52  saleYear                  412698 non-null  int32   \n",
      " 53  saleMonth                 412698 non-null  int32   \n",
      " 54  saleDay                   412698 non-null  int32   \n",
      " 55  saleDayOfWeek             412698 non-null  int32   \n",
      " 56  saleDayOfYear             412698 non-null  int32   \n",
      "dtypes: category(44), float64(3), int32(5), int64(5)\n",
      "memory usage: 55.4 MB\n"
     ]
    }
   ],
   "source": [
    "df_temp.info()"
   ],
   "metadata": {
    "collapsed": false,
    "ExecuteTime": {
     "end_time": "2024-04-24T09:08:56.651359300Z",
     "start_time": "2024-04-24T09:08:56.596349700Z"
    }
   },
   "id": "94989d953d1f366a",
   "execution_count": 44
  },
  {
   "cell_type": "code",
   "outputs": [
    {
     "data": {
      "text/plain": "205615    43\n274835     8\n141296     8\n212552     8\n62755      8\n          ..\n410879     4\n412476     4\n411927     4\n407124     4\n409203     4\nLength: 412698, dtype: int8"
     },
     "execution_count": 45,
     "metadata": {},
     "output_type": "execute_result"
    }
   ],
   "source": [
    "df_temp.state.cat.codes"
   ],
   "metadata": {
    "collapsed": false,
    "ExecuteTime": {
     "end_time": "2024-04-24T09:08:56.666862100Z",
     "start_time": "2024-04-24T09:08:56.651859400Z"
    }
   },
   "id": "62cc23ed8bde9264",
   "execution_count": 45
  },
  {
   "cell_type": "code",
   "outputs": [],
   "source": [
    "# Saving preprocessed data\n",
    "df_temp.to_csv('data/train_temp.csv',\n",
    "               index=False)"
   ],
   "metadata": {
    "collapsed": false,
    "ExecuteTime": {
     "end_time": "2024-04-24T09:09:01.574719400Z",
     "start_time": "2024-04-24T09:08:56.657360600Z"
    }
   },
   "id": "19da927c8f146030",
   "execution_count": 46
  },
  {
   "cell_type": "code",
   "outputs": [
    {
     "data": {
      "text/plain": "   SalesID  SalePrice  MachineID  ModelID  datasource  auctioneerID  YearMade  \\\n0  1646770     9500.0    1126363     8434         132          18.0      1974   \n1  1821514    14000.0    1194089    10150         132          99.0      1980   \n2  1505138    50000.0    1473654     4139         132          99.0      1978   \n3  1671174    16000.0    1327630     8591         132          99.0      1980   \n4  1329056    22000.0    1336053     4089         132          99.0      1984   \n\n   MachineHoursCurrentMeter UsageBand fiModelDesc  ...     Backhoe_Mounting  \\\n0                       NaN       NaN        TD20  ...  None or Unspecified   \n1                       NaN       NaN         A66  ...                  NaN   \n2                       NaN       NaN         D7G  ...  None or Unspecified   \n3                       NaN       NaN         A62  ...                  NaN   \n4                       NaN       NaN         D3B  ...  None or Unspecified   \n\n  Blade_Type      Travel_Controls Differential_Type Steering_Controls  \\\n0   Straight  None or Unspecified               NaN               NaN   \n1        NaN                  NaN          Standard      Conventional   \n2   Straight  None or Unspecified               NaN               NaN   \n3        NaN                  NaN          Standard      Conventional   \n4        PAT                Lever               NaN               NaN   \n\n  saleYear saleMonth saleDay saleDayOfWeek saleDayOfYear  \n0     1989         1      17             1            17  \n1     1989         1      31             1            31  \n2     1989         1      31             1            31  \n3     1989         1      31             1            31  \n4     1989         1      31             1            31  \n\n[5 rows x 57 columns]",
      "text/html": "<div>\n<style scoped>\n    .dataframe tbody tr th:only-of-type {\n        vertical-align: middle;\n    }\n\n    .dataframe tbody tr th {\n        vertical-align: top;\n    }\n\n    .dataframe thead th {\n        text-align: right;\n    }\n</style>\n<table border=\"1\" class=\"dataframe\">\n  <thead>\n    <tr style=\"text-align: right;\">\n      <th></th>\n      <th>SalesID</th>\n      <th>SalePrice</th>\n      <th>MachineID</th>\n      <th>ModelID</th>\n      <th>datasource</th>\n      <th>auctioneerID</th>\n      <th>YearMade</th>\n      <th>MachineHoursCurrentMeter</th>\n      <th>UsageBand</th>\n      <th>fiModelDesc</th>\n      <th>...</th>\n      <th>Backhoe_Mounting</th>\n      <th>Blade_Type</th>\n      <th>Travel_Controls</th>\n      <th>Differential_Type</th>\n      <th>Steering_Controls</th>\n      <th>saleYear</th>\n      <th>saleMonth</th>\n      <th>saleDay</th>\n      <th>saleDayOfWeek</th>\n      <th>saleDayOfYear</th>\n    </tr>\n  </thead>\n  <tbody>\n    <tr>\n      <th>0</th>\n      <td>1646770</td>\n      <td>9500.0</td>\n      <td>1126363</td>\n      <td>8434</td>\n      <td>132</td>\n      <td>18.0</td>\n      <td>1974</td>\n      <td>NaN</td>\n      <td>NaN</td>\n      <td>TD20</td>\n      <td>...</td>\n      <td>None or Unspecified</td>\n      <td>Straight</td>\n      <td>None or Unspecified</td>\n      <td>NaN</td>\n      <td>NaN</td>\n      <td>1989</td>\n      <td>1</td>\n      <td>17</td>\n      <td>1</td>\n      <td>17</td>\n    </tr>\n    <tr>\n      <th>1</th>\n      <td>1821514</td>\n      <td>14000.0</td>\n      <td>1194089</td>\n      <td>10150</td>\n      <td>132</td>\n      <td>99.0</td>\n      <td>1980</td>\n      <td>NaN</td>\n      <td>NaN</td>\n      <td>A66</td>\n      <td>...</td>\n      <td>NaN</td>\n      <td>NaN</td>\n      <td>NaN</td>\n      <td>Standard</td>\n      <td>Conventional</td>\n      <td>1989</td>\n      <td>1</td>\n      <td>31</td>\n      <td>1</td>\n      <td>31</td>\n    </tr>\n    <tr>\n      <th>2</th>\n      <td>1505138</td>\n      <td>50000.0</td>\n      <td>1473654</td>\n      <td>4139</td>\n      <td>132</td>\n      <td>99.0</td>\n      <td>1978</td>\n      <td>NaN</td>\n      <td>NaN</td>\n      <td>D7G</td>\n      <td>...</td>\n      <td>None or Unspecified</td>\n      <td>Straight</td>\n      <td>None or Unspecified</td>\n      <td>NaN</td>\n      <td>NaN</td>\n      <td>1989</td>\n      <td>1</td>\n      <td>31</td>\n      <td>1</td>\n      <td>31</td>\n    </tr>\n    <tr>\n      <th>3</th>\n      <td>1671174</td>\n      <td>16000.0</td>\n      <td>1327630</td>\n      <td>8591</td>\n      <td>132</td>\n      <td>99.0</td>\n      <td>1980</td>\n      <td>NaN</td>\n      <td>NaN</td>\n      <td>A62</td>\n      <td>...</td>\n      <td>NaN</td>\n      <td>NaN</td>\n      <td>NaN</td>\n      <td>Standard</td>\n      <td>Conventional</td>\n      <td>1989</td>\n      <td>1</td>\n      <td>31</td>\n      <td>1</td>\n      <td>31</td>\n    </tr>\n    <tr>\n      <th>4</th>\n      <td>1329056</td>\n      <td>22000.0</td>\n      <td>1336053</td>\n      <td>4089</td>\n      <td>132</td>\n      <td>99.0</td>\n      <td>1984</td>\n      <td>NaN</td>\n      <td>NaN</td>\n      <td>D3B</td>\n      <td>...</td>\n      <td>None or Unspecified</td>\n      <td>PAT</td>\n      <td>Lever</td>\n      <td>NaN</td>\n      <td>NaN</td>\n      <td>1989</td>\n      <td>1</td>\n      <td>31</td>\n      <td>1</td>\n      <td>31</td>\n    </tr>\n  </tbody>\n</table>\n<p>5 rows × 57 columns</p>\n</div>"
     },
     "execution_count": 47,
     "metadata": {},
     "output_type": "execute_result"
    }
   ],
   "source": [
    "# Importing preprocessed data again\n",
    "df_temp = pd.read_csv('data/train_temp.csv',\n",
    "                      low_memory=False)\n",
    "df_temp.head()"
   ],
   "metadata": {
    "collapsed": false,
    "ExecuteTime": {
     "end_time": "2024-04-24T09:09:03.964637400Z",
     "start_time": "2024-04-24T09:09:01.576218900Z"
    }
   },
   "id": "9a4da220f4e74d7b",
   "execution_count": 47
  },
  {
   "cell_type": "markdown",
   "source": [
    "### Filling missing data\n"
   ],
   "metadata": {
    "collapsed": false
   },
   "id": "5b39e216a2ceab05"
  },
  {
   "cell_type": "markdown",
   "source": [
    "#### Filling missing numeric values"
   ],
   "metadata": {
    "collapsed": false
   },
   "id": "388ce07c7d842070"
  },
  {
   "cell_type": "code",
   "outputs": [
    {
     "name": "stdout",
     "output_type": "stream",
     "text": [
      "SalesID\n",
      "SalePrice\n",
      "MachineID\n",
      "ModelID\n",
      "datasource\n",
      "auctioneerID\n",
      "YearMade\n",
      "MachineHoursCurrentMeter\n",
      "saleYear\n",
      "saleMonth\n",
      "saleDay\n",
      "saleDayOfWeek\n",
      "saleDayOfYear\n"
     ]
    }
   ],
   "source": [
    "for label, content in df_temp.items():\n",
    "    if pd.api.types.is_numeric_dtype(content):\n",
    "        print(label)"
   ],
   "metadata": {
    "collapsed": false,
    "ExecuteTime": {
     "end_time": "2024-04-24T09:09:03.984638500Z",
     "start_time": "2024-04-24T09:09:03.964637400Z"
    }
   },
   "id": "4adafdb1c0d3d24d",
   "execution_count": 48
  },
  {
   "cell_type": "code",
   "outputs": [
    {
     "name": "stdout",
     "output_type": "stream",
     "text": [
      "auctioneerID\n",
      "MachineHoursCurrentMeter\n"
     ]
    }
   ],
   "source": [
    "# Check for which num columns have null values\n",
    "for label, content in df_temp.items():\n",
    "    if pd.api.types.is_numeric_dtype(content):\n",
    "        if pd.isnull(content).sum():\n",
    "            print(label)"
   ],
   "metadata": {
    "collapsed": false,
    "ExecuteTime": {
     "end_time": "2024-04-24T09:09:03.985639Z",
     "start_time": "2024-04-24T09:09:03.972636500Z"
    }
   },
   "id": "8eaec708b5a8061",
   "execution_count": 49
  },
  {
   "cell_type": "code",
   "outputs": [],
   "source": [
    "# Fill with median\n",
    "for label, content in df_temp.items():\n",
    "    if pd.api.types.is_numeric_dtype(content):\n",
    "        if pd.isnull(content).sum():\n",
    "            # Add a binary column if the data is missing or not\n",
    "            df_temp[label + '_is_missing'] = pd.isnull(content)\n",
    "            # Fill missing values\n",
    "            df_temp[label + '_is_missing'] = pd.isnull(content)"
   ],
   "metadata": {
    "collapsed": false,
    "ExecuteTime": {
     "end_time": "2024-04-24T09:09:04.075155400Z",
     "start_time": "2024-04-24T09:09:03.983638400Z"
    }
   },
   "id": "ba96dfd5fa392e75",
   "execution_count": 50
  },
  {
   "cell_type": "code",
   "outputs": [
    {
     "data": {
      "text/plain": "        SalesID  SalePrice  MachineID  ModelID  datasource  auctioneerID  \\\n0       1646770     9500.0    1126363     8434         132          18.0   \n1       1821514    14000.0    1194089    10150         132          99.0   \n2       1505138    50000.0    1473654     4139         132          99.0   \n3       1671174    16000.0    1327630     8591         132          99.0   \n4       1329056    22000.0    1336053     4089         132          99.0   \n...         ...        ...        ...      ...         ...           ...   \n412693  6302984    16000.0    1915521     5266         149          99.0   \n412694  6324811     6000.0    1919104    19330         149          99.0   \n412695  6313029    16000.0    1918416    17244         149          99.0   \n412696  6266251    55000.0     509560     3357         149          99.0   \n412697  6283635    34000.0    1869284     4701         149          99.0   \n\n        YearMade  MachineHoursCurrentMeter UsageBand fiModelDesc  ...  \\\n0           1974                       NaN       NaN        TD20  ...   \n1           1980                       NaN       NaN         A66  ...   \n2           1978                       NaN       NaN         D7G  ...   \n3           1980                       NaN       NaN         A62  ...   \n4           1984                       NaN       NaN         D3B  ...   \n...          ...                       ...       ...         ...  ...   \n412693      2001                       NaN       NaN        D38E  ...   \n412694      2004                       NaN       NaN        2064  ...   \n412695      2004                       NaN       NaN        337G  ...   \n412696      1993                       NaN       NaN         12G  ...   \n412697      1000                       NaN       NaN        544H  ...   \n\n            Travel_Controls Differential_Type Steering_Controls saleYear  \\\n0       None or Unspecified               NaN               NaN     1989   \n1                       NaN          Standard      Conventional     1989   \n2       None or Unspecified               NaN               NaN     1989   \n3                       NaN          Standard      Conventional     1989   \n4                     Lever               NaN               NaN     1989   \n...                     ...               ...               ...      ...   \n412693  None or Unspecified               NaN               NaN     2012   \n412694                  NaN               NaN               NaN     2012   \n412695                  NaN               NaN               NaN     2012   \n412696                  NaN               NaN               NaN     2012   \n412697                  NaN          Standard      Conventional     2012   \n\n       saleMonth saleDay saleDayOfWeek saleDayOfYear auctioneerID_is_missing  \\\n0              1      17             1            17                   False   \n1              1      31             1            31                   False   \n2              1      31             1            31                   False   \n3              1      31             1            31                   False   \n4              1      31             1            31                   False   \n...          ...     ...           ...           ...                     ...   \n412693         4      28             5           119                   False   \n412694         4      28             5           119                   False   \n412695         4      28             5           119                   False   \n412696         4      28             5           119                   False   \n412697         4      28             5           119                   False   \n\n       MachineHoursCurrentMeter_is_missing  \n0                                     True  \n1                                     True  \n2                                     True  \n3                                     True  \n4                                     True  \n...                                    ...  \n412693                                True  \n412694                                True  \n412695                                True  \n412696                                True  \n412697                                True  \n\n[412698 rows x 59 columns]",
      "text/html": "<div>\n<style scoped>\n    .dataframe tbody tr th:only-of-type {\n        vertical-align: middle;\n    }\n\n    .dataframe tbody tr th {\n        vertical-align: top;\n    }\n\n    .dataframe thead th {\n        text-align: right;\n    }\n</style>\n<table border=\"1\" class=\"dataframe\">\n  <thead>\n    <tr style=\"text-align: right;\">\n      <th></th>\n      <th>SalesID</th>\n      <th>SalePrice</th>\n      <th>MachineID</th>\n      <th>ModelID</th>\n      <th>datasource</th>\n      <th>auctioneerID</th>\n      <th>YearMade</th>\n      <th>MachineHoursCurrentMeter</th>\n      <th>UsageBand</th>\n      <th>fiModelDesc</th>\n      <th>...</th>\n      <th>Travel_Controls</th>\n      <th>Differential_Type</th>\n      <th>Steering_Controls</th>\n      <th>saleYear</th>\n      <th>saleMonth</th>\n      <th>saleDay</th>\n      <th>saleDayOfWeek</th>\n      <th>saleDayOfYear</th>\n      <th>auctioneerID_is_missing</th>\n      <th>MachineHoursCurrentMeter_is_missing</th>\n    </tr>\n  </thead>\n  <tbody>\n    <tr>\n      <th>0</th>\n      <td>1646770</td>\n      <td>9500.0</td>\n      <td>1126363</td>\n      <td>8434</td>\n      <td>132</td>\n      <td>18.0</td>\n      <td>1974</td>\n      <td>NaN</td>\n      <td>NaN</td>\n      <td>TD20</td>\n      <td>...</td>\n      <td>None or Unspecified</td>\n      <td>NaN</td>\n      <td>NaN</td>\n      <td>1989</td>\n      <td>1</td>\n      <td>17</td>\n      <td>1</td>\n      <td>17</td>\n      <td>False</td>\n      <td>True</td>\n    </tr>\n    <tr>\n      <th>1</th>\n      <td>1821514</td>\n      <td>14000.0</td>\n      <td>1194089</td>\n      <td>10150</td>\n      <td>132</td>\n      <td>99.0</td>\n      <td>1980</td>\n      <td>NaN</td>\n      <td>NaN</td>\n      <td>A66</td>\n      <td>...</td>\n      <td>NaN</td>\n      <td>Standard</td>\n      <td>Conventional</td>\n      <td>1989</td>\n      <td>1</td>\n      <td>31</td>\n      <td>1</td>\n      <td>31</td>\n      <td>False</td>\n      <td>True</td>\n    </tr>\n    <tr>\n      <th>2</th>\n      <td>1505138</td>\n      <td>50000.0</td>\n      <td>1473654</td>\n      <td>4139</td>\n      <td>132</td>\n      <td>99.0</td>\n      <td>1978</td>\n      <td>NaN</td>\n      <td>NaN</td>\n      <td>D7G</td>\n      <td>...</td>\n      <td>None or Unspecified</td>\n      <td>NaN</td>\n      <td>NaN</td>\n      <td>1989</td>\n      <td>1</td>\n      <td>31</td>\n      <td>1</td>\n      <td>31</td>\n      <td>False</td>\n      <td>True</td>\n    </tr>\n    <tr>\n      <th>3</th>\n      <td>1671174</td>\n      <td>16000.0</td>\n      <td>1327630</td>\n      <td>8591</td>\n      <td>132</td>\n      <td>99.0</td>\n      <td>1980</td>\n      <td>NaN</td>\n      <td>NaN</td>\n      <td>A62</td>\n      <td>...</td>\n      <td>NaN</td>\n      <td>Standard</td>\n      <td>Conventional</td>\n      <td>1989</td>\n      <td>1</td>\n      <td>31</td>\n      <td>1</td>\n      <td>31</td>\n      <td>False</td>\n      <td>True</td>\n    </tr>\n    <tr>\n      <th>4</th>\n      <td>1329056</td>\n      <td>22000.0</td>\n      <td>1336053</td>\n      <td>4089</td>\n      <td>132</td>\n      <td>99.0</td>\n      <td>1984</td>\n      <td>NaN</td>\n      <td>NaN</td>\n      <td>D3B</td>\n      <td>...</td>\n      <td>Lever</td>\n      <td>NaN</td>\n      <td>NaN</td>\n      <td>1989</td>\n      <td>1</td>\n      <td>31</td>\n      <td>1</td>\n      <td>31</td>\n      <td>False</td>\n      <td>True</td>\n    </tr>\n    <tr>\n      <th>...</th>\n      <td>...</td>\n      <td>...</td>\n      <td>...</td>\n      <td>...</td>\n      <td>...</td>\n      <td>...</td>\n      <td>...</td>\n      <td>...</td>\n      <td>...</td>\n      <td>...</td>\n      <td>...</td>\n      <td>...</td>\n      <td>...</td>\n      <td>...</td>\n      <td>...</td>\n      <td>...</td>\n      <td>...</td>\n      <td>...</td>\n      <td>...</td>\n      <td>...</td>\n      <td>...</td>\n    </tr>\n    <tr>\n      <th>412693</th>\n      <td>6302984</td>\n      <td>16000.0</td>\n      <td>1915521</td>\n      <td>5266</td>\n      <td>149</td>\n      <td>99.0</td>\n      <td>2001</td>\n      <td>NaN</td>\n      <td>NaN</td>\n      <td>D38E</td>\n      <td>...</td>\n      <td>None or Unspecified</td>\n      <td>NaN</td>\n      <td>NaN</td>\n      <td>2012</td>\n      <td>4</td>\n      <td>28</td>\n      <td>5</td>\n      <td>119</td>\n      <td>False</td>\n      <td>True</td>\n    </tr>\n    <tr>\n      <th>412694</th>\n      <td>6324811</td>\n      <td>6000.0</td>\n      <td>1919104</td>\n      <td>19330</td>\n      <td>149</td>\n      <td>99.0</td>\n      <td>2004</td>\n      <td>NaN</td>\n      <td>NaN</td>\n      <td>2064</td>\n      <td>...</td>\n      <td>NaN</td>\n      <td>NaN</td>\n      <td>NaN</td>\n      <td>2012</td>\n      <td>4</td>\n      <td>28</td>\n      <td>5</td>\n      <td>119</td>\n      <td>False</td>\n      <td>True</td>\n    </tr>\n    <tr>\n      <th>412695</th>\n      <td>6313029</td>\n      <td>16000.0</td>\n      <td>1918416</td>\n      <td>17244</td>\n      <td>149</td>\n      <td>99.0</td>\n      <td>2004</td>\n      <td>NaN</td>\n      <td>NaN</td>\n      <td>337G</td>\n      <td>...</td>\n      <td>NaN</td>\n      <td>NaN</td>\n      <td>NaN</td>\n      <td>2012</td>\n      <td>4</td>\n      <td>28</td>\n      <td>5</td>\n      <td>119</td>\n      <td>False</td>\n      <td>True</td>\n    </tr>\n    <tr>\n      <th>412696</th>\n      <td>6266251</td>\n      <td>55000.0</td>\n      <td>509560</td>\n      <td>3357</td>\n      <td>149</td>\n      <td>99.0</td>\n      <td>1993</td>\n      <td>NaN</td>\n      <td>NaN</td>\n      <td>12G</td>\n      <td>...</td>\n      <td>NaN</td>\n      <td>NaN</td>\n      <td>NaN</td>\n      <td>2012</td>\n      <td>4</td>\n      <td>28</td>\n      <td>5</td>\n      <td>119</td>\n      <td>False</td>\n      <td>True</td>\n    </tr>\n    <tr>\n      <th>412697</th>\n      <td>6283635</td>\n      <td>34000.0</td>\n      <td>1869284</td>\n      <td>4701</td>\n      <td>149</td>\n      <td>99.0</td>\n      <td>1000</td>\n      <td>NaN</td>\n      <td>NaN</td>\n      <td>544H</td>\n      <td>...</td>\n      <td>NaN</td>\n      <td>Standard</td>\n      <td>Conventional</td>\n      <td>2012</td>\n      <td>4</td>\n      <td>28</td>\n      <td>5</td>\n      <td>119</td>\n      <td>False</td>\n      <td>True</td>\n    </tr>\n  </tbody>\n</table>\n<p>412698 rows × 59 columns</p>\n</div>"
     },
     "execution_count": 51,
     "metadata": {},
     "output_type": "execute_result"
    }
   ],
   "source": [
    "df_temp"
   ],
   "metadata": {
    "collapsed": false,
    "ExecuteTime": {
     "end_time": "2024-04-24T09:09:04.210178700Z",
     "start_time": "2024-04-24T09:09:03.995141600Z"
    }
   },
   "id": "dcb8a63ca2ad1ece",
   "execution_count": 51
  },
  {
   "cell_type": "code",
   "outputs": [
    {
     "name": "stdout",
     "output_type": "stream",
     "text": [
      "auctioneerID\n",
      "MachineHoursCurrentMeter\n"
     ]
    }
   ],
   "source": [
    "# Checking again if there's any null numeric values\n",
    "for label, content in df_temp.items():\n",
    "    if pd.api.types.is_numeric_dtype(content):\n",
    "        if pd.isnull(content).sum():\n",
    "            print(label)"
   ],
   "metadata": {
    "collapsed": false,
    "ExecuteTime": {
     "end_time": "2024-04-24T09:09:04.212679700Z",
     "start_time": "2024-04-24T09:09:04.160669500Z"
    }
   },
   "id": "b3bb5b2ea0473316",
   "execution_count": 52
  },
  {
   "cell_type": "code",
   "outputs": [
    {
     "data": {
      "text/plain": "auctioneerID_is_missing\nFalse    392562\nTrue      20136\nName: count, dtype: int64"
     },
     "execution_count": 53,
     "metadata": {},
     "output_type": "execute_result"
    }
   ],
   "source": [
    "df_temp.auctioneerID_is_missing.value_counts()"
   ],
   "metadata": {
    "collapsed": false,
    "ExecuteTime": {
     "end_time": "2024-04-24T09:09:04.214180Z",
     "start_time": "2024-04-24T09:09:04.170671800Z"
    }
   },
   "id": "ab3371defeb99095",
   "execution_count": 53
  },
  {
   "cell_type": "markdown",
   "source": [
    "#### Filling and converting categorical values into numbers"
   ],
   "metadata": {
    "collapsed": false
   },
   "id": "41b292462f3b468"
  },
  {
   "cell_type": "code",
   "outputs": [],
   "source": [
    "for label, content in df_temp.items():\n",
    "    if not pd.api.types.is_numeric_dtype(content):\n",
    "        # Add binary column to indicate whether sample had missing value\n",
    "        df_temp[label+\"_is_missing\"] = pd.isnull(content)\n",
    "        # Turn categories into numbers and add +1\n",
    "        df_temp[label] = pd.Categorical(content).codes+1"
   ],
   "metadata": {
    "collapsed": false,
    "ExecuteTime": {
     "end_time": "2024-04-24T09:09:05.624426Z",
     "start_time": "2024-04-24T09:09:04.177172500Z"
    }
   },
   "id": "83a3e64125d3b64a",
   "execution_count": 54
  },
  {
   "cell_type": "code",
   "outputs": [
    {
     "data": {
      "text/plain": "CategoricalDtype(categories=[ 1,  2,  3,  4,  5,  6,  7,  8,  9, 10, 11, 12, 13, 14, 15,\n                  16, 17, 18, 19, 20, 21, 22, 23, 24, 25, 26, 27, 28, 29, 30,\n                  31, 32, 33, 34, 35, 36, 37, 38, 39, 40, 41, 42, 43, 44, 45,\n                  46, 47, 48, 49, 50, 51, 52, 53],\n, ordered=False, categories_dtype=int8)"
     },
     "execution_count": 55,
     "metadata": {},
     "output_type": "execute_result"
    }
   ],
   "source": [
    "pd.Categorical(df_temp['state']).dtype"
   ],
   "metadata": {
    "collapsed": false,
    "ExecuteTime": {
     "end_time": "2024-04-24T09:09:05.650930200Z",
     "start_time": "2024-04-24T09:09:05.623424600Z"
    }
   },
   "id": "cd5004da3912cb13",
   "execution_count": 55
  },
  {
   "cell_type": "code",
   "outputs": [],
   "source": [
    "for label, content in df_temp.items():\n",
    "    if not pd.api.types.is_numeric_dtype(content):\n",
    "        if pd.isnull(content).sum():\n",
    "            # Add a binary column if the data is missing or not\n",
    "            df_temp[label + '_is_missing'] = pd.isnull(content)\n",
    "            # Fill missing values and add +1\n",
    "            df_temp[label] = pd.Categorical(content).codes + 1  # Pandas adds -1 to certain convertees, not good"
   ],
   "metadata": {
    "collapsed": false,
    "ExecuteTime": {
     "end_time": "2024-04-24T09:09:05.652429800Z",
     "start_time": "2024-04-24T09:09:05.632427500Z"
    }
   },
   "id": "d1fd82c2efd72025",
   "execution_count": 56
  },
  {
   "cell_type": "code",
   "outputs": [
    {
     "name": "stdout",
     "output_type": "stream",
     "text": [
      "<class 'pandas.core.frame.DataFrame'>\n",
      "RangeIndex: 412698 entries, 0 to 412697\n",
      "Columns: 103 entries, SalesID to Steering_Controls_is_missing\n",
      "dtypes: bool(46), float64(3), int16(4), int64(10), int8(40)\n",
      "memory usage: 77.9 MB\n"
     ]
    }
   ],
   "source": [
    "df_temp.info()"
   ],
   "metadata": {
    "collapsed": false,
    "ExecuteTime": {
     "end_time": "2024-04-24T09:09:05.653930500Z",
     "start_time": "2024-04-24T09:09:05.636928400Z"
    }
   },
   "id": "2551d7db54dc6dbb",
   "execution_count": 57
  },
  {
   "cell_type": "code",
   "outputs": [
    {
     "data": {
      "text/plain": "                                    0        1        2        3        4\nSalesID                       1646770  1821514  1505138  1671174  1329056\nSalePrice                      9500.0  14000.0  50000.0  16000.0  22000.0\nMachineID                     1126363  1194089  1473654  1327630  1336053\nModelID                          8434    10150     4139     8591     4089\ndatasource                        132      132      132      132      132\n...                               ...      ...      ...      ...      ...\nBackhoe_Mounting_is_missing     False     True    False     True    False\nBlade_Type_is_missing           False     True    False     True    False\nTravel_Controls_is_missing      False     True    False     True    False\nDifferential_Type_is_missing     True    False     True    False     True\nSteering_Controls_is_missing     True    False     True    False     True\n\n[103 rows x 5 columns]",
      "text/html": "<div>\n<style scoped>\n    .dataframe tbody tr th:only-of-type {\n        vertical-align: middle;\n    }\n\n    .dataframe tbody tr th {\n        vertical-align: top;\n    }\n\n    .dataframe thead th {\n        text-align: right;\n    }\n</style>\n<table border=\"1\" class=\"dataframe\">\n  <thead>\n    <tr style=\"text-align: right;\">\n      <th></th>\n      <th>0</th>\n      <th>1</th>\n      <th>2</th>\n      <th>3</th>\n      <th>4</th>\n    </tr>\n  </thead>\n  <tbody>\n    <tr>\n      <th>SalesID</th>\n      <td>1646770</td>\n      <td>1821514</td>\n      <td>1505138</td>\n      <td>1671174</td>\n      <td>1329056</td>\n    </tr>\n    <tr>\n      <th>SalePrice</th>\n      <td>9500.0</td>\n      <td>14000.0</td>\n      <td>50000.0</td>\n      <td>16000.0</td>\n      <td>22000.0</td>\n    </tr>\n    <tr>\n      <th>MachineID</th>\n      <td>1126363</td>\n      <td>1194089</td>\n      <td>1473654</td>\n      <td>1327630</td>\n      <td>1336053</td>\n    </tr>\n    <tr>\n      <th>ModelID</th>\n      <td>8434</td>\n      <td>10150</td>\n      <td>4139</td>\n      <td>8591</td>\n      <td>4089</td>\n    </tr>\n    <tr>\n      <th>datasource</th>\n      <td>132</td>\n      <td>132</td>\n      <td>132</td>\n      <td>132</td>\n      <td>132</td>\n    </tr>\n    <tr>\n      <th>...</th>\n      <td>...</td>\n      <td>...</td>\n      <td>...</td>\n      <td>...</td>\n      <td>...</td>\n    </tr>\n    <tr>\n      <th>Backhoe_Mounting_is_missing</th>\n      <td>False</td>\n      <td>True</td>\n      <td>False</td>\n      <td>True</td>\n      <td>False</td>\n    </tr>\n    <tr>\n      <th>Blade_Type_is_missing</th>\n      <td>False</td>\n      <td>True</td>\n      <td>False</td>\n      <td>True</td>\n      <td>False</td>\n    </tr>\n    <tr>\n      <th>Travel_Controls_is_missing</th>\n      <td>False</td>\n      <td>True</td>\n      <td>False</td>\n      <td>True</td>\n      <td>False</td>\n    </tr>\n    <tr>\n      <th>Differential_Type_is_missing</th>\n      <td>True</td>\n      <td>False</td>\n      <td>True</td>\n      <td>False</td>\n      <td>True</td>\n    </tr>\n    <tr>\n      <th>Steering_Controls_is_missing</th>\n      <td>True</td>\n      <td>False</td>\n      <td>True</td>\n      <td>False</td>\n      <td>True</td>\n    </tr>\n  </tbody>\n</table>\n<p>103 rows × 5 columns</p>\n</div>"
     },
     "execution_count": 58,
     "metadata": {},
     "output_type": "execute_result"
    }
   ],
   "source": [
    "df_temp.head().T"
   ],
   "metadata": {
    "collapsed": false,
    "ExecuteTime": {
     "end_time": "2024-04-24T09:09:05.724442300Z",
     "start_time": "2024-04-24T09:09:05.647430200Z"
    }
   },
   "id": "922b53937d77d984",
   "execution_count": 58
  },
  {
   "cell_type": "code",
   "outputs": [
    {
     "data": {
      "text/plain": "SalesID                         0\nSalePrice                       0\nMachineID                       0\nModelID                         0\ndatasource                      0\n                               ..\nBackhoe_Mounting_is_missing     0\nBlade_Type_is_missing           0\nTravel_Controls_is_missing      0\nDifferential_Type_is_missing    0\nSteering_Controls_is_missing    0\nLength: 103, dtype: int64"
     },
     "execution_count": 59,
     "metadata": {},
     "output_type": "execute_result"
    }
   ],
   "source": [
    "df_temp.isna().sum()"
   ],
   "metadata": {
    "collapsed": false,
    "ExecuteTime": {
     "end_time": "2024-04-24T09:09:05.770951400Z",
     "start_time": "2024-04-24T09:09:05.657431100Z"
    }
   },
   "id": "20f7df728cd99b09",
   "execution_count": 59
  },
  {
   "cell_type": "markdown",
   "source": [
    "### Fitting"
   ],
   "metadata": {
    "collapsed": false
   },
   "id": "85041e2f71f3459d"
  },
  {
   "cell_type": "code",
   "outputs": [],
   "source": [],
   "metadata": {
    "collapsed": false,
    "ExecuteTime": {
     "end_time": "2024-04-24T09:09:05.771951400Z",
     "start_time": "2024-04-24T09:09:05.718047500Z"
    }
   },
   "id": "7935d1a9a0a4057f",
   "execution_count": 59
  },
  {
   "cell_type": "code",
   "outputs": [
    {
     "name": "stdout",
     "output_type": "stream",
     "text": [
      "CPU times: total: 4min\n",
      "Wall time: 23 s\n"
     ]
    },
    {
     "data": {
      "text/plain": "RandomForestRegressor(n_estimators=20, n_jobs=-1, random_state=42)",
      "text/html": "<style>#sk-container-id-1 {\n  /* Definition of color scheme common for light and dark mode */\n  --sklearn-color-text: black;\n  --sklearn-color-line: gray;\n  /* Definition of color scheme for unfitted estimators */\n  --sklearn-color-unfitted-level-0: #fff5e6;\n  --sklearn-color-unfitted-level-1: #f6e4d2;\n  --sklearn-color-unfitted-level-2: #ffe0b3;\n  --sklearn-color-unfitted-level-3: chocolate;\n  /* Definition of color scheme for fitted estimators */\n  --sklearn-color-fitted-level-0: #f0f8ff;\n  --sklearn-color-fitted-level-1: #d4ebff;\n  --sklearn-color-fitted-level-2: #b3dbfd;\n  --sklearn-color-fitted-level-3: cornflowerblue;\n\n  /* Specific color for light theme */\n  --sklearn-color-text-on-default-background: var(--sg-text-color, var(--theme-code-foreground, var(--jp-content-font-color1, black)));\n  --sklearn-color-background: var(--sg-background-color, var(--theme-background, var(--jp-layout-color0, white)));\n  --sklearn-color-border-box: var(--sg-text-color, var(--theme-code-foreground, var(--jp-content-font-color1, black)));\n  --sklearn-color-icon: #696969;\n\n  @media (prefers-color-scheme: dark) {\n    /* Redefinition of color scheme for dark theme */\n    --sklearn-color-text-on-default-background: var(--sg-text-color, var(--theme-code-foreground, var(--jp-content-font-color1, white)));\n    --sklearn-color-background: var(--sg-background-color, var(--theme-background, var(--jp-layout-color0, #111)));\n    --sklearn-color-border-box: var(--sg-text-color, var(--theme-code-foreground, var(--jp-content-font-color1, white)));\n    --sklearn-color-icon: #878787;\n  }\n}\n\n#sk-container-id-1 {\n  color: var(--sklearn-color-text);\n}\n\n#sk-container-id-1 pre {\n  padding: 0;\n}\n\n#sk-container-id-1 input.sk-hidden--visually {\n  border: 0;\n  clip: rect(1px 1px 1px 1px);\n  clip: rect(1px, 1px, 1px, 1px);\n  height: 1px;\n  margin: -1px;\n  overflow: hidden;\n  padding: 0;\n  position: absolute;\n  width: 1px;\n}\n\n#sk-container-id-1 div.sk-dashed-wrapped {\n  border: 1px dashed var(--sklearn-color-line);\n  margin: 0 0.4em 0.5em 0.4em;\n  box-sizing: border-box;\n  padding-bottom: 0.4em;\n  background-color: var(--sklearn-color-background);\n}\n\n#sk-container-id-1 div.sk-container {\n  /* jupyter's `normalize.less` sets `[hidden] { display: none; }`\n     but bootstrap.min.css set `[hidden] { display: none !important; }`\n     so we also need the `!important` here to be able to override the\n     default hidden behavior on the sphinx rendered scikit-learn.org.\n     See: https://github.com/scikit-learn/scikit-learn/issues/21755 */\n  display: inline-block !important;\n  position: relative;\n}\n\n#sk-container-id-1 div.sk-text-repr-fallback {\n  display: none;\n}\n\ndiv.sk-parallel-item,\ndiv.sk-serial,\ndiv.sk-item {\n  /* draw centered vertical line to link estimators */\n  background-image: linear-gradient(var(--sklearn-color-text-on-default-background), var(--sklearn-color-text-on-default-background));\n  background-size: 2px 100%;\n  background-repeat: no-repeat;\n  background-position: center center;\n}\n\n/* Parallel-specific style estimator block */\n\n#sk-container-id-1 div.sk-parallel-item::after {\n  content: \"\";\n  width: 100%;\n  border-bottom: 2px solid var(--sklearn-color-text-on-default-background);\n  flex-grow: 1;\n}\n\n#sk-container-id-1 div.sk-parallel {\n  display: flex;\n  align-items: stretch;\n  justify-content: center;\n  background-color: var(--sklearn-color-background);\n  position: relative;\n}\n\n#sk-container-id-1 div.sk-parallel-item {\n  display: flex;\n  flex-direction: column;\n}\n\n#sk-container-id-1 div.sk-parallel-item:first-child::after {\n  align-self: flex-end;\n  width: 50%;\n}\n\n#sk-container-id-1 div.sk-parallel-item:last-child::after {\n  align-self: flex-start;\n  width: 50%;\n}\n\n#sk-container-id-1 div.sk-parallel-item:only-child::after {\n  width: 0;\n}\n\n/* Serial-specific style estimator block */\n\n#sk-container-id-1 div.sk-serial {\n  display: flex;\n  flex-direction: column;\n  align-items: center;\n  background-color: var(--sklearn-color-background);\n  padding-right: 1em;\n  padding-left: 1em;\n}\n\n\n/* Toggleable style: style used for estimator/Pipeline/ColumnTransformer box that is\nclickable and can be expanded/collapsed.\n- Pipeline and ColumnTransformer use this feature and define the default style\n- Estimators will overwrite some part of the style using the `sk-estimator` class\n*/\n\n/* Pipeline and ColumnTransformer style (default) */\n\n#sk-container-id-1 div.sk-toggleable {\n  /* Default theme specific background. It is overwritten whether we have a\n  specific estimator or a Pipeline/ColumnTransformer */\n  background-color: var(--sklearn-color-background);\n}\n\n/* Toggleable label */\n#sk-container-id-1 label.sk-toggleable__label {\n  cursor: pointer;\n  display: block;\n  width: 100%;\n  margin-bottom: 0;\n  padding: 0.5em;\n  box-sizing: border-box;\n  text-align: center;\n}\n\n#sk-container-id-1 label.sk-toggleable__label-arrow:before {\n  /* Arrow on the left of the label */\n  content: \"▸\";\n  float: left;\n  margin-right: 0.25em;\n  color: var(--sklearn-color-icon);\n}\n\n#sk-container-id-1 label.sk-toggleable__label-arrow:hover:before {\n  color: var(--sklearn-color-text);\n}\n\n/* Toggleable content - dropdown */\n\n#sk-container-id-1 div.sk-toggleable__content {\n  max-height: 0;\n  max-width: 0;\n  overflow: hidden;\n  text-align: left;\n  /* unfitted */\n  background-color: var(--sklearn-color-unfitted-level-0);\n}\n\n#sk-container-id-1 div.sk-toggleable__content.fitted {\n  /* fitted */\n  background-color: var(--sklearn-color-fitted-level-0);\n}\n\n#sk-container-id-1 div.sk-toggleable__content pre {\n  margin: 0.2em;\n  border-radius: 0.25em;\n  color: var(--sklearn-color-text);\n  /* unfitted */\n  background-color: var(--sklearn-color-unfitted-level-0);\n}\n\n#sk-container-id-1 div.sk-toggleable__content.fitted pre {\n  /* unfitted */\n  background-color: var(--sklearn-color-fitted-level-0);\n}\n\n#sk-container-id-1 input.sk-toggleable__control:checked~div.sk-toggleable__content {\n  /* Expand drop-down */\n  max-height: 200px;\n  max-width: 100%;\n  overflow: auto;\n}\n\n#sk-container-id-1 input.sk-toggleable__control:checked~label.sk-toggleable__label-arrow:before {\n  content: \"▾\";\n}\n\n/* Pipeline/ColumnTransformer-specific style */\n\n#sk-container-id-1 div.sk-label input.sk-toggleable__control:checked~label.sk-toggleable__label {\n  color: var(--sklearn-color-text);\n  background-color: var(--sklearn-color-unfitted-level-2);\n}\n\n#sk-container-id-1 div.sk-label.fitted input.sk-toggleable__control:checked~label.sk-toggleable__label {\n  background-color: var(--sklearn-color-fitted-level-2);\n}\n\n/* Estimator-specific style */\n\n/* Colorize estimator box */\n#sk-container-id-1 div.sk-estimator input.sk-toggleable__control:checked~label.sk-toggleable__label {\n  /* unfitted */\n  background-color: var(--sklearn-color-unfitted-level-2);\n}\n\n#sk-container-id-1 div.sk-estimator.fitted input.sk-toggleable__control:checked~label.sk-toggleable__label {\n  /* fitted */\n  background-color: var(--sklearn-color-fitted-level-2);\n}\n\n#sk-container-id-1 div.sk-label label.sk-toggleable__label,\n#sk-container-id-1 div.sk-label label {\n  /* The background is the default theme color */\n  color: var(--sklearn-color-text-on-default-background);\n}\n\n/* On hover, darken the color of the background */\n#sk-container-id-1 div.sk-label:hover label.sk-toggleable__label {\n  color: var(--sklearn-color-text);\n  background-color: var(--sklearn-color-unfitted-level-2);\n}\n\n/* Label box, darken color on hover, fitted */\n#sk-container-id-1 div.sk-label.fitted:hover label.sk-toggleable__label.fitted {\n  color: var(--sklearn-color-text);\n  background-color: var(--sklearn-color-fitted-level-2);\n}\n\n/* Estimator label */\n\n#sk-container-id-1 div.sk-label label {\n  font-family: monospace;\n  font-weight: bold;\n  display: inline-block;\n  line-height: 1.2em;\n}\n\n#sk-container-id-1 div.sk-label-container {\n  text-align: center;\n}\n\n/* Estimator-specific */\n#sk-container-id-1 div.sk-estimator {\n  font-family: monospace;\n  border: 1px dotted var(--sklearn-color-border-box);\n  border-radius: 0.25em;\n  box-sizing: border-box;\n  margin-bottom: 0.5em;\n  /* unfitted */\n  background-color: var(--sklearn-color-unfitted-level-0);\n}\n\n#sk-container-id-1 div.sk-estimator.fitted {\n  /* fitted */\n  background-color: var(--sklearn-color-fitted-level-0);\n}\n\n/* on hover */\n#sk-container-id-1 div.sk-estimator:hover {\n  /* unfitted */\n  background-color: var(--sklearn-color-unfitted-level-2);\n}\n\n#sk-container-id-1 div.sk-estimator.fitted:hover {\n  /* fitted */\n  background-color: var(--sklearn-color-fitted-level-2);\n}\n\n/* Specification for estimator info (e.g. \"i\" and \"?\") */\n\n/* Common style for \"i\" and \"?\" */\n\n.sk-estimator-doc-link,\na:link.sk-estimator-doc-link,\na:visited.sk-estimator-doc-link {\n  float: right;\n  font-size: smaller;\n  line-height: 1em;\n  font-family: monospace;\n  background-color: var(--sklearn-color-background);\n  border-radius: 1em;\n  height: 1em;\n  width: 1em;\n  text-decoration: none !important;\n  margin-left: 1ex;\n  /* unfitted */\n  border: var(--sklearn-color-unfitted-level-1) 1pt solid;\n  color: var(--sklearn-color-unfitted-level-1);\n}\n\n.sk-estimator-doc-link.fitted,\na:link.sk-estimator-doc-link.fitted,\na:visited.sk-estimator-doc-link.fitted {\n  /* fitted */\n  border: var(--sklearn-color-fitted-level-1) 1pt solid;\n  color: var(--sklearn-color-fitted-level-1);\n}\n\n/* On hover */\ndiv.sk-estimator:hover .sk-estimator-doc-link:hover,\n.sk-estimator-doc-link:hover,\ndiv.sk-label-container:hover .sk-estimator-doc-link:hover,\n.sk-estimator-doc-link:hover {\n  /* unfitted */\n  background-color: var(--sklearn-color-unfitted-level-3);\n  color: var(--sklearn-color-background);\n  text-decoration: none;\n}\n\ndiv.sk-estimator.fitted:hover .sk-estimator-doc-link.fitted:hover,\n.sk-estimator-doc-link.fitted:hover,\ndiv.sk-label-container:hover .sk-estimator-doc-link.fitted:hover,\n.sk-estimator-doc-link.fitted:hover {\n  /* fitted */\n  background-color: var(--sklearn-color-fitted-level-3);\n  color: var(--sklearn-color-background);\n  text-decoration: none;\n}\n\n/* Span, style for the box shown on hovering the info icon */\n.sk-estimator-doc-link span {\n  display: none;\n  z-index: 9999;\n  position: relative;\n  font-weight: normal;\n  right: .2ex;\n  padding: .5ex;\n  margin: .5ex;\n  width: min-content;\n  min-width: 20ex;\n  max-width: 50ex;\n  color: var(--sklearn-color-text);\n  box-shadow: 2pt 2pt 4pt #999;\n  /* unfitted */\n  background: var(--sklearn-color-unfitted-level-0);\n  border: .5pt solid var(--sklearn-color-unfitted-level-3);\n}\n\n.sk-estimator-doc-link.fitted span {\n  /* fitted */\n  background: var(--sklearn-color-fitted-level-0);\n  border: var(--sklearn-color-fitted-level-3);\n}\n\n.sk-estimator-doc-link:hover span {\n  display: block;\n}\n\n/* \"?\"-specific style due to the `<a>` HTML tag */\n\n#sk-container-id-1 a.estimator_doc_link {\n  float: right;\n  font-size: 1rem;\n  line-height: 1em;\n  font-family: monospace;\n  background-color: var(--sklearn-color-background);\n  border-radius: 1rem;\n  height: 1rem;\n  width: 1rem;\n  text-decoration: none;\n  /* unfitted */\n  color: var(--sklearn-color-unfitted-level-1);\n  border: var(--sklearn-color-unfitted-level-1) 1pt solid;\n}\n\n#sk-container-id-1 a.estimator_doc_link.fitted {\n  /* fitted */\n  border: var(--sklearn-color-fitted-level-1) 1pt solid;\n  color: var(--sklearn-color-fitted-level-1);\n}\n\n/* On hover */\n#sk-container-id-1 a.estimator_doc_link:hover {\n  /* unfitted */\n  background-color: var(--sklearn-color-unfitted-level-3);\n  color: var(--sklearn-color-background);\n  text-decoration: none;\n}\n\n#sk-container-id-1 a.estimator_doc_link.fitted:hover {\n  /* fitted */\n  background-color: var(--sklearn-color-fitted-level-3);\n}\n</style><div id=\"sk-container-id-1\" class=\"sk-top-container\"><div class=\"sk-text-repr-fallback\"><pre>RandomForestRegressor(n_estimators=20, n_jobs=-1, random_state=42)</pre><b>In a Jupyter environment, please rerun this cell to show the HTML representation or trust the notebook. <br />On GitHub, the HTML representation is unable to render, please try loading this page with nbviewer.org.</b></div><div class=\"sk-container\" hidden><div class=\"sk-item\"><div class=\"sk-estimator fitted sk-toggleable\"><input class=\"sk-toggleable__control sk-hidden--visually\" id=\"sk-estimator-id-1\" type=\"checkbox\" checked><label for=\"sk-estimator-id-1\" class=\"sk-toggleable__label fitted sk-toggleable__label-arrow fitted\">&nbsp;&nbsp;RandomForestRegressor<a class=\"sk-estimator-doc-link fitted\" rel=\"noreferrer\" target=\"_blank\" href=\"https://scikit-learn.org/1.4/modules/generated/sklearn.ensemble.RandomForestRegressor.html\">?<span>Documentation for RandomForestRegressor</span></a><span class=\"sk-estimator-doc-link fitted\">i<span>Fitted</span></span></label><div class=\"sk-toggleable__content fitted\"><pre>RandomForestRegressor(n_estimators=20, n_jobs=-1, random_state=42)</pre></div> </div></div></div></div>"
     },
     "execution_count": 60,
     "metadata": {},
     "output_type": "execute_result"
    }
   ],
   "source": [
    "%%time\n",
    "# Instantiate model \n",
    "model = RandomForestRegressor(n_estimators=20, \n",
    "                              n_jobs=-1,\n",
    "                              random_state=42)\n",
    "\n",
    "model.fit(df_temp.drop('SalePrice', axis=1), df_temp['SalePrice'])"
   ],
   "metadata": {
    "collapsed": false,
    "ExecuteTime": {
     "end_time": "2024-04-24T09:09:28.772463700Z",
     "start_time": "2024-04-24T09:09:05.722442400Z"
    }
   },
   "id": "a19c5ed32b5960c2",
   "execution_count": 60
  },
  {
   "cell_type": "code",
   "outputs": [
    {
     "data": {
      "text/plain": "0.984885388598317"
     },
     "execution_count": 61,
     "metadata": {},
     "output_type": "execute_result"
    }
   ],
   "source": [
    "# Scoring the model\n",
    "model.score(df_temp.drop('SalePrice', axis=1), df_temp['SalePrice'])"
   ],
   "metadata": {
    "collapsed": false,
    "ExecuteTime": {
     "end_time": "2024-04-24T09:19:02.280920500Z",
     "start_time": "2024-04-24T09:19:01.357259400Z"
    }
   },
   "id": "f1de7e4b445d25d4",
   "execution_count": 61
  },
  {
   "cell_type": "markdown",
   "source": [
    "**Question:** Why isn't the above metric reliable?"
   ],
   "metadata": {
    "collapsed": false
   },
   "id": "cbf24abb71f67356"
  },
  {
   "cell_type": "markdown",
   "source": [
    "### Splitting data into train/validation sets"
   ],
   "metadata": {
    "collapsed": false
   },
   "id": "8728b2bebc009efa"
  },
  {
   "cell_type": "code",
   "outputs": [
    {
     "data": {
      "text/plain": "saleYear\n2009    43849\n2008    39767\n2011    35197\n2010    33390\n2007    32208\n2006    21685\n2005    20463\n2004    19879\n2001    17594\n2000    17415\n2002    17246\n2003    15254\n1998    13046\n1999    12793\n2012    11573\n1997     9785\n1996     8829\n1995     8530\n1994     7929\n1993     6303\n1992     5519\n1991     5109\n1989     4806\n1990     4529\nName: count, dtype: int64"
     },
     "execution_count": 62,
     "metadata": {},
     "output_type": "execute_result"
    }
   ],
   "source": [
    "df_temp.saleYear.value_counts()"
   ],
   "metadata": {
    "collapsed": false,
    "ExecuteTime": {
     "end_time": "2024-04-24T09:23:37.049815100Z",
     "start_time": "2024-04-24T09:23:37.017309700Z"
    }
   },
   "id": "a6302db17b06e7ea",
   "execution_count": 62
  },
  {
   "cell_type": "code",
   "outputs": [
    {
     "data": {
      "text/plain": "(11573, 401125)"
     },
     "execution_count": 63,
     "metadata": {},
     "output_type": "execute_result"
    }
   ],
   "source": [
    "# Splitting into train/validation sests\n",
    "\n",
    "df_val = df_temp[df_temp.saleYear == 2012]\n",
    "df_train = df_temp[df_temp.saleYear != 2012]\n",
    "len(df_val), len(df_train)"
   ],
   "metadata": {
    "collapsed": false,
    "ExecuteTime": {
     "end_time": "2024-04-24T09:25:28.702226100Z",
     "start_time": "2024-04-24T09:25:28.546699600Z"
    }
   },
   "id": "517d8d3ebe2a4dfd",
   "execution_count": 63
  },
  {
   "cell_type": "code",
   "outputs": [
    {
     "data": {
      "text/plain": "((401125, 102), (401125,), (11573, 102), (11573,))"
     },
     "execution_count": 65,
     "metadata": {},
     "output_type": "execute_result"
    }
   ],
   "source": [
    "# Split into X & y\n",
    "X_train, y_train = df_train.drop('SalePrice', axis=1), df_train['SalePrice']\n",
    "X_valid, y_valid = df_val.drop('SalePrice', axis=1), df_val['SalePrice']\n",
    "\n",
    "X_train.shape, y_train.shape, X_valid.shape, y_valid.shape"
   ],
   "metadata": {
    "collapsed": false,
    "ExecuteTime": {
     "end_time": "2024-04-24T09:27:49.131079600Z",
     "start_time": "2024-04-24T09:27:49.039064Z"
    }
   },
   "id": "ffadd20a2c228c98",
   "execution_count": 65
  },
  {
   "cell_type": "code",
   "outputs": [
    {
     "data": {
      "text/plain": "0          9500.0\n1         14000.0\n2         50000.0\n3         16000.0\n4         22000.0\n           ...   \n401120    29000.0\n401121    11000.0\n401122    11000.0\n401123    18000.0\n401124    13500.0\nName: SalePrice, Length: 401125, dtype: float64"
     },
     "execution_count": 66,
     "metadata": {},
     "output_type": "execute_result"
    }
   ],
   "source": [
    "y_train"
   ],
   "metadata": {
    "collapsed": false,
    "ExecuteTime": {
     "end_time": "2024-04-24T09:28:00.064670400Z",
     "start_time": "2024-04-24T09:28:00.022164Z"
    }
   },
   "id": "96f2430a434e1029",
   "execution_count": 66
  },
  {
   "cell_type": "markdown",
   "source": [
    "### Building an evaluation function"
   ],
   "metadata": {
    "collapsed": false
   },
   "id": "bd22cb7ce32eaf49"
  },
  {
   "cell_type": "code",
   "outputs": [],
   "source": [
    "# Create an evaluation function for RMSLE\n",
    "\n",
    "def rmsle(y_test, y_preds):\n",
    "    \"\"\"\n",
    "    Calculate the Root Mean Squared Log Error between predictions and true labels.\n",
    "    :param y_test: \n",
    "    :param y_preds: \n",
    "    :return: \n",
    "    \"\"\"\n",
    "    return np.sqrt(mean_squared_log_error(y_test, y_preds))\n",
    "\n",
    "# Create function to evaluate model on a few different levels\n",
    "\n",
    "def show_scores(model):\n",
    "    train_preds = model.predict(X_train)\n",
    "    valid_preds = model.predict(X_valid)\n",
    "    scores = {'Training MAE': round(mean_absolute_error(y_train, train_preds), 2),\n",
    "              'Valid MAE': round(mean_absolute_error(y_valid, valid_preds), 2),\n",
    "              'Training RMSLE': round(rmsle(y_train, train_preds), 2),\n",
    "              'Valid RMSLE': round(rmsle(y_valid, valid_preds), 2),\n",
    "              'Training R^2': round(r2_score(y_train, train_preds), 2),\n",
    "              'Validation R^2': round(r2_score(y_valid, valid_preds), 2)}\n",
    "    return scores\n"
   ],
   "metadata": {
    "collapsed": false,
    "ExecuteTime": {
     "end_time": "2024-04-24T10:24:24.071521100Z",
     "start_time": "2024-04-24T10:24:24.060519100Z"
    }
   },
   "id": "a5f2f037bbde072d",
   "execution_count": 81
  },
  {
   "cell_type": "markdown",
   "source": [
    "## Testing the model on a subset to tune the hyperparameters"
   ],
   "metadata": {
    "collapsed": false
   },
   "id": "4291e37507e4e1ac"
  },
  {
   "cell_type": "code",
   "outputs": [],
   "source": [
    "## THIS WOULD TAKE FAR TOO LONG\n",
    "# %%time\n",
    "# \n",
    "# model = RandomForestRegressor(n_jobs=-1,\n",
    "#                               random_state=42)\n",
    "# \n",
    "# model.fit(X_train, y_train)"
   ],
   "metadata": {
    "collapsed": false,
    "ExecuteTime": {
     "end_time": "2024-04-24T10:17:05.983544900Z",
     "start_time": "2024-04-24T10:17:05.959039200Z"
    }
   },
   "id": "dd787a9016cceeb",
   "execution_count": 72
  },
  {
   "cell_type": "code",
   "outputs": [],
   "source": [
    "# Change max_samples value to decrease training time\n",
    "model = RandomForestRegressor(n_jobs=-1,\n",
    "                              random_state=42,\n",
    "                              max_samples=10000)\n"
   ],
   "metadata": {
    "collapsed": false,
    "ExecuteTime": {
     "end_time": "2024-04-24T10:20:18.378810800Z",
     "start_time": "2024-04-24T10:20:18.359307300Z"
    }
   },
   "id": "e9995f4cff00807a",
   "execution_count": 75
  },
  {
   "cell_type": "code",
   "outputs": [
    {
     "name": "stdout",
     "output_type": "stream",
     "text": [
      "CPU times: total: 43.2 s\n",
      "Wall time: 3.75 s\n"
     ]
    },
    {
     "data": {
      "text/plain": "RandomForestRegressor(max_samples=10000, n_jobs=-1, random_state=42)",
      "text/html": "<style>#sk-container-id-2 {\n  /* Definition of color scheme common for light and dark mode */\n  --sklearn-color-text: black;\n  --sklearn-color-line: gray;\n  /* Definition of color scheme for unfitted estimators */\n  --sklearn-color-unfitted-level-0: #fff5e6;\n  --sklearn-color-unfitted-level-1: #f6e4d2;\n  --sklearn-color-unfitted-level-2: #ffe0b3;\n  --sklearn-color-unfitted-level-3: chocolate;\n  /* Definition of color scheme for fitted estimators */\n  --sklearn-color-fitted-level-0: #f0f8ff;\n  --sklearn-color-fitted-level-1: #d4ebff;\n  --sklearn-color-fitted-level-2: #b3dbfd;\n  --sklearn-color-fitted-level-3: cornflowerblue;\n\n  /* Specific color for light theme */\n  --sklearn-color-text-on-default-background: var(--sg-text-color, var(--theme-code-foreground, var(--jp-content-font-color1, black)));\n  --sklearn-color-background: var(--sg-background-color, var(--theme-background, var(--jp-layout-color0, white)));\n  --sklearn-color-border-box: var(--sg-text-color, var(--theme-code-foreground, var(--jp-content-font-color1, black)));\n  --sklearn-color-icon: #696969;\n\n  @media (prefers-color-scheme: dark) {\n    /* Redefinition of color scheme for dark theme */\n    --sklearn-color-text-on-default-background: var(--sg-text-color, var(--theme-code-foreground, var(--jp-content-font-color1, white)));\n    --sklearn-color-background: var(--sg-background-color, var(--theme-background, var(--jp-layout-color0, #111)));\n    --sklearn-color-border-box: var(--sg-text-color, var(--theme-code-foreground, var(--jp-content-font-color1, white)));\n    --sklearn-color-icon: #878787;\n  }\n}\n\n#sk-container-id-2 {\n  color: var(--sklearn-color-text);\n}\n\n#sk-container-id-2 pre {\n  padding: 0;\n}\n\n#sk-container-id-2 input.sk-hidden--visually {\n  border: 0;\n  clip: rect(1px 1px 1px 1px);\n  clip: rect(1px, 1px, 1px, 1px);\n  height: 1px;\n  margin: -1px;\n  overflow: hidden;\n  padding: 0;\n  position: absolute;\n  width: 1px;\n}\n\n#sk-container-id-2 div.sk-dashed-wrapped {\n  border: 1px dashed var(--sklearn-color-line);\n  margin: 0 0.4em 0.5em 0.4em;\n  box-sizing: border-box;\n  padding-bottom: 0.4em;\n  background-color: var(--sklearn-color-background);\n}\n\n#sk-container-id-2 div.sk-container {\n  /* jupyter's `normalize.less` sets `[hidden] { display: none; }`\n     but bootstrap.min.css set `[hidden] { display: none !important; }`\n     so we also need the `!important` here to be able to override the\n     default hidden behavior on the sphinx rendered scikit-learn.org.\n     See: https://github.com/scikit-learn/scikit-learn/issues/21755 */\n  display: inline-block !important;\n  position: relative;\n}\n\n#sk-container-id-2 div.sk-text-repr-fallback {\n  display: none;\n}\n\ndiv.sk-parallel-item,\ndiv.sk-serial,\ndiv.sk-item {\n  /* draw centered vertical line to link estimators */\n  background-image: linear-gradient(var(--sklearn-color-text-on-default-background), var(--sklearn-color-text-on-default-background));\n  background-size: 2px 100%;\n  background-repeat: no-repeat;\n  background-position: center center;\n}\n\n/* Parallel-specific style estimator block */\n\n#sk-container-id-2 div.sk-parallel-item::after {\n  content: \"\";\n  width: 100%;\n  border-bottom: 2px solid var(--sklearn-color-text-on-default-background);\n  flex-grow: 1;\n}\n\n#sk-container-id-2 div.sk-parallel {\n  display: flex;\n  align-items: stretch;\n  justify-content: center;\n  background-color: var(--sklearn-color-background);\n  position: relative;\n}\n\n#sk-container-id-2 div.sk-parallel-item {\n  display: flex;\n  flex-direction: column;\n}\n\n#sk-container-id-2 div.sk-parallel-item:first-child::after {\n  align-self: flex-end;\n  width: 50%;\n}\n\n#sk-container-id-2 div.sk-parallel-item:last-child::after {\n  align-self: flex-start;\n  width: 50%;\n}\n\n#sk-container-id-2 div.sk-parallel-item:only-child::after {\n  width: 0;\n}\n\n/* Serial-specific style estimator block */\n\n#sk-container-id-2 div.sk-serial {\n  display: flex;\n  flex-direction: column;\n  align-items: center;\n  background-color: var(--sklearn-color-background);\n  padding-right: 1em;\n  padding-left: 1em;\n}\n\n\n/* Toggleable style: style used for estimator/Pipeline/ColumnTransformer box that is\nclickable and can be expanded/collapsed.\n- Pipeline and ColumnTransformer use this feature and define the default style\n- Estimators will overwrite some part of the style using the `sk-estimator` class\n*/\n\n/* Pipeline and ColumnTransformer style (default) */\n\n#sk-container-id-2 div.sk-toggleable {\n  /* Default theme specific background. It is overwritten whether we have a\n  specific estimator or a Pipeline/ColumnTransformer */\n  background-color: var(--sklearn-color-background);\n}\n\n/* Toggleable label */\n#sk-container-id-2 label.sk-toggleable__label {\n  cursor: pointer;\n  display: block;\n  width: 100%;\n  margin-bottom: 0;\n  padding: 0.5em;\n  box-sizing: border-box;\n  text-align: center;\n}\n\n#sk-container-id-2 label.sk-toggleable__label-arrow:before {\n  /* Arrow on the left of the label */\n  content: \"▸\";\n  float: left;\n  margin-right: 0.25em;\n  color: var(--sklearn-color-icon);\n}\n\n#sk-container-id-2 label.sk-toggleable__label-arrow:hover:before {\n  color: var(--sklearn-color-text);\n}\n\n/* Toggleable content - dropdown */\n\n#sk-container-id-2 div.sk-toggleable__content {\n  max-height: 0;\n  max-width: 0;\n  overflow: hidden;\n  text-align: left;\n  /* unfitted */\n  background-color: var(--sklearn-color-unfitted-level-0);\n}\n\n#sk-container-id-2 div.sk-toggleable__content.fitted {\n  /* fitted */\n  background-color: var(--sklearn-color-fitted-level-0);\n}\n\n#sk-container-id-2 div.sk-toggleable__content pre {\n  margin: 0.2em;\n  border-radius: 0.25em;\n  color: var(--sklearn-color-text);\n  /* unfitted */\n  background-color: var(--sklearn-color-unfitted-level-0);\n}\n\n#sk-container-id-2 div.sk-toggleable__content.fitted pre {\n  /* unfitted */\n  background-color: var(--sklearn-color-fitted-level-0);\n}\n\n#sk-container-id-2 input.sk-toggleable__control:checked~div.sk-toggleable__content {\n  /* Expand drop-down */\n  max-height: 200px;\n  max-width: 100%;\n  overflow: auto;\n}\n\n#sk-container-id-2 input.sk-toggleable__control:checked~label.sk-toggleable__label-arrow:before {\n  content: \"▾\";\n}\n\n/* Pipeline/ColumnTransformer-specific style */\n\n#sk-container-id-2 div.sk-label input.sk-toggleable__control:checked~label.sk-toggleable__label {\n  color: var(--sklearn-color-text);\n  background-color: var(--sklearn-color-unfitted-level-2);\n}\n\n#sk-container-id-2 div.sk-label.fitted input.sk-toggleable__control:checked~label.sk-toggleable__label {\n  background-color: var(--sklearn-color-fitted-level-2);\n}\n\n/* Estimator-specific style */\n\n/* Colorize estimator box */\n#sk-container-id-2 div.sk-estimator input.sk-toggleable__control:checked~label.sk-toggleable__label {\n  /* unfitted */\n  background-color: var(--sklearn-color-unfitted-level-2);\n}\n\n#sk-container-id-2 div.sk-estimator.fitted input.sk-toggleable__control:checked~label.sk-toggleable__label {\n  /* fitted */\n  background-color: var(--sklearn-color-fitted-level-2);\n}\n\n#sk-container-id-2 div.sk-label label.sk-toggleable__label,\n#sk-container-id-2 div.sk-label label {\n  /* The background is the default theme color */\n  color: var(--sklearn-color-text-on-default-background);\n}\n\n/* On hover, darken the color of the background */\n#sk-container-id-2 div.sk-label:hover label.sk-toggleable__label {\n  color: var(--sklearn-color-text);\n  background-color: var(--sklearn-color-unfitted-level-2);\n}\n\n/* Label box, darken color on hover, fitted */\n#sk-container-id-2 div.sk-label.fitted:hover label.sk-toggleable__label.fitted {\n  color: var(--sklearn-color-text);\n  background-color: var(--sklearn-color-fitted-level-2);\n}\n\n/* Estimator label */\n\n#sk-container-id-2 div.sk-label label {\n  font-family: monospace;\n  font-weight: bold;\n  display: inline-block;\n  line-height: 1.2em;\n}\n\n#sk-container-id-2 div.sk-label-container {\n  text-align: center;\n}\n\n/* Estimator-specific */\n#sk-container-id-2 div.sk-estimator {\n  font-family: monospace;\n  border: 1px dotted var(--sklearn-color-border-box);\n  border-radius: 0.25em;\n  box-sizing: border-box;\n  margin-bottom: 0.5em;\n  /* unfitted */\n  background-color: var(--sklearn-color-unfitted-level-0);\n}\n\n#sk-container-id-2 div.sk-estimator.fitted {\n  /* fitted */\n  background-color: var(--sklearn-color-fitted-level-0);\n}\n\n/* on hover */\n#sk-container-id-2 div.sk-estimator:hover {\n  /* unfitted */\n  background-color: var(--sklearn-color-unfitted-level-2);\n}\n\n#sk-container-id-2 div.sk-estimator.fitted:hover {\n  /* fitted */\n  background-color: var(--sklearn-color-fitted-level-2);\n}\n\n/* Specification for estimator info (e.g. \"i\" and \"?\") */\n\n/* Common style for \"i\" and \"?\" */\n\n.sk-estimator-doc-link,\na:link.sk-estimator-doc-link,\na:visited.sk-estimator-doc-link {\n  float: right;\n  font-size: smaller;\n  line-height: 1em;\n  font-family: monospace;\n  background-color: var(--sklearn-color-background);\n  border-radius: 1em;\n  height: 1em;\n  width: 1em;\n  text-decoration: none !important;\n  margin-left: 1ex;\n  /* unfitted */\n  border: var(--sklearn-color-unfitted-level-1) 1pt solid;\n  color: var(--sklearn-color-unfitted-level-1);\n}\n\n.sk-estimator-doc-link.fitted,\na:link.sk-estimator-doc-link.fitted,\na:visited.sk-estimator-doc-link.fitted {\n  /* fitted */\n  border: var(--sklearn-color-fitted-level-1) 1pt solid;\n  color: var(--sklearn-color-fitted-level-1);\n}\n\n/* On hover */\ndiv.sk-estimator:hover .sk-estimator-doc-link:hover,\n.sk-estimator-doc-link:hover,\ndiv.sk-label-container:hover .sk-estimator-doc-link:hover,\n.sk-estimator-doc-link:hover {\n  /* unfitted */\n  background-color: var(--sklearn-color-unfitted-level-3);\n  color: var(--sklearn-color-background);\n  text-decoration: none;\n}\n\ndiv.sk-estimator.fitted:hover .sk-estimator-doc-link.fitted:hover,\n.sk-estimator-doc-link.fitted:hover,\ndiv.sk-label-container:hover .sk-estimator-doc-link.fitted:hover,\n.sk-estimator-doc-link.fitted:hover {\n  /* fitted */\n  background-color: var(--sklearn-color-fitted-level-3);\n  color: var(--sklearn-color-background);\n  text-decoration: none;\n}\n\n/* Span, style for the box shown on hovering the info icon */\n.sk-estimator-doc-link span {\n  display: none;\n  z-index: 9999;\n  position: relative;\n  font-weight: normal;\n  right: .2ex;\n  padding: .5ex;\n  margin: .5ex;\n  width: min-content;\n  min-width: 20ex;\n  max-width: 50ex;\n  color: var(--sklearn-color-text);\n  box-shadow: 2pt 2pt 4pt #999;\n  /* unfitted */\n  background: var(--sklearn-color-unfitted-level-0);\n  border: .5pt solid var(--sklearn-color-unfitted-level-3);\n}\n\n.sk-estimator-doc-link.fitted span {\n  /* fitted */\n  background: var(--sklearn-color-fitted-level-0);\n  border: var(--sklearn-color-fitted-level-3);\n}\n\n.sk-estimator-doc-link:hover span {\n  display: block;\n}\n\n/* \"?\"-specific style due to the `<a>` HTML tag */\n\n#sk-container-id-2 a.estimator_doc_link {\n  float: right;\n  font-size: 1rem;\n  line-height: 1em;\n  font-family: monospace;\n  background-color: var(--sklearn-color-background);\n  border-radius: 1rem;\n  height: 1rem;\n  width: 1rem;\n  text-decoration: none;\n  /* unfitted */\n  color: var(--sklearn-color-unfitted-level-1);\n  border: var(--sklearn-color-unfitted-level-1) 1pt solid;\n}\n\n#sk-container-id-2 a.estimator_doc_link.fitted {\n  /* fitted */\n  border: var(--sklearn-color-fitted-level-1) 1pt solid;\n  color: var(--sklearn-color-fitted-level-1);\n}\n\n/* On hover */\n#sk-container-id-2 a.estimator_doc_link:hover {\n  /* unfitted */\n  background-color: var(--sklearn-color-unfitted-level-3);\n  color: var(--sklearn-color-background);\n  text-decoration: none;\n}\n\n#sk-container-id-2 a.estimator_doc_link.fitted:hover {\n  /* fitted */\n  background-color: var(--sklearn-color-fitted-level-3);\n}\n</style><div id=\"sk-container-id-2\" class=\"sk-top-container\"><div class=\"sk-text-repr-fallback\"><pre>RandomForestRegressor(max_samples=10000, n_jobs=-1, random_state=42)</pre><b>In a Jupyter environment, please rerun this cell to show the HTML representation or trust the notebook. <br />On GitHub, the HTML representation is unable to render, please try loading this page with nbviewer.org.</b></div><div class=\"sk-container\" hidden><div class=\"sk-item\"><div class=\"sk-estimator fitted sk-toggleable\"><input class=\"sk-toggleable__control sk-hidden--visually\" id=\"sk-estimator-id-2\" type=\"checkbox\" checked><label for=\"sk-estimator-id-2\" class=\"sk-toggleable__label fitted sk-toggleable__label-arrow fitted\">&nbsp;&nbsp;RandomForestRegressor<a class=\"sk-estimator-doc-link fitted\" rel=\"noreferrer\" target=\"_blank\" href=\"https://scikit-learn.org/1.4/modules/generated/sklearn.ensemble.RandomForestRegressor.html\">?<span>Documentation for RandomForestRegressor</span></a><span class=\"sk-estimator-doc-link fitted\">i<span>Fitted</span></span></label><div class=\"sk-toggleable__content fitted\"><pre>RandomForestRegressor(max_samples=10000, n_jobs=-1, random_state=42)</pre></div> </div></div></div></div>"
     },
     "execution_count": 76,
     "metadata": {},
     "output_type": "execute_result"
    }
   ],
   "source": [
    "%%time\n",
    "# Cutting down on the max amount of samples\n",
    "model.fit(X_train, y_train)\n"
   ],
   "metadata": {
    "collapsed": false,
    "ExecuteTime": {
     "end_time": "2024-04-24T10:21:02.290130200Z",
     "start_time": "2024-04-24T10:20:58.529474Z"
    }
   },
   "id": "e7b52ac6426ed4f",
   "execution_count": 76
  },
  {
   "cell_type": "code",
   "outputs": [
    {
     "data": {
      "text/plain": "{'Training MAE': 5568.48,\n 'Valid MAE': 7185.45,\n 'Training RMSLE': 0.26,\n 'Valid RMSLE': 0.29,\n 'Training R^2': 0.86,\n 'Validation R^2': 0.83}"
     },
     "execution_count": 82,
     "metadata": {},
     "output_type": "execute_result"
    }
   ],
   "source": [
    "show_scores(model)"
   ],
   "metadata": {
    "collapsed": false,
    "ExecuteTime": {
     "end_time": "2024-04-24T10:24:28.365176200Z",
     "start_time": "2024-04-24T10:24:27.258483Z"
    }
   },
   "id": "327c41dce05722c7",
   "execution_count": 82
  },
  {
   "cell_type": "markdown",
   "source": [
    "### Hyperparameter tuning with RandomizedSearchCV"
   ],
   "metadata": {
    "collapsed": false
   },
   "id": "9350035bc485a079"
  },
  {
   "cell_type": "code",
   "outputs": [
    {
     "name": "stdout",
     "output_type": "stream",
     "text": [
      "Fitting 5 folds for each of 2 candidates, totalling 10 fits\n",
      "CPU times: total: 14.2 s\n",
      "Wall time: 6.5 s\n"
     ]
    },
    {
     "data": {
      "text/plain": "RandomizedSearchCV(cv=5,\n                   estimator=RandomForestRegressor(n_jobs=-1, random_state=42),\n                   n_iter=2,\n                   param_distributions={'max_depth': [None, 3, 5, 10],\n                                        'max_features': [0.5, 1, 'sqrt'],\n                                        'max_samples': [10000],\n                                        'min_samples_leaf': array([ 1,  3,  5,  7,  9, 11, 13, 15, 17, 19]),\n                                        'min_samples_split': array([ 2,  4,  6,  8, 10, 12, 14, 16, 18]),\n                                        'n_estimators': array([10, 20, 30, 40, 50, 60, 70, 80, 90])},\n                   verbose=True)",
      "text/html": "<style>#sk-container-id-4 {\n  /* Definition of color scheme common for light and dark mode */\n  --sklearn-color-text: black;\n  --sklearn-color-line: gray;\n  /* Definition of color scheme for unfitted estimators */\n  --sklearn-color-unfitted-level-0: #fff5e6;\n  --sklearn-color-unfitted-level-1: #f6e4d2;\n  --sklearn-color-unfitted-level-2: #ffe0b3;\n  --sklearn-color-unfitted-level-3: chocolate;\n  /* Definition of color scheme for fitted estimators */\n  --sklearn-color-fitted-level-0: #f0f8ff;\n  --sklearn-color-fitted-level-1: #d4ebff;\n  --sklearn-color-fitted-level-2: #b3dbfd;\n  --sklearn-color-fitted-level-3: cornflowerblue;\n\n  /* Specific color for light theme */\n  --sklearn-color-text-on-default-background: var(--sg-text-color, var(--theme-code-foreground, var(--jp-content-font-color1, black)));\n  --sklearn-color-background: var(--sg-background-color, var(--theme-background, var(--jp-layout-color0, white)));\n  --sklearn-color-border-box: var(--sg-text-color, var(--theme-code-foreground, var(--jp-content-font-color1, black)));\n  --sklearn-color-icon: #696969;\n\n  @media (prefers-color-scheme: dark) {\n    /* Redefinition of color scheme for dark theme */\n    --sklearn-color-text-on-default-background: var(--sg-text-color, var(--theme-code-foreground, var(--jp-content-font-color1, white)));\n    --sklearn-color-background: var(--sg-background-color, var(--theme-background, var(--jp-layout-color0, #111)));\n    --sklearn-color-border-box: var(--sg-text-color, var(--theme-code-foreground, var(--jp-content-font-color1, white)));\n    --sklearn-color-icon: #878787;\n  }\n}\n\n#sk-container-id-4 {\n  color: var(--sklearn-color-text);\n}\n\n#sk-container-id-4 pre {\n  padding: 0;\n}\n\n#sk-container-id-4 input.sk-hidden--visually {\n  border: 0;\n  clip: rect(1px 1px 1px 1px);\n  clip: rect(1px, 1px, 1px, 1px);\n  height: 1px;\n  margin: -1px;\n  overflow: hidden;\n  padding: 0;\n  position: absolute;\n  width: 1px;\n}\n\n#sk-container-id-4 div.sk-dashed-wrapped {\n  border: 1px dashed var(--sklearn-color-line);\n  margin: 0 0.4em 0.5em 0.4em;\n  box-sizing: border-box;\n  padding-bottom: 0.4em;\n  background-color: var(--sklearn-color-background);\n}\n\n#sk-container-id-4 div.sk-container {\n  /* jupyter's `normalize.less` sets `[hidden] { display: none; }`\n     but bootstrap.min.css set `[hidden] { display: none !important; }`\n     so we also need the `!important` here to be able to override the\n     default hidden behavior on the sphinx rendered scikit-learn.org.\n     See: https://github.com/scikit-learn/scikit-learn/issues/21755 */\n  display: inline-block !important;\n  position: relative;\n}\n\n#sk-container-id-4 div.sk-text-repr-fallback {\n  display: none;\n}\n\ndiv.sk-parallel-item,\ndiv.sk-serial,\ndiv.sk-item {\n  /* draw centered vertical line to link estimators */\n  background-image: linear-gradient(var(--sklearn-color-text-on-default-background), var(--sklearn-color-text-on-default-background));\n  background-size: 2px 100%;\n  background-repeat: no-repeat;\n  background-position: center center;\n}\n\n/* Parallel-specific style estimator block */\n\n#sk-container-id-4 div.sk-parallel-item::after {\n  content: \"\";\n  width: 100%;\n  border-bottom: 2px solid var(--sklearn-color-text-on-default-background);\n  flex-grow: 1;\n}\n\n#sk-container-id-4 div.sk-parallel {\n  display: flex;\n  align-items: stretch;\n  justify-content: center;\n  background-color: var(--sklearn-color-background);\n  position: relative;\n}\n\n#sk-container-id-4 div.sk-parallel-item {\n  display: flex;\n  flex-direction: column;\n}\n\n#sk-container-id-4 div.sk-parallel-item:first-child::after {\n  align-self: flex-end;\n  width: 50%;\n}\n\n#sk-container-id-4 div.sk-parallel-item:last-child::after {\n  align-self: flex-start;\n  width: 50%;\n}\n\n#sk-container-id-4 div.sk-parallel-item:only-child::after {\n  width: 0;\n}\n\n/* Serial-specific style estimator block */\n\n#sk-container-id-4 div.sk-serial {\n  display: flex;\n  flex-direction: column;\n  align-items: center;\n  background-color: var(--sklearn-color-background);\n  padding-right: 1em;\n  padding-left: 1em;\n}\n\n\n/* Toggleable style: style used for estimator/Pipeline/ColumnTransformer box that is\nclickable and can be expanded/collapsed.\n- Pipeline and ColumnTransformer use this feature and define the default style\n- Estimators will overwrite some part of the style using the `sk-estimator` class\n*/\n\n/* Pipeline and ColumnTransformer style (default) */\n\n#sk-container-id-4 div.sk-toggleable {\n  /* Default theme specific background. It is overwritten whether we have a\n  specific estimator or a Pipeline/ColumnTransformer */\n  background-color: var(--sklearn-color-background);\n}\n\n/* Toggleable label */\n#sk-container-id-4 label.sk-toggleable__label {\n  cursor: pointer;\n  display: block;\n  width: 100%;\n  margin-bottom: 0;\n  padding: 0.5em;\n  box-sizing: border-box;\n  text-align: center;\n}\n\n#sk-container-id-4 label.sk-toggleable__label-arrow:before {\n  /* Arrow on the left of the label */\n  content: \"▸\";\n  float: left;\n  margin-right: 0.25em;\n  color: var(--sklearn-color-icon);\n}\n\n#sk-container-id-4 label.sk-toggleable__label-arrow:hover:before {\n  color: var(--sklearn-color-text);\n}\n\n/* Toggleable content - dropdown */\n\n#sk-container-id-4 div.sk-toggleable__content {\n  max-height: 0;\n  max-width: 0;\n  overflow: hidden;\n  text-align: left;\n  /* unfitted */\n  background-color: var(--sklearn-color-unfitted-level-0);\n}\n\n#sk-container-id-4 div.sk-toggleable__content.fitted {\n  /* fitted */\n  background-color: var(--sklearn-color-fitted-level-0);\n}\n\n#sk-container-id-4 div.sk-toggleable__content pre {\n  margin: 0.2em;\n  border-radius: 0.25em;\n  color: var(--sklearn-color-text);\n  /* unfitted */\n  background-color: var(--sklearn-color-unfitted-level-0);\n}\n\n#sk-container-id-4 div.sk-toggleable__content.fitted pre {\n  /* unfitted */\n  background-color: var(--sklearn-color-fitted-level-0);\n}\n\n#sk-container-id-4 input.sk-toggleable__control:checked~div.sk-toggleable__content {\n  /* Expand drop-down */\n  max-height: 200px;\n  max-width: 100%;\n  overflow: auto;\n}\n\n#sk-container-id-4 input.sk-toggleable__control:checked~label.sk-toggleable__label-arrow:before {\n  content: \"▾\";\n}\n\n/* Pipeline/ColumnTransformer-specific style */\n\n#sk-container-id-4 div.sk-label input.sk-toggleable__control:checked~label.sk-toggleable__label {\n  color: var(--sklearn-color-text);\n  background-color: var(--sklearn-color-unfitted-level-2);\n}\n\n#sk-container-id-4 div.sk-label.fitted input.sk-toggleable__control:checked~label.sk-toggleable__label {\n  background-color: var(--sklearn-color-fitted-level-2);\n}\n\n/* Estimator-specific style */\n\n/* Colorize estimator box */\n#sk-container-id-4 div.sk-estimator input.sk-toggleable__control:checked~label.sk-toggleable__label {\n  /* unfitted */\n  background-color: var(--sklearn-color-unfitted-level-2);\n}\n\n#sk-container-id-4 div.sk-estimator.fitted input.sk-toggleable__control:checked~label.sk-toggleable__label {\n  /* fitted */\n  background-color: var(--sklearn-color-fitted-level-2);\n}\n\n#sk-container-id-4 div.sk-label label.sk-toggleable__label,\n#sk-container-id-4 div.sk-label label {\n  /* The background is the default theme color */\n  color: var(--sklearn-color-text-on-default-background);\n}\n\n/* On hover, darken the color of the background */\n#sk-container-id-4 div.sk-label:hover label.sk-toggleable__label {\n  color: var(--sklearn-color-text);\n  background-color: var(--sklearn-color-unfitted-level-2);\n}\n\n/* Label box, darken color on hover, fitted */\n#sk-container-id-4 div.sk-label.fitted:hover label.sk-toggleable__label.fitted {\n  color: var(--sklearn-color-text);\n  background-color: var(--sklearn-color-fitted-level-2);\n}\n\n/* Estimator label */\n\n#sk-container-id-4 div.sk-label label {\n  font-family: monospace;\n  font-weight: bold;\n  display: inline-block;\n  line-height: 1.2em;\n}\n\n#sk-container-id-4 div.sk-label-container {\n  text-align: center;\n}\n\n/* Estimator-specific */\n#sk-container-id-4 div.sk-estimator {\n  font-family: monospace;\n  border: 1px dotted var(--sklearn-color-border-box);\n  border-radius: 0.25em;\n  box-sizing: border-box;\n  margin-bottom: 0.5em;\n  /* unfitted */\n  background-color: var(--sklearn-color-unfitted-level-0);\n}\n\n#sk-container-id-4 div.sk-estimator.fitted {\n  /* fitted */\n  background-color: var(--sklearn-color-fitted-level-0);\n}\n\n/* on hover */\n#sk-container-id-4 div.sk-estimator:hover {\n  /* unfitted */\n  background-color: var(--sklearn-color-unfitted-level-2);\n}\n\n#sk-container-id-4 div.sk-estimator.fitted:hover {\n  /* fitted */\n  background-color: var(--sklearn-color-fitted-level-2);\n}\n\n/* Specification for estimator info (e.g. \"i\" and \"?\") */\n\n/* Common style for \"i\" and \"?\" */\n\n.sk-estimator-doc-link,\na:link.sk-estimator-doc-link,\na:visited.sk-estimator-doc-link {\n  float: right;\n  font-size: smaller;\n  line-height: 1em;\n  font-family: monospace;\n  background-color: var(--sklearn-color-background);\n  border-radius: 1em;\n  height: 1em;\n  width: 1em;\n  text-decoration: none !important;\n  margin-left: 1ex;\n  /* unfitted */\n  border: var(--sklearn-color-unfitted-level-1) 1pt solid;\n  color: var(--sklearn-color-unfitted-level-1);\n}\n\n.sk-estimator-doc-link.fitted,\na:link.sk-estimator-doc-link.fitted,\na:visited.sk-estimator-doc-link.fitted {\n  /* fitted */\n  border: var(--sklearn-color-fitted-level-1) 1pt solid;\n  color: var(--sklearn-color-fitted-level-1);\n}\n\n/* On hover */\ndiv.sk-estimator:hover .sk-estimator-doc-link:hover,\n.sk-estimator-doc-link:hover,\ndiv.sk-label-container:hover .sk-estimator-doc-link:hover,\n.sk-estimator-doc-link:hover {\n  /* unfitted */\n  background-color: var(--sklearn-color-unfitted-level-3);\n  color: var(--sklearn-color-background);\n  text-decoration: none;\n}\n\ndiv.sk-estimator.fitted:hover .sk-estimator-doc-link.fitted:hover,\n.sk-estimator-doc-link.fitted:hover,\ndiv.sk-label-container:hover .sk-estimator-doc-link.fitted:hover,\n.sk-estimator-doc-link.fitted:hover {\n  /* fitted */\n  background-color: var(--sklearn-color-fitted-level-3);\n  color: var(--sklearn-color-background);\n  text-decoration: none;\n}\n\n/* Span, style for the box shown on hovering the info icon */\n.sk-estimator-doc-link span {\n  display: none;\n  z-index: 9999;\n  position: relative;\n  font-weight: normal;\n  right: .2ex;\n  padding: .5ex;\n  margin: .5ex;\n  width: min-content;\n  min-width: 20ex;\n  max-width: 50ex;\n  color: var(--sklearn-color-text);\n  box-shadow: 2pt 2pt 4pt #999;\n  /* unfitted */\n  background: var(--sklearn-color-unfitted-level-0);\n  border: .5pt solid var(--sklearn-color-unfitted-level-3);\n}\n\n.sk-estimator-doc-link.fitted span {\n  /* fitted */\n  background: var(--sklearn-color-fitted-level-0);\n  border: var(--sklearn-color-fitted-level-3);\n}\n\n.sk-estimator-doc-link:hover span {\n  display: block;\n}\n\n/* \"?\"-specific style due to the `<a>` HTML tag */\n\n#sk-container-id-4 a.estimator_doc_link {\n  float: right;\n  font-size: 1rem;\n  line-height: 1em;\n  font-family: monospace;\n  background-color: var(--sklearn-color-background);\n  border-radius: 1rem;\n  height: 1rem;\n  width: 1rem;\n  text-decoration: none;\n  /* unfitted */\n  color: var(--sklearn-color-unfitted-level-1);\n  border: var(--sklearn-color-unfitted-level-1) 1pt solid;\n}\n\n#sk-container-id-4 a.estimator_doc_link.fitted {\n  /* fitted */\n  border: var(--sklearn-color-fitted-level-1) 1pt solid;\n  color: var(--sklearn-color-fitted-level-1);\n}\n\n/* On hover */\n#sk-container-id-4 a.estimator_doc_link:hover {\n  /* unfitted */\n  background-color: var(--sklearn-color-unfitted-level-3);\n  color: var(--sklearn-color-background);\n  text-decoration: none;\n}\n\n#sk-container-id-4 a.estimator_doc_link.fitted:hover {\n  /* fitted */\n  background-color: var(--sklearn-color-fitted-level-3);\n}\n</style><div id=\"sk-container-id-4\" class=\"sk-top-container\"><div class=\"sk-text-repr-fallback\"><pre>RandomizedSearchCV(cv=5,\n                   estimator=RandomForestRegressor(n_jobs=-1, random_state=42),\n                   n_iter=2,\n                   param_distributions={&#x27;max_depth&#x27;: [None, 3, 5, 10],\n                                        &#x27;max_features&#x27;: [0.5, 1, &#x27;sqrt&#x27;],\n                                        &#x27;max_samples&#x27;: [10000],\n                                        &#x27;min_samples_leaf&#x27;: array([ 1,  3,  5,  7,  9, 11, 13, 15, 17, 19]),\n                                        &#x27;min_samples_split&#x27;: array([ 2,  4,  6,  8, 10, 12, 14, 16, 18]),\n                                        &#x27;n_estimators&#x27;: array([10, 20, 30, 40, 50, 60, 70, 80, 90])},\n                   verbose=True)</pre><b>In a Jupyter environment, please rerun this cell to show the HTML representation or trust the notebook. <br />On GitHub, the HTML representation is unable to render, please try loading this page with nbviewer.org.</b></div><div class=\"sk-container\" hidden><div class=\"sk-item sk-dashed-wrapped\"><div class=\"sk-label-container\"><div class=\"sk-label fitted sk-toggleable\"><input class=\"sk-toggleable__control sk-hidden--visually\" id=\"sk-estimator-id-6\" type=\"checkbox\" ><label for=\"sk-estimator-id-6\" class=\"sk-toggleable__label fitted sk-toggleable__label-arrow fitted\">&nbsp;&nbsp;RandomizedSearchCV<a class=\"sk-estimator-doc-link fitted\" rel=\"noreferrer\" target=\"_blank\" href=\"https://scikit-learn.org/1.4/modules/generated/sklearn.model_selection.RandomizedSearchCV.html\">?<span>Documentation for RandomizedSearchCV</span></a><span class=\"sk-estimator-doc-link fitted\">i<span>Fitted</span></span></label><div class=\"sk-toggleable__content fitted\"><pre>RandomizedSearchCV(cv=5,\n                   estimator=RandomForestRegressor(n_jobs=-1, random_state=42),\n                   n_iter=2,\n                   param_distributions={&#x27;max_depth&#x27;: [None, 3, 5, 10],\n                                        &#x27;max_features&#x27;: [0.5, 1, &#x27;sqrt&#x27;],\n                                        &#x27;max_samples&#x27;: [10000],\n                                        &#x27;min_samples_leaf&#x27;: array([ 1,  3,  5,  7,  9, 11, 13, 15, 17, 19]),\n                                        &#x27;min_samples_split&#x27;: array([ 2,  4,  6,  8, 10, 12, 14, 16, 18]),\n                                        &#x27;n_estimators&#x27;: array([10, 20, 30, 40, 50, 60, 70, 80, 90])},\n                   verbose=True)</pre></div> </div></div><div class=\"sk-parallel\"><div class=\"sk-parallel-item\"><div class=\"sk-item\"><div class=\"sk-label-container\"><div class=\"sk-label fitted sk-toggleable\"><input class=\"sk-toggleable__control sk-hidden--visually\" id=\"sk-estimator-id-7\" type=\"checkbox\" ><label for=\"sk-estimator-id-7\" class=\"sk-toggleable__label fitted sk-toggleable__label-arrow fitted\">estimator: RandomForestRegressor</label><div class=\"sk-toggleable__content fitted\"><pre>RandomForestRegressor(n_jobs=-1, random_state=42)</pre></div> </div></div><div class=\"sk-serial\"><div class=\"sk-item\"><div class=\"sk-estimator fitted sk-toggleable\"><input class=\"sk-toggleable__control sk-hidden--visually\" id=\"sk-estimator-id-8\" type=\"checkbox\" ><label for=\"sk-estimator-id-8\" class=\"sk-toggleable__label fitted sk-toggleable__label-arrow fitted\">&nbsp;RandomForestRegressor<a class=\"sk-estimator-doc-link fitted\" rel=\"noreferrer\" target=\"_blank\" href=\"https://scikit-learn.org/1.4/modules/generated/sklearn.ensemble.RandomForestRegressor.html\">?<span>Documentation for RandomForestRegressor</span></a></label><div class=\"sk-toggleable__content fitted\"><pre>RandomForestRegressor(n_jobs=-1, random_state=42)</pre></div> </div></div></div></div></div></div></div></div></div>"
     },
     "execution_count": 88,
     "metadata": {},
     "output_type": "execute_result"
    }
   ],
   "source": [
    "%%time\n",
    "\n",
    "# Different RandomForestRegressor hyperparameters\n",
    "rf_grid = {'n_estimators': np.arange(10, 100, 10),\n",
    "           'max_depth': [None, 3, 5, 10],\n",
    "           'min_samples_split': np.arange(2, 20, 2),\n",
    "           'min_samples_leaf': np.arange(1, 20, 2),\n",
    "           'max_features': [0.5, 1, 'sqrt'],\n",
    "           'max_samples': [10000]\n",
    "           }\n",
    "\n",
    "# Instantiate\n",
    "rs_model = RandomizedSearchCV(RandomForestRegressor(n_jobs=-1,\n",
    "                                                    random_state=42),\n",
    "                                                    param_distributions=rf_grid,\n",
    "                                                    n_iter=2,\n",
    "                                                    cv=5,\n",
    "                                                    verbose=True)\n",
    "# Fitting\n",
    "rs_model.fit(X_train, y_train)"
   ],
   "metadata": {
    "collapsed": false,
    "ExecuteTime": {
     "end_time": "2024-04-24T10:33:58.352648200Z",
     "start_time": "2024-04-24T10:33:51.845512600Z"
    }
   },
   "id": "60500bf8bd32bfe9",
   "execution_count": 88
  },
  {
   "cell_type": "code",
   "outputs": [
    {
     "data": {
      "text/plain": "{'n_estimators': 40,\n 'min_samples_split': 2,\n 'min_samples_leaf': 9,\n 'max_samples': 10000,\n 'max_features': 'sqrt',\n 'max_depth': 5}"
     },
     "execution_count": 89,
     "metadata": {},
     "output_type": "execute_result"
    }
   ],
   "source": [
    "# Find best parameters\n",
    "rs_model.best_params_"
   ],
   "metadata": {
    "collapsed": false,
    "ExecuteTime": {
     "end_time": "2024-04-24T10:34:17.719796100Z",
     "start_time": "2024-04-24T10:34:17.668287600Z"
    }
   },
   "id": "84016ef00fe44a99",
   "execution_count": 89
  },
  {
   "cell_type": "code",
   "outputs": [
    {
     "data": {
      "text/plain": "{'Training MAE': 11730.97,\n 'Valid MAE': 13582.75,\n 'Training RMSLE': 0.5,\n 'Valid RMSLE': 0.52,\n 'Training R^2': 0.49,\n 'Validation R^2': 0.49}"
     },
     "execution_count": 90,
     "metadata": {},
     "output_type": "execute_result"
    }
   ],
   "source": [
    "# Evaluate the RandomizedSearch model\n",
    "# NOTE: In reality, performed much worse than the default params, but keeping it for the sake of learning\n",
    "show_scores(rs_model)"
   ],
   "metadata": {
    "collapsed": false,
    "ExecuteTime": {
     "end_time": "2024-04-24T10:35:44.687798900Z",
     "start_time": "2024-04-24T10:35:44.320235100Z"
    }
   },
   "id": "97b3f27bb2fd23b",
   "execution_count": 90
  },
  {
   "cell_type": "code",
   "outputs": [
    {
     "data": {
      "text/plain": "{'Training MAE': 5568.48,\n 'Valid MAE': 7185.45,\n 'Training RMSLE': 0.26,\n 'Valid RMSLE': 0.29,\n 'Training R^2': 0.86,\n 'Validation R^2': 0.83}"
     },
     "execution_count": 91,
     "metadata": {},
     "output_type": "execute_result"
    }
   ],
   "source": [
    "# Non-tuned model\n",
    "show_scores(model)"
   ],
   "metadata": {
    "collapsed": false,
    "ExecuteTime": {
     "end_time": "2024-04-24T10:36:02.006128200Z",
     "start_time": "2024-04-24T10:36:00.824422400Z"
    }
   },
   "id": "406579302ded7153",
   "execution_count": 91
  },
  {
   "cell_type": "markdown",
   "source": [
    "### Train a model with the best parameters\n",
    "**Note:** These were found after 100 iterations of ``RandomizedSearchCV``"
   ],
   "metadata": {
    "collapsed": false
   },
   "id": "21481eea5a426cee"
  },
  {
   "cell_type": "code",
   "outputs": [
    {
     "name": "stdout",
     "output_type": "stream",
     "text": [
      "CPU times: total: 23.5 s\n",
      "Wall time: 2.2 s\n"
     ]
    },
    {
     "data": {
      "text/plain": "RandomForestRegressor(max_depth=5, max_features='sqrt', min_samples_leaf=9,\n                      n_estimators=40, n_jobs=-1, random_state=42)",
      "text/html": "<style>#sk-container-id-6 {\n  /* Definition of color scheme common for light and dark mode */\n  --sklearn-color-text: black;\n  --sklearn-color-line: gray;\n  /* Definition of color scheme for unfitted estimators */\n  --sklearn-color-unfitted-level-0: #fff5e6;\n  --sklearn-color-unfitted-level-1: #f6e4d2;\n  --sklearn-color-unfitted-level-2: #ffe0b3;\n  --sklearn-color-unfitted-level-3: chocolate;\n  /* Definition of color scheme for fitted estimators */\n  --sklearn-color-fitted-level-0: #f0f8ff;\n  --sklearn-color-fitted-level-1: #d4ebff;\n  --sklearn-color-fitted-level-2: #b3dbfd;\n  --sklearn-color-fitted-level-3: cornflowerblue;\n\n  /* Specific color for light theme */\n  --sklearn-color-text-on-default-background: var(--sg-text-color, var(--theme-code-foreground, var(--jp-content-font-color1, black)));\n  --sklearn-color-background: var(--sg-background-color, var(--theme-background, var(--jp-layout-color0, white)));\n  --sklearn-color-border-box: var(--sg-text-color, var(--theme-code-foreground, var(--jp-content-font-color1, black)));\n  --sklearn-color-icon: #696969;\n\n  @media (prefers-color-scheme: dark) {\n    /* Redefinition of color scheme for dark theme */\n    --sklearn-color-text-on-default-background: var(--sg-text-color, var(--theme-code-foreground, var(--jp-content-font-color1, white)));\n    --sklearn-color-background: var(--sg-background-color, var(--theme-background, var(--jp-layout-color0, #111)));\n    --sklearn-color-border-box: var(--sg-text-color, var(--theme-code-foreground, var(--jp-content-font-color1, white)));\n    --sklearn-color-icon: #878787;\n  }\n}\n\n#sk-container-id-6 {\n  color: var(--sklearn-color-text);\n}\n\n#sk-container-id-6 pre {\n  padding: 0;\n}\n\n#sk-container-id-6 input.sk-hidden--visually {\n  border: 0;\n  clip: rect(1px 1px 1px 1px);\n  clip: rect(1px, 1px, 1px, 1px);\n  height: 1px;\n  margin: -1px;\n  overflow: hidden;\n  padding: 0;\n  position: absolute;\n  width: 1px;\n}\n\n#sk-container-id-6 div.sk-dashed-wrapped {\n  border: 1px dashed var(--sklearn-color-line);\n  margin: 0 0.4em 0.5em 0.4em;\n  box-sizing: border-box;\n  padding-bottom: 0.4em;\n  background-color: var(--sklearn-color-background);\n}\n\n#sk-container-id-6 div.sk-container {\n  /* jupyter's `normalize.less` sets `[hidden] { display: none; }`\n     but bootstrap.min.css set `[hidden] { display: none !important; }`\n     so we also need the `!important` here to be able to override the\n     default hidden behavior on the sphinx rendered scikit-learn.org.\n     See: https://github.com/scikit-learn/scikit-learn/issues/21755 */\n  display: inline-block !important;\n  position: relative;\n}\n\n#sk-container-id-6 div.sk-text-repr-fallback {\n  display: none;\n}\n\ndiv.sk-parallel-item,\ndiv.sk-serial,\ndiv.sk-item {\n  /* draw centered vertical line to link estimators */\n  background-image: linear-gradient(var(--sklearn-color-text-on-default-background), var(--sklearn-color-text-on-default-background));\n  background-size: 2px 100%;\n  background-repeat: no-repeat;\n  background-position: center center;\n}\n\n/* Parallel-specific style estimator block */\n\n#sk-container-id-6 div.sk-parallel-item::after {\n  content: \"\";\n  width: 100%;\n  border-bottom: 2px solid var(--sklearn-color-text-on-default-background);\n  flex-grow: 1;\n}\n\n#sk-container-id-6 div.sk-parallel {\n  display: flex;\n  align-items: stretch;\n  justify-content: center;\n  background-color: var(--sklearn-color-background);\n  position: relative;\n}\n\n#sk-container-id-6 div.sk-parallel-item {\n  display: flex;\n  flex-direction: column;\n}\n\n#sk-container-id-6 div.sk-parallel-item:first-child::after {\n  align-self: flex-end;\n  width: 50%;\n}\n\n#sk-container-id-6 div.sk-parallel-item:last-child::after {\n  align-self: flex-start;\n  width: 50%;\n}\n\n#sk-container-id-6 div.sk-parallel-item:only-child::after {\n  width: 0;\n}\n\n/* Serial-specific style estimator block */\n\n#sk-container-id-6 div.sk-serial {\n  display: flex;\n  flex-direction: column;\n  align-items: center;\n  background-color: var(--sklearn-color-background);\n  padding-right: 1em;\n  padding-left: 1em;\n}\n\n\n/* Toggleable style: style used for estimator/Pipeline/ColumnTransformer box that is\nclickable and can be expanded/collapsed.\n- Pipeline and ColumnTransformer use this feature and define the default style\n- Estimators will overwrite some part of the style using the `sk-estimator` class\n*/\n\n/* Pipeline and ColumnTransformer style (default) */\n\n#sk-container-id-6 div.sk-toggleable {\n  /* Default theme specific background. It is overwritten whether we have a\n  specific estimator or a Pipeline/ColumnTransformer */\n  background-color: var(--sklearn-color-background);\n}\n\n/* Toggleable label */\n#sk-container-id-6 label.sk-toggleable__label {\n  cursor: pointer;\n  display: block;\n  width: 100%;\n  margin-bottom: 0;\n  padding: 0.5em;\n  box-sizing: border-box;\n  text-align: center;\n}\n\n#sk-container-id-6 label.sk-toggleable__label-arrow:before {\n  /* Arrow on the left of the label */\n  content: \"▸\";\n  float: left;\n  margin-right: 0.25em;\n  color: var(--sklearn-color-icon);\n}\n\n#sk-container-id-6 label.sk-toggleable__label-arrow:hover:before {\n  color: var(--sklearn-color-text);\n}\n\n/* Toggleable content - dropdown */\n\n#sk-container-id-6 div.sk-toggleable__content {\n  max-height: 0;\n  max-width: 0;\n  overflow: hidden;\n  text-align: left;\n  /* unfitted */\n  background-color: var(--sklearn-color-unfitted-level-0);\n}\n\n#sk-container-id-6 div.sk-toggleable__content.fitted {\n  /* fitted */\n  background-color: var(--sklearn-color-fitted-level-0);\n}\n\n#sk-container-id-6 div.sk-toggleable__content pre {\n  margin: 0.2em;\n  border-radius: 0.25em;\n  color: var(--sklearn-color-text);\n  /* unfitted */\n  background-color: var(--sklearn-color-unfitted-level-0);\n}\n\n#sk-container-id-6 div.sk-toggleable__content.fitted pre {\n  /* unfitted */\n  background-color: var(--sklearn-color-fitted-level-0);\n}\n\n#sk-container-id-6 input.sk-toggleable__control:checked~div.sk-toggleable__content {\n  /* Expand drop-down */\n  max-height: 200px;\n  max-width: 100%;\n  overflow: auto;\n}\n\n#sk-container-id-6 input.sk-toggleable__control:checked~label.sk-toggleable__label-arrow:before {\n  content: \"▾\";\n}\n\n/* Pipeline/ColumnTransformer-specific style */\n\n#sk-container-id-6 div.sk-label input.sk-toggleable__control:checked~label.sk-toggleable__label {\n  color: var(--sklearn-color-text);\n  background-color: var(--sklearn-color-unfitted-level-2);\n}\n\n#sk-container-id-6 div.sk-label.fitted input.sk-toggleable__control:checked~label.sk-toggleable__label {\n  background-color: var(--sklearn-color-fitted-level-2);\n}\n\n/* Estimator-specific style */\n\n/* Colorize estimator box */\n#sk-container-id-6 div.sk-estimator input.sk-toggleable__control:checked~label.sk-toggleable__label {\n  /* unfitted */\n  background-color: var(--sklearn-color-unfitted-level-2);\n}\n\n#sk-container-id-6 div.sk-estimator.fitted input.sk-toggleable__control:checked~label.sk-toggleable__label {\n  /* fitted */\n  background-color: var(--sklearn-color-fitted-level-2);\n}\n\n#sk-container-id-6 div.sk-label label.sk-toggleable__label,\n#sk-container-id-6 div.sk-label label {\n  /* The background is the default theme color */\n  color: var(--sklearn-color-text-on-default-background);\n}\n\n/* On hover, darken the color of the background */\n#sk-container-id-6 div.sk-label:hover label.sk-toggleable__label {\n  color: var(--sklearn-color-text);\n  background-color: var(--sklearn-color-unfitted-level-2);\n}\n\n/* Label box, darken color on hover, fitted */\n#sk-container-id-6 div.sk-label.fitted:hover label.sk-toggleable__label.fitted {\n  color: var(--sklearn-color-text);\n  background-color: var(--sklearn-color-fitted-level-2);\n}\n\n/* Estimator label */\n\n#sk-container-id-6 div.sk-label label {\n  font-family: monospace;\n  font-weight: bold;\n  display: inline-block;\n  line-height: 1.2em;\n}\n\n#sk-container-id-6 div.sk-label-container {\n  text-align: center;\n}\n\n/* Estimator-specific */\n#sk-container-id-6 div.sk-estimator {\n  font-family: monospace;\n  border: 1px dotted var(--sklearn-color-border-box);\n  border-radius: 0.25em;\n  box-sizing: border-box;\n  margin-bottom: 0.5em;\n  /* unfitted */\n  background-color: var(--sklearn-color-unfitted-level-0);\n}\n\n#sk-container-id-6 div.sk-estimator.fitted {\n  /* fitted */\n  background-color: var(--sklearn-color-fitted-level-0);\n}\n\n/* on hover */\n#sk-container-id-6 div.sk-estimator:hover {\n  /* unfitted */\n  background-color: var(--sklearn-color-unfitted-level-2);\n}\n\n#sk-container-id-6 div.sk-estimator.fitted:hover {\n  /* fitted */\n  background-color: var(--sklearn-color-fitted-level-2);\n}\n\n/* Specification for estimator info (e.g. \"i\" and \"?\") */\n\n/* Common style for \"i\" and \"?\" */\n\n.sk-estimator-doc-link,\na:link.sk-estimator-doc-link,\na:visited.sk-estimator-doc-link {\n  float: right;\n  font-size: smaller;\n  line-height: 1em;\n  font-family: monospace;\n  background-color: var(--sklearn-color-background);\n  border-radius: 1em;\n  height: 1em;\n  width: 1em;\n  text-decoration: none !important;\n  margin-left: 1ex;\n  /* unfitted */\n  border: var(--sklearn-color-unfitted-level-1) 1pt solid;\n  color: var(--sklearn-color-unfitted-level-1);\n}\n\n.sk-estimator-doc-link.fitted,\na:link.sk-estimator-doc-link.fitted,\na:visited.sk-estimator-doc-link.fitted {\n  /* fitted */\n  border: var(--sklearn-color-fitted-level-1) 1pt solid;\n  color: var(--sklearn-color-fitted-level-1);\n}\n\n/* On hover */\ndiv.sk-estimator:hover .sk-estimator-doc-link:hover,\n.sk-estimator-doc-link:hover,\ndiv.sk-label-container:hover .sk-estimator-doc-link:hover,\n.sk-estimator-doc-link:hover {\n  /* unfitted */\n  background-color: var(--sklearn-color-unfitted-level-3);\n  color: var(--sklearn-color-background);\n  text-decoration: none;\n}\n\ndiv.sk-estimator.fitted:hover .sk-estimator-doc-link.fitted:hover,\n.sk-estimator-doc-link.fitted:hover,\ndiv.sk-label-container:hover .sk-estimator-doc-link.fitted:hover,\n.sk-estimator-doc-link.fitted:hover {\n  /* fitted */\n  background-color: var(--sklearn-color-fitted-level-3);\n  color: var(--sklearn-color-background);\n  text-decoration: none;\n}\n\n/* Span, style for the box shown on hovering the info icon */\n.sk-estimator-doc-link span {\n  display: none;\n  z-index: 9999;\n  position: relative;\n  font-weight: normal;\n  right: .2ex;\n  padding: .5ex;\n  margin: .5ex;\n  width: min-content;\n  min-width: 20ex;\n  max-width: 50ex;\n  color: var(--sklearn-color-text);\n  box-shadow: 2pt 2pt 4pt #999;\n  /* unfitted */\n  background: var(--sklearn-color-unfitted-level-0);\n  border: .5pt solid var(--sklearn-color-unfitted-level-3);\n}\n\n.sk-estimator-doc-link.fitted span {\n  /* fitted */\n  background: var(--sklearn-color-fitted-level-0);\n  border: var(--sklearn-color-fitted-level-3);\n}\n\n.sk-estimator-doc-link:hover span {\n  display: block;\n}\n\n/* \"?\"-specific style due to the `<a>` HTML tag */\n\n#sk-container-id-6 a.estimator_doc_link {\n  float: right;\n  font-size: 1rem;\n  line-height: 1em;\n  font-family: monospace;\n  background-color: var(--sklearn-color-background);\n  border-radius: 1rem;\n  height: 1rem;\n  width: 1rem;\n  text-decoration: none;\n  /* unfitted */\n  color: var(--sklearn-color-unfitted-level-1);\n  border: var(--sklearn-color-unfitted-level-1) 1pt solid;\n}\n\n#sk-container-id-6 a.estimator_doc_link.fitted {\n  /* fitted */\n  border: var(--sklearn-color-fitted-level-1) 1pt solid;\n  color: var(--sklearn-color-fitted-level-1);\n}\n\n/* On hover */\n#sk-container-id-6 a.estimator_doc_link:hover {\n  /* unfitted */\n  background-color: var(--sklearn-color-unfitted-level-3);\n  color: var(--sklearn-color-background);\n  text-decoration: none;\n}\n\n#sk-container-id-6 a.estimator_doc_link.fitted:hover {\n  /* fitted */\n  background-color: var(--sklearn-color-fitted-level-3);\n}\n</style><div id=\"sk-container-id-6\" class=\"sk-top-container\"><div class=\"sk-text-repr-fallback\"><pre>RandomForestRegressor(max_depth=5, max_features=&#x27;sqrt&#x27;, min_samples_leaf=9,\n                      n_estimators=40, n_jobs=-1, random_state=42)</pre><b>In a Jupyter environment, please rerun this cell to show the HTML representation or trust the notebook. <br />On GitHub, the HTML representation is unable to render, please try loading this page with nbviewer.org.</b></div><div class=\"sk-container\" hidden><div class=\"sk-item\"><div class=\"sk-estimator fitted sk-toggleable\"><input class=\"sk-toggleable__control sk-hidden--visually\" id=\"sk-estimator-id-10\" type=\"checkbox\" checked><label for=\"sk-estimator-id-10\" class=\"sk-toggleable__label fitted sk-toggleable__label-arrow fitted\">&nbsp;&nbsp;RandomForestRegressor<a class=\"sk-estimator-doc-link fitted\" rel=\"noreferrer\" target=\"_blank\" href=\"https://scikit-learn.org/1.4/modules/generated/sklearn.ensemble.RandomForestRegressor.html\">?<span>Documentation for RandomForestRegressor</span></a><span class=\"sk-estimator-doc-link fitted\">i<span>Fitted</span></span></label><div class=\"sk-toggleable__content fitted\"><pre>RandomForestRegressor(max_depth=5, max_features=&#x27;sqrt&#x27;, min_samples_leaf=9,\n                      n_estimators=40, n_jobs=-1, random_state=42)</pre></div> </div></div></div></div>"
     },
     "execution_count": 93,
     "metadata": {},
     "output_type": "execute_result"
    }
   ],
   "source": [
    "%%time\n",
    "# Most ideal parameters\n",
    "ideal_model = RandomForestRegressor(n_jobs=-1,\n",
    "                                    n_estimators=40,\n",
    "                                    min_samples_split=2,\n",
    "                                    min_samples_leaf=9,\n",
    "                                    max_features='sqrt',\n",
    "                                    max_depth=5,\n",
    "                                    max_samples=None,\n",
    "                                    random_state=42)\n",
    "\n",
    "# Fit the model\n",
    "ideal_model.fit(X_train, y_train)"
   ],
   "metadata": {
    "collapsed": false,
    "ExecuteTime": {
     "end_time": "2024-04-24T10:41:34.063826300Z",
     "start_time": "2024-04-24T10:41:31.858937600Z"
    }
   },
   "id": "afebaa98504b9857",
   "execution_count": 93
  },
  {
   "cell_type": "code",
   "outputs": [
    {
     "data": {
      "text/plain": "{'Training MAE': 11757.19,\n 'Valid MAE': 13557.76,\n 'Training RMSLE': 0.51,\n 'Valid RMSLE': 0.52,\n 'Training R^2': 0.49,\n 'Validation R^2': 0.49}"
     },
     "execution_count": 94,
     "metadata": {},
     "output_type": "execute_result"
    }
   ],
   "source": [
    "show_scores(ideal_model)"
   ],
   "metadata": {
    "collapsed": false,
    "ExecuteTime": {
     "end_time": "2024-04-24T10:42:17.160888200Z",
     "start_time": "2024-04-24T10:42:16.689306Z"
    }
   },
   "id": "2168044e8dc4d9e7",
   "execution_count": 94
  },
  {
   "cell_type": "markdown",
   "source": [
    "### Make predictions on test data"
   ],
   "metadata": {
    "collapsed": false
   },
   "id": "af21f76da3fbab17"
  },
  {
   "cell_type": "code",
   "outputs": [
    {
     "data": {
      "text/plain": "   SalesID  MachineID  ModelID  datasource  auctioneerID  YearMade  \\\n0  1227829    1006309     3168         121             3      1999   \n1  1227844    1022817     7271         121             3      1000   \n2  1227847    1031560    22805         121             3      2004   \n3  1227848      56204     1269         121             3      2006   \n4  1227863    1053887    22312         121             3      2005   \n\n   MachineHoursCurrentMeter UsageBand   saledate fiModelDesc  ...  \\\n0                    3688.0       Low 2012-05-03        580G  ...   \n1                   28555.0      High 2012-05-10         936  ...   \n2                    6038.0    Medium 2012-05-10    EC210BLC  ...   \n3                    8940.0      High 2012-05-10       330CL  ...   \n4                    2286.0       Low 2012-05-10        650K  ...   \n\n  Undercarriage_Pad_Width         Stick_Length   Thumb      Pattern_Changer  \\\n0                     NaN                  NaN     NaN                  NaN   \n1                     NaN                  NaN     NaN                  NaN   \n2     None or Unspecified                9' 6\"  Manual  None or Unspecified   \n3     None or Unspecified  None or Unspecified  Manual                  Yes   \n4                     NaN                  NaN     NaN                  NaN   \n\n  Grouser_Type     Backhoe_Mounting Blade_Type      Travel_Controls  \\\n0          NaN                  NaN        NaN                  NaN   \n1          NaN                  NaN        NaN                  NaN   \n2       Double                  NaN        NaN                  NaN   \n3       Triple                  NaN        NaN                  NaN   \n4          NaN  None or Unspecified        PAT  None or Unspecified   \n\n  Differential_Type Steering_Controls  \n0               NaN               NaN  \n1          Standard      Conventional  \n2               NaN               NaN  \n3               NaN               NaN  \n4               NaN               NaN  \n\n[5 rows x 52 columns]",
      "text/html": "<div>\n<style scoped>\n    .dataframe tbody tr th:only-of-type {\n        vertical-align: middle;\n    }\n\n    .dataframe tbody tr th {\n        vertical-align: top;\n    }\n\n    .dataframe thead th {\n        text-align: right;\n    }\n</style>\n<table border=\"1\" class=\"dataframe\">\n  <thead>\n    <tr style=\"text-align: right;\">\n      <th></th>\n      <th>SalesID</th>\n      <th>MachineID</th>\n      <th>ModelID</th>\n      <th>datasource</th>\n      <th>auctioneerID</th>\n      <th>YearMade</th>\n      <th>MachineHoursCurrentMeter</th>\n      <th>UsageBand</th>\n      <th>saledate</th>\n      <th>fiModelDesc</th>\n      <th>...</th>\n      <th>Undercarriage_Pad_Width</th>\n      <th>Stick_Length</th>\n      <th>Thumb</th>\n      <th>Pattern_Changer</th>\n      <th>Grouser_Type</th>\n      <th>Backhoe_Mounting</th>\n      <th>Blade_Type</th>\n      <th>Travel_Controls</th>\n      <th>Differential_Type</th>\n      <th>Steering_Controls</th>\n    </tr>\n  </thead>\n  <tbody>\n    <tr>\n      <th>0</th>\n      <td>1227829</td>\n      <td>1006309</td>\n      <td>3168</td>\n      <td>121</td>\n      <td>3</td>\n      <td>1999</td>\n      <td>3688.0</td>\n      <td>Low</td>\n      <td>2012-05-03</td>\n      <td>580G</td>\n      <td>...</td>\n      <td>NaN</td>\n      <td>NaN</td>\n      <td>NaN</td>\n      <td>NaN</td>\n      <td>NaN</td>\n      <td>NaN</td>\n      <td>NaN</td>\n      <td>NaN</td>\n      <td>NaN</td>\n      <td>NaN</td>\n    </tr>\n    <tr>\n      <th>1</th>\n      <td>1227844</td>\n      <td>1022817</td>\n      <td>7271</td>\n      <td>121</td>\n      <td>3</td>\n      <td>1000</td>\n      <td>28555.0</td>\n      <td>High</td>\n      <td>2012-05-10</td>\n      <td>936</td>\n      <td>...</td>\n      <td>NaN</td>\n      <td>NaN</td>\n      <td>NaN</td>\n      <td>NaN</td>\n      <td>NaN</td>\n      <td>NaN</td>\n      <td>NaN</td>\n      <td>NaN</td>\n      <td>Standard</td>\n      <td>Conventional</td>\n    </tr>\n    <tr>\n      <th>2</th>\n      <td>1227847</td>\n      <td>1031560</td>\n      <td>22805</td>\n      <td>121</td>\n      <td>3</td>\n      <td>2004</td>\n      <td>6038.0</td>\n      <td>Medium</td>\n      <td>2012-05-10</td>\n      <td>EC210BLC</td>\n      <td>...</td>\n      <td>None or Unspecified</td>\n      <td>9' 6\"</td>\n      <td>Manual</td>\n      <td>None or Unspecified</td>\n      <td>Double</td>\n      <td>NaN</td>\n      <td>NaN</td>\n      <td>NaN</td>\n      <td>NaN</td>\n      <td>NaN</td>\n    </tr>\n    <tr>\n      <th>3</th>\n      <td>1227848</td>\n      <td>56204</td>\n      <td>1269</td>\n      <td>121</td>\n      <td>3</td>\n      <td>2006</td>\n      <td>8940.0</td>\n      <td>High</td>\n      <td>2012-05-10</td>\n      <td>330CL</td>\n      <td>...</td>\n      <td>None or Unspecified</td>\n      <td>None or Unspecified</td>\n      <td>Manual</td>\n      <td>Yes</td>\n      <td>Triple</td>\n      <td>NaN</td>\n      <td>NaN</td>\n      <td>NaN</td>\n      <td>NaN</td>\n      <td>NaN</td>\n    </tr>\n    <tr>\n      <th>4</th>\n      <td>1227863</td>\n      <td>1053887</td>\n      <td>22312</td>\n      <td>121</td>\n      <td>3</td>\n      <td>2005</td>\n      <td>2286.0</td>\n      <td>Low</td>\n      <td>2012-05-10</td>\n      <td>650K</td>\n      <td>...</td>\n      <td>NaN</td>\n      <td>NaN</td>\n      <td>NaN</td>\n      <td>NaN</td>\n      <td>NaN</td>\n      <td>None or Unspecified</td>\n      <td>PAT</td>\n      <td>None or Unspecified</td>\n      <td>NaN</td>\n      <td>NaN</td>\n    </tr>\n  </tbody>\n</table>\n<p>5 rows × 52 columns</p>\n</div>"
     },
     "execution_count": 96,
     "metadata": {},
     "output_type": "execute_result"
    }
   ],
   "source": [
    "df_test = pd.read_csv('data/Test.csv',\n",
    "                      low_memory=False,\n",
    "                      parse_dates=['saledate'])\n",
    "df_test.head()"
   ],
   "metadata": {
    "collapsed": false,
    "ExecuteTime": {
     "end_time": "2024-04-24T10:50:24.451259600Z",
     "start_time": "2024-04-24T10:50:24.378746400Z"
    }
   },
   "id": "1ce04ffde26292e7",
   "execution_count": 96
  },
  {
   "cell_type": "code",
   "outputs": [
    {
     "ename": "ValueError",
     "evalue": "The feature names should match those that were passed during fit.\nFeature names unseen at fit time:\n- saledate\nFeature names seen at fit time, yet now missing:\n- Backhoe_Mounting_is_missing\n- Blade_Extension_is_missing\n- Blade_Type_is_missing\n- Blade_Width_is_missing\n- Coupler_System_is_missing\n- ...\n",
     "output_type": "error",
     "traceback": [
      "\u001B[1;31m---------------------------------------------------------------------------\u001B[0m",
      "\u001B[1;31mValueError\u001B[0m                                Traceback (most recent call last)",
      "Cell \u001B[1;32mIn[97], line 1\u001B[0m\n\u001B[1;32m----> 1\u001B[0m test_preds \u001B[38;5;241m=\u001B[39m \u001B[43mmodel\u001B[49m\u001B[38;5;241;43m.\u001B[39;49m\u001B[43mpredict\u001B[49m\u001B[43m(\u001B[49m\u001B[43mdf_test\u001B[49m\u001B[43m)\u001B[49m\n",
      "File \u001B[1;32mF:\\PythonProjects\\bulldozer-price-time-series\\.venv\\Lib\\site-packages\\sklearn\\ensemble\\_forest.py:1064\u001B[0m, in \u001B[0;36mForestRegressor.predict\u001B[1;34m(self, X)\u001B[0m\n\u001B[0;32m   1062\u001B[0m check_is_fitted(\u001B[38;5;28mself\u001B[39m)\n\u001B[0;32m   1063\u001B[0m \u001B[38;5;66;03m# Check data\u001B[39;00m\n\u001B[1;32m-> 1064\u001B[0m X \u001B[38;5;241m=\u001B[39m \u001B[38;5;28;43mself\u001B[39;49m\u001B[38;5;241;43m.\u001B[39;49m\u001B[43m_validate_X_predict\u001B[49m\u001B[43m(\u001B[49m\u001B[43mX\u001B[49m\u001B[43m)\u001B[49m\n\u001B[0;32m   1066\u001B[0m \u001B[38;5;66;03m# Assign chunk of trees to jobs\u001B[39;00m\n\u001B[0;32m   1067\u001B[0m n_jobs, _, _ \u001B[38;5;241m=\u001B[39m _partition_estimators(\u001B[38;5;28mself\u001B[39m\u001B[38;5;241m.\u001B[39mn_estimators, \u001B[38;5;28mself\u001B[39m\u001B[38;5;241m.\u001B[39mn_jobs)\n",
      "File \u001B[1;32mF:\\PythonProjects\\bulldozer-price-time-series\\.venv\\Lib\\site-packages\\sklearn\\ensemble\\_forest.py:641\u001B[0m, in \u001B[0;36mBaseForest._validate_X_predict\u001B[1;34m(self, X)\u001B[0m\n\u001B[0;32m    638\u001B[0m \u001B[38;5;28;01melse\u001B[39;00m:\n\u001B[0;32m    639\u001B[0m     force_all_finite \u001B[38;5;241m=\u001B[39m \u001B[38;5;28;01mTrue\u001B[39;00m\n\u001B[1;32m--> 641\u001B[0m X \u001B[38;5;241m=\u001B[39m \u001B[38;5;28;43mself\u001B[39;49m\u001B[38;5;241;43m.\u001B[39;49m\u001B[43m_validate_data\u001B[49m\u001B[43m(\u001B[49m\n\u001B[0;32m    642\u001B[0m \u001B[43m    \u001B[49m\u001B[43mX\u001B[49m\u001B[43m,\u001B[49m\n\u001B[0;32m    643\u001B[0m \u001B[43m    \u001B[49m\u001B[43mdtype\u001B[49m\u001B[38;5;241;43m=\u001B[39;49m\u001B[43mDTYPE\u001B[49m\u001B[43m,\u001B[49m\n\u001B[0;32m    644\u001B[0m \u001B[43m    \u001B[49m\u001B[43maccept_sparse\u001B[49m\u001B[38;5;241;43m=\u001B[39;49m\u001B[38;5;124;43m\"\u001B[39;49m\u001B[38;5;124;43mcsr\u001B[39;49m\u001B[38;5;124;43m\"\u001B[39;49m\u001B[43m,\u001B[49m\n\u001B[0;32m    645\u001B[0m \u001B[43m    \u001B[49m\u001B[43mreset\u001B[49m\u001B[38;5;241;43m=\u001B[39;49m\u001B[38;5;28;43;01mFalse\u001B[39;49;00m\u001B[43m,\u001B[49m\n\u001B[0;32m    646\u001B[0m \u001B[43m    \u001B[49m\u001B[43mforce_all_finite\u001B[49m\u001B[38;5;241;43m=\u001B[39;49m\u001B[43mforce_all_finite\u001B[49m\u001B[43m,\u001B[49m\n\u001B[0;32m    647\u001B[0m \u001B[43m\u001B[49m\u001B[43m)\u001B[49m\n\u001B[0;32m    648\u001B[0m \u001B[38;5;28;01mif\u001B[39;00m issparse(X) \u001B[38;5;129;01mand\u001B[39;00m (X\u001B[38;5;241m.\u001B[39mindices\u001B[38;5;241m.\u001B[39mdtype \u001B[38;5;241m!=\u001B[39m np\u001B[38;5;241m.\u001B[39mintc \u001B[38;5;129;01mor\u001B[39;00m X\u001B[38;5;241m.\u001B[39mindptr\u001B[38;5;241m.\u001B[39mdtype \u001B[38;5;241m!=\u001B[39m np\u001B[38;5;241m.\u001B[39mintc):\n\u001B[0;32m    649\u001B[0m     \u001B[38;5;28;01mraise\u001B[39;00m \u001B[38;5;167;01mValueError\u001B[39;00m(\u001B[38;5;124m\"\u001B[39m\u001B[38;5;124mNo support for np.int64 index based sparse matrices\u001B[39m\u001B[38;5;124m\"\u001B[39m)\n",
      "File \u001B[1;32mF:\\PythonProjects\\bulldozer-price-time-series\\.venv\\Lib\\site-packages\\sklearn\\base.py:608\u001B[0m, in \u001B[0;36mBaseEstimator._validate_data\u001B[1;34m(self, X, y, reset, validate_separately, cast_to_ndarray, **check_params)\u001B[0m\n\u001B[0;32m    537\u001B[0m \u001B[38;5;28;01mdef\u001B[39;00m \u001B[38;5;21m_validate_data\u001B[39m(\n\u001B[0;32m    538\u001B[0m     \u001B[38;5;28mself\u001B[39m,\n\u001B[0;32m    539\u001B[0m     X\u001B[38;5;241m=\u001B[39m\u001B[38;5;124m\"\u001B[39m\u001B[38;5;124mno_validation\u001B[39m\u001B[38;5;124m\"\u001B[39m,\n\u001B[1;32m   (...)\u001B[0m\n\u001B[0;32m    544\u001B[0m     \u001B[38;5;241m*\u001B[39m\u001B[38;5;241m*\u001B[39mcheck_params,\n\u001B[0;32m    545\u001B[0m ):\n\u001B[0;32m    546\u001B[0m \u001B[38;5;250m    \u001B[39m\u001B[38;5;124;03m\"\"\"Validate input data and set or check the `n_features_in_` attribute.\u001B[39;00m\n\u001B[0;32m    547\u001B[0m \n\u001B[0;32m    548\u001B[0m \u001B[38;5;124;03m    Parameters\u001B[39;00m\n\u001B[1;32m   (...)\u001B[0m\n\u001B[0;32m    606\u001B[0m \u001B[38;5;124;03m        validated.\u001B[39;00m\n\u001B[0;32m    607\u001B[0m \u001B[38;5;124;03m    \"\"\"\u001B[39;00m\n\u001B[1;32m--> 608\u001B[0m     \u001B[38;5;28;43mself\u001B[39;49m\u001B[38;5;241;43m.\u001B[39;49m\u001B[43m_check_feature_names\u001B[49m\u001B[43m(\u001B[49m\u001B[43mX\u001B[49m\u001B[43m,\u001B[49m\u001B[43m \u001B[49m\u001B[43mreset\u001B[49m\u001B[38;5;241;43m=\u001B[39;49m\u001B[43mreset\u001B[49m\u001B[43m)\u001B[49m\n\u001B[0;32m    610\u001B[0m     \u001B[38;5;28;01mif\u001B[39;00m y \u001B[38;5;129;01mis\u001B[39;00m \u001B[38;5;28;01mNone\u001B[39;00m \u001B[38;5;129;01mand\u001B[39;00m \u001B[38;5;28mself\u001B[39m\u001B[38;5;241m.\u001B[39m_get_tags()[\u001B[38;5;124m\"\u001B[39m\u001B[38;5;124mrequires_y\u001B[39m\u001B[38;5;124m\"\u001B[39m]:\n\u001B[0;32m    611\u001B[0m         \u001B[38;5;28;01mraise\u001B[39;00m \u001B[38;5;167;01mValueError\u001B[39;00m(\n\u001B[0;32m    612\u001B[0m             \u001B[38;5;124mf\u001B[39m\u001B[38;5;124m\"\u001B[39m\u001B[38;5;124mThis \u001B[39m\u001B[38;5;132;01m{\u001B[39;00m\u001B[38;5;28mself\u001B[39m\u001B[38;5;241m.\u001B[39m\u001B[38;5;18m__class__\u001B[39m\u001B[38;5;241m.\u001B[39m\u001B[38;5;18m__name__\u001B[39m\u001B[38;5;132;01m}\u001B[39;00m\u001B[38;5;124m estimator \u001B[39m\u001B[38;5;124m\"\u001B[39m\n\u001B[0;32m    613\u001B[0m             \u001B[38;5;124m\"\u001B[39m\u001B[38;5;124mrequires y to be passed, but the target y is None.\u001B[39m\u001B[38;5;124m\"\u001B[39m\n\u001B[0;32m    614\u001B[0m         )\n",
      "File \u001B[1;32mF:\\PythonProjects\\bulldozer-price-time-series\\.venv\\Lib\\site-packages\\sklearn\\base.py:535\u001B[0m, in \u001B[0;36mBaseEstimator._check_feature_names\u001B[1;34m(self, X, reset)\u001B[0m\n\u001B[0;32m    530\u001B[0m \u001B[38;5;28;01mif\u001B[39;00m \u001B[38;5;129;01mnot\u001B[39;00m missing_names \u001B[38;5;129;01mand\u001B[39;00m \u001B[38;5;129;01mnot\u001B[39;00m unexpected_names:\n\u001B[0;32m    531\u001B[0m     message \u001B[38;5;241m+\u001B[39m\u001B[38;5;241m=\u001B[39m (\n\u001B[0;32m    532\u001B[0m         \u001B[38;5;124m\"\u001B[39m\u001B[38;5;124mFeature names must be in the same order as they were in fit.\u001B[39m\u001B[38;5;130;01m\\n\u001B[39;00m\u001B[38;5;124m\"\u001B[39m\n\u001B[0;32m    533\u001B[0m     )\n\u001B[1;32m--> 535\u001B[0m \u001B[38;5;28;01mraise\u001B[39;00m \u001B[38;5;167;01mValueError\u001B[39;00m(message)\n",
      "\u001B[1;31mValueError\u001B[0m: The feature names should match those that were passed during fit.\nFeature names unseen at fit time:\n- saledate\nFeature names seen at fit time, yet now missing:\n- Backhoe_Mounting_is_missing\n- Blade_Extension_is_missing\n- Blade_Type_is_missing\n- Blade_Width_is_missing\n- Coupler_System_is_missing\n- ...\n"
     ]
    }
   ],
   "source": [
    "test_preds = model.predict(df_test) # Will cause an error, keeping for posterity"
   ],
   "metadata": {
    "collapsed": false,
    "ExecuteTime": {
     "end_time": "2024-04-24T10:51:20.318728Z",
     "start_time": "2024-04-24T10:51:20.222711300Z"
    }
   },
   "id": "c2f666031759781c",
   "execution_count": 97
  },
  {
   "cell_type": "markdown",
   "source": [
    "### Preprocessing the data\n",
    "Formatting the test set in the same format as training set"
   ],
   "metadata": {
    "collapsed": false
   },
   "id": "a6573d9f28089518"
  },
  {
   "cell_type": "code",
   "outputs": [],
   "source": [
    "def preprocess_data(df):\n",
    "    \"\"\"\n",
    "    Performs transformations on df and returns transformed df.\n",
    "    \"\"\"\n",
    "    df[\"saleYear\"] = df.saledate.dt.year\n",
    "    df[\"saleMonth\"] = df.saledate.dt.month\n",
    "    df[\"saleDay\"] = df.saledate.dt.day\n",
    "    df[\"saleDayOfWeek\"] = df.saledate.dt.dayofweek\n",
    "    df[\"saleDayOfYear\"] = df.saledate.dt.dayofyear\n",
    "    \n",
    "    df.drop(\"saledate\", axis=1, inplace=True)\n",
    "    \n",
    "    # Fill the numeric rows with median\n",
    "    for label, content in df.items():\n",
    "        if pd.api.types.is_numeric_dtype(content):\n",
    "            if pd.isnull(content).sum():\n",
    "                # Add a binary column which tells us if the data was missing or not\n",
    "                df[label+'_is_missing'] = pd.isnull(content)\n",
    "                # Fill missing numeric values with median\n",
    "                df[label] = content.fillna(content.median())\n",
    "    \n",
    "        # Filled categorical missing data and turn categories into numbers\n",
    "        if not pd.api.types.is_numeric_dtype(content):\n",
    "            df[label+'_is_missing'] = pd.isnull(content)\n",
    "            # We add +1 to the category code because pandas encodes missing categories as -1\n",
    "            df[label] = pd.Categorical(content).codes + 1\n",
    "    \n",
    "    return df\n",
    "    "
   ],
   "metadata": {
    "collapsed": false,
    "ExecuteTime": {
     "end_time": "2024-04-24T11:07:54.222260700Z",
     "start_time": "2024-04-24T11:07:54.174251400Z"
    }
   },
   "id": "b8dce8420d827982",
   "execution_count": 98
  },
  {
   "cell_type": "code",
   "outputs": [
    {
     "data": {
      "text/plain": "   SalesID  MachineID  ModelID  datasource  auctioneerID  YearMade  \\\n0  1227829    1006309     3168         121             3      1999   \n1  1227844    1022817     7271         121             3      1000   \n2  1227847    1031560    22805         121             3      2004   \n3  1227848      56204     1269         121             3      2006   \n4  1227863    1053887    22312         121             3      2005   \n\n   MachineHoursCurrentMeter  UsageBand  fiModelDesc  fiBaseModel  ...  \\\n0                    3688.0          2          499          180  ...   \n1                   28555.0          1          831          292  ...   \n2                    6038.0          3         1177          404  ...   \n3                    8940.0          1          287          113  ...   \n4                    2286.0          2          566          196  ...   \n\n   Undercarriage_Pad_Width_is_missing  Stick_Length_is_missing  \\\n0                                True                     True   \n1                                True                     True   \n2                               False                    False   \n3                               False                    False   \n4                                True                     True   \n\n   Thumb_is_missing  Pattern_Changer_is_missing  Grouser_Type_is_missing  \\\n0              True                        True                     True   \n1              True                        True                     True   \n2             False                       False                    False   \n3             False                       False                    False   \n4              True                        True                     True   \n\n   Backhoe_Mounting_is_missing  Blade_Type_is_missing  \\\n0                         True                   True   \n1                         True                   True   \n2                         True                   True   \n3                         True                   True   \n4                        False                  False   \n\n   Travel_Controls_is_missing  Differential_Type_is_missing  \\\n0                        True                          True   \n1                        True                         False   \n2                        True                          True   \n3                        True                          True   \n4                       False                          True   \n\n   Steering_Controls_is_missing  \n0                          True  \n1                         False  \n2                          True  \n3                          True  \n4                          True  \n\n[5 rows x 101 columns]",
      "text/html": "<div>\n<style scoped>\n    .dataframe tbody tr th:only-of-type {\n        vertical-align: middle;\n    }\n\n    .dataframe tbody tr th {\n        vertical-align: top;\n    }\n\n    .dataframe thead th {\n        text-align: right;\n    }\n</style>\n<table border=\"1\" class=\"dataframe\">\n  <thead>\n    <tr style=\"text-align: right;\">\n      <th></th>\n      <th>SalesID</th>\n      <th>MachineID</th>\n      <th>ModelID</th>\n      <th>datasource</th>\n      <th>auctioneerID</th>\n      <th>YearMade</th>\n      <th>MachineHoursCurrentMeter</th>\n      <th>UsageBand</th>\n      <th>fiModelDesc</th>\n      <th>fiBaseModel</th>\n      <th>...</th>\n      <th>Undercarriage_Pad_Width_is_missing</th>\n      <th>Stick_Length_is_missing</th>\n      <th>Thumb_is_missing</th>\n      <th>Pattern_Changer_is_missing</th>\n      <th>Grouser_Type_is_missing</th>\n      <th>Backhoe_Mounting_is_missing</th>\n      <th>Blade_Type_is_missing</th>\n      <th>Travel_Controls_is_missing</th>\n      <th>Differential_Type_is_missing</th>\n      <th>Steering_Controls_is_missing</th>\n    </tr>\n  </thead>\n  <tbody>\n    <tr>\n      <th>0</th>\n      <td>1227829</td>\n      <td>1006309</td>\n      <td>3168</td>\n      <td>121</td>\n      <td>3</td>\n      <td>1999</td>\n      <td>3688.0</td>\n      <td>2</td>\n      <td>499</td>\n      <td>180</td>\n      <td>...</td>\n      <td>True</td>\n      <td>True</td>\n      <td>True</td>\n      <td>True</td>\n      <td>True</td>\n      <td>True</td>\n      <td>True</td>\n      <td>True</td>\n      <td>True</td>\n      <td>True</td>\n    </tr>\n    <tr>\n      <th>1</th>\n      <td>1227844</td>\n      <td>1022817</td>\n      <td>7271</td>\n      <td>121</td>\n      <td>3</td>\n      <td>1000</td>\n      <td>28555.0</td>\n      <td>1</td>\n      <td>831</td>\n      <td>292</td>\n      <td>...</td>\n      <td>True</td>\n      <td>True</td>\n      <td>True</td>\n      <td>True</td>\n      <td>True</td>\n      <td>True</td>\n      <td>True</td>\n      <td>True</td>\n      <td>False</td>\n      <td>False</td>\n    </tr>\n    <tr>\n      <th>2</th>\n      <td>1227847</td>\n      <td>1031560</td>\n      <td>22805</td>\n      <td>121</td>\n      <td>3</td>\n      <td>2004</td>\n      <td>6038.0</td>\n      <td>3</td>\n      <td>1177</td>\n      <td>404</td>\n      <td>...</td>\n      <td>False</td>\n      <td>False</td>\n      <td>False</td>\n      <td>False</td>\n      <td>False</td>\n      <td>True</td>\n      <td>True</td>\n      <td>True</td>\n      <td>True</td>\n      <td>True</td>\n    </tr>\n    <tr>\n      <th>3</th>\n      <td>1227848</td>\n      <td>56204</td>\n      <td>1269</td>\n      <td>121</td>\n      <td>3</td>\n      <td>2006</td>\n      <td>8940.0</td>\n      <td>1</td>\n      <td>287</td>\n      <td>113</td>\n      <td>...</td>\n      <td>False</td>\n      <td>False</td>\n      <td>False</td>\n      <td>False</td>\n      <td>False</td>\n      <td>True</td>\n      <td>True</td>\n      <td>True</td>\n      <td>True</td>\n      <td>True</td>\n    </tr>\n    <tr>\n      <th>4</th>\n      <td>1227863</td>\n      <td>1053887</td>\n      <td>22312</td>\n      <td>121</td>\n      <td>3</td>\n      <td>2005</td>\n      <td>2286.0</td>\n      <td>2</td>\n      <td>566</td>\n      <td>196</td>\n      <td>...</td>\n      <td>True</td>\n      <td>True</td>\n      <td>True</td>\n      <td>True</td>\n      <td>True</td>\n      <td>False</td>\n      <td>False</td>\n      <td>False</td>\n      <td>True</td>\n      <td>True</td>\n    </tr>\n  </tbody>\n</table>\n<p>5 rows × 101 columns</p>\n</div>"
     },
     "execution_count": 99,
     "metadata": {},
     "output_type": "execute_result"
    }
   ],
   "source": [
    "# Process test data\n",
    "df_test = preprocess_data(df_test)\n",
    "df_test.head()"
   ],
   "metadata": {
    "collapsed": false,
    "ExecuteTime": {
     "end_time": "2024-04-24T11:09:30.316029900Z",
     "start_time": "2024-04-24T11:09:30.222013100Z"
    }
   },
   "id": "e29d04cbb7798b5e",
   "execution_count": 99
  },
  {
   "cell_type": "code",
   "outputs": [
    {
     "data": {
      "text/plain": "{'auctioneerID_is_missing'}"
     },
     "execution_count": 100,
     "metadata": {},
     "output_type": "execute_result"
    }
   ],
   "source": [
    "# Finding how columns differ using python sets\n",
    "set(X_train.columns) - set(df_test.columns)"
   ],
   "metadata": {
    "collapsed": false,
    "ExecuteTime": {
     "end_time": "2024-04-24T11:11:30.463533100Z",
     "start_time": "2024-04-24T11:11:30.424026700Z"
    }
   },
   "id": "afc10323724df718",
   "execution_count": 100
  },
  {
   "cell_type": "code",
   "outputs": [
    {
     "data": {
      "text/plain": "   SalesID  MachineID  ModelID  datasource  auctioneerID  YearMade  \\\n0  1227829    1006309     3168         121             3      1999   \n1  1227844    1022817     7271         121             3      1000   \n2  1227847    1031560    22805         121             3      2004   \n3  1227848      56204     1269         121             3      2006   \n4  1227863    1053887    22312         121             3      2005   \n\n   MachineHoursCurrentMeter  UsageBand  fiModelDesc  fiBaseModel  ...  \\\n0                    3688.0          2          499          180  ...   \n1                   28555.0          1          831          292  ...   \n2                    6038.0          3         1177          404  ...   \n3                    8940.0          1          287          113  ...   \n4                    2286.0          2          566          196  ...   \n\n   Stick_Length_is_missing  Thumb_is_missing  Pattern_Changer_is_missing  \\\n0                     True              True                        True   \n1                     True              True                        True   \n2                    False             False                       False   \n3                    False             False                       False   \n4                     True              True                        True   \n\n   Grouser_Type_is_missing  Backhoe_Mounting_is_missing  \\\n0                     True                         True   \n1                     True                         True   \n2                    False                         True   \n3                    False                         True   \n4                     True                        False   \n\n   Blade_Type_is_missing  Travel_Controls_is_missing  \\\n0                   True                        True   \n1                   True                        True   \n2                   True                        True   \n3                   True                        True   \n4                  False                       False   \n\n   Differential_Type_is_missing  Steering_Controls_is_missing  \\\n0                          True                          True   \n1                         False                         False   \n2                          True                          True   \n3                          True                          True   \n4                          True                          True   \n\n   auctioneerID_is_missing  \n0                    False  \n1                    False  \n2                    False  \n3                    False  \n4                    False  \n\n[5 rows x 102 columns]",
      "text/html": "<div>\n<style scoped>\n    .dataframe tbody tr th:only-of-type {\n        vertical-align: middle;\n    }\n\n    .dataframe tbody tr th {\n        vertical-align: top;\n    }\n\n    .dataframe thead th {\n        text-align: right;\n    }\n</style>\n<table border=\"1\" class=\"dataframe\">\n  <thead>\n    <tr style=\"text-align: right;\">\n      <th></th>\n      <th>SalesID</th>\n      <th>MachineID</th>\n      <th>ModelID</th>\n      <th>datasource</th>\n      <th>auctioneerID</th>\n      <th>YearMade</th>\n      <th>MachineHoursCurrentMeter</th>\n      <th>UsageBand</th>\n      <th>fiModelDesc</th>\n      <th>fiBaseModel</th>\n      <th>...</th>\n      <th>Stick_Length_is_missing</th>\n      <th>Thumb_is_missing</th>\n      <th>Pattern_Changer_is_missing</th>\n      <th>Grouser_Type_is_missing</th>\n      <th>Backhoe_Mounting_is_missing</th>\n      <th>Blade_Type_is_missing</th>\n      <th>Travel_Controls_is_missing</th>\n      <th>Differential_Type_is_missing</th>\n      <th>Steering_Controls_is_missing</th>\n      <th>auctioneerID_is_missing</th>\n    </tr>\n  </thead>\n  <tbody>\n    <tr>\n      <th>0</th>\n      <td>1227829</td>\n      <td>1006309</td>\n      <td>3168</td>\n      <td>121</td>\n      <td>3</td>\n      <td>1999</td>\n      <td>3688.0</td>\n      <td>2</td>\n      <td>499</td>\n      <td>180</td>\n      <td>...</td>\n      <td>True</td>\n      <td>True</td>\n      <td>True</td>\n      <td>True</td>\n      <td>True</td>\n      <td>True</td>\n      <td>True</td>\n      <td>True</td>\n      <td>True</td>\n      <td>False</td>\n    </tr>\n    <tr>\n      <th>1</th>\n      <td>1227844</td>\n      <td>1022817</td>\n      <td>7271</td>\n      <td>121</td>\n      <td>3</td>\n      <td>1000</td>\n      <td>28555.0</td>\n      <td>1</td>\n      <td>831</td>\n      <td>292</td>\n      <td>...</td>\n      <td>True</td>\n      <td>True</td>\n      <td>True</td>\n      <td>True</td>\n      <td>True</td>\n      <td>True</td>\n      <td>True</td>\n      <td>False</td>\n      <td>False</td>\n      <td>False</td>\n    </tr>\n    <tr>\n      <th>2</th>\n      <td>1227847</td>\n      <td>1031560</td>\n      <td>22805</td>\n      <td>121</td>\n      <td>3</td>\n      <td>2004</td>\n      <td>6038.0</td>\n      <td>3</td>\n      <td>1177</td>\n      <td>404</td>\n      <td>...</td>\n      <td>False</td>\n      <td>False</td>\n      <td>False</td>\n      <td>False</td>\n      <td>True</td>\n      <td>True</td>\n      <td>True</td>\n      <td>True</td>\n      <td>True</td>\n      <td>False</td>\n    </tr>\n    <tr>\n      <th>3</th>\n      <td>1227848</td>\n      <td>56204</td>\n      <td>1269</td>\n      <td>121</td>\n      <td>3</td>\n      <td>2006</td>\n      <td>8940.0</td>\n      <td>1</td>\n      <td>287</td>\n      <td>113</td>\n      <td>...</td>\n      <td>False</td>\n      <td>False</td>\n      <td>False</td>\n      <td>False</td>\n      <td>True</td>\n      <td>True</td>\n      <td>True</td>\n      <td>True</td>\n      <td>True</td>\n      <td>False</td>\n    </tr>\n    <tr>\n      <th>4</th>\n      <td>1227863</td>\n      <td>1053887</td>\n      <td>22312</td>\n      <td>121</td>\n      <td>3</td>\n      <td>2005</td>\n      <td>2286.0</td>\n      <td>2</td>\n      <td>566</td>\n      <td>196</td>\n      <td>...</td>\n      <td>True</td>\n      <td>True</td>\n      <td>True</td>\n      <td>True</td>\n      <td>False</td>\n      <td>False</td>\n      <td>False</td>\n      <td>True</td>\n      <td>True</td>\n      <td>False</td>\n    </tr>\n  </tbody>\n</table>\n<p>5 rows × 102 columns</p>\n</div>"
     },
     "execution_count": 101,
     "metadata": {},
     "output_type": "execute_result"
    }
   ],
   "source": [
    "# Manually adjust df_test to have auctioneerID_is_missing column\n",
    "df_test['auctioneerID_is_missing'] = False\n",
    "df_test.head()\n"
   ],
   "metadata": {
    "collapsed": false,
    "ExecuteTime": {
     "end_time": "2024-04-24T11:13:03.045476Z",
     "start_time": "2024-04-24T11:13:02.968463200Z"
    }
   },
   "id": "2060dd0f7cb19282",
   "execution_count": 101
  },
  {
   "cell_type": "code",
   "outputs": [
    {
     "data": {
      "text/plain": "        SalesID  SalePrice  MachineID  ModelID  datasource  auctioneerID  \\\n205615  1646770     9500.0    1126363     8434         132          18.0   \n274835  1821514    14000.0    1194089    10150         132          99.0   \n141296  1505138    50000.0    1473654     4139         132          99.0   \n212552  1671174    16000.0    1327630     8591         132          99.0   \n62755   1329056    22000.0    1336053     4089         132          99.0   \n\n        YearMade  MachineHoursCurrentMeter UsageBand   saledate  ...  \\\n205615      1974                       NaN       NaN 1989-01-17  ...   \n274835      1980                       NaN       NaN 1989-01-31  ...   \n141296      1978                       NaN       NaN 1989-01-31  ...   \n212552      1980                       NaN       NaN 1989-01-31  ...   \n62755       1984                       NaN       NaN 1989-01-31  ...   \n\n       Undercarriage_Pad_Width Stick_Length Thumb Pattern_Changer  \\\n205615                     NaN          NaN   NaN             NaN   \n274835                     NaN          NaN   NaN             NaN   \n141296                     NaN          NaN   NaN             NaN   \n212552                     NaN          NaN   NaN             NaN   \n62755                      NaN          NaN   NaN             NaN   \n\n       Grouser_Type     Backhoe_Mounting Blade_Type      Travel_Controls  \\\n205615          NaN  None or Unspecified   Straight  None or Unspecified   \n274835          NaN                  NaN        NaN                  NaN   \n141296          NaN  None or Unspecified   Straight  None or Unspecified   \n212552          NaN                  NaN        NaN                  NaN   \n62755           NaN  None or Unspecified        PAT                Lever   \n\n       Differential_Type Steering_Controls  \n205615               NaN               NaN  \n274835          Standard      Conventional  \n141296               NaN               NaN  \n212552          Standard      Conventional  \n62755                NaN               NaN  \n\n[5 rows x 53 columns]",
      "text/html": "<div>\n<style scoped>\n    .dataframe tbody tr th:only-of-type {\n        vertical-align: middle;\n    }\n\n    .dataframe tbody tr th {\n        vertical-align: top;\n    }\n\n    .dataframe thead th {\n        text-align: right;\n    }\n</style>\n<table border=\"1\" class=\"dataframe\">\n  <thead>\n    <tr style=\"text-align: right;\">\n      <th></th>\n      <th>SalesID</th>\n      <th>SalePrice</th>\n      <th>MachineID</th>\n      <th>ModelID</th>\n      <th>datasource</th>\n      <th>auctioneerID</th>\n      <th>YearMade</th>\n      <th>MachineHoursCurrentMeter</th>\n      <th>UsageBand</th>\n      <th>saledate</th>\n      <th>...</th>\n      <th>Undercarriage_Pad_Width</th>\n      <th>Stick_Length</th>\n      <th>Thumb</th>\n      <th>Pattern_Changer</th>\n      <th>Grouser_Type</th>\n      <th>Backhoe_Mounting</th>\n      <th>Blade_Type</th>\n      <th>Travel_Controls</th>\n      <th>Differential_Type</th>\n      <th>Steering_Controls</th>\n    </tr>\n  </thead>\n  <tbody>\n    <tr>\n      <th>205615</th>\n      <td>1646770</td>\n      <td>9500.0</td>\n      <td>1126363</td>\n      <td>8434</td>\n      <td>132</td>\n      <td>18.0</td>\n      <td>1974</td>\n      <td>NaN</td>\n      <td>NaN</td>\n      <td>1989-01-17</td>\n      <td>...</td>\n      <td>NaN</td>\n      <td>NaN</td>\n      <td>NaN</td>\n      <td>NaN</td>\n      <td>NaN</td>\n      <td>None or Unspecified</td>\n      <td>Straight</td>\n      <td>None or Unspecified</td>\n      <td>NaN</td>\n      <td>NaN</td>\n    </tr>\n    <tr>\n      <th>274835</th>\n      <td>1821514</td>\n      <td>14000.0</td>\n      <td>1194089</td>\n      <td>10150</td>\n      <td>132</td>\n      <td>99.0</td>\n      <td>1980</td>\n      <td>NaN</td>\n      <td>NaN</td>\n      <td>1989-01-31</td>\n      <td>...</td>\n      <td>NaN</td>\n      <td>NaN</td>\n      <td>NaN</td>\n      <td>NaN</td>\n      <td>NaN</td>\n      <td>NaN</td>\n      <td>NaN</td>\n      <td>NaN</td>\n      <td>Standard</td>\n      <td>Conventional</td>\n    </tr>\n    <tr>\n      <th>141296</th>\n      <td>1505138</td>\n      <td>50000.0</td>\n      <td>1473654</td>\n      <td>4139</td>\n      <td>132</td>\n      <td>99.0</td>\n      <td>1978</td>\n      <td>NaN</td>\n      <td>NaN</td>\n      <td>1989-01-31</td>\n      <td>...</td>\n      <td>NaN</td>\n      <td>NaN</td>\n      <td>NaN</td>\n      <td>NaN</td>\n      <td>NaN</td>\n      <td>None or Unspecified</td>\n      <td>Straight</td>\n      <td>None or Unspecified</td>\n      <td>NaN</td>\n      <td>NaN</td>\n    </tr>\n    <tr>\n      <th>212552</th>\n      <td>1671174</td>\n      <td>16000.0</td>\n      <td>1327630</td>\n      <td>8591</td>\n      <td>132</td>\n      <td>99.0</td>\n      <td>1980</td>\n      <td>NaN</td>\n      <td>NaN</td>\n      <td>1989-01-31</td>\n      <td>...</td>\n      <td>NaN</td>\n      <td>NaN</td>\n      <td>NaN</td>\n      <td>NaN</td>\n      <td>NaN</td>\n      <td>NaN</td>\n      <td>NaN</td>\n      <td>NaN</td>\n      <td>Standard</td>\n      <td>Conventional</td>\n    </tr>\n    <tr>\n      <th>62755</th>\n      <td>1329056</td>\n      <td>22000.0</td>\n      <td>1336053</td>\n      <td>4089</td>\n      <td>132</td>\n      <td>99.0</td>\n      <td>1984</td>\n      <td>NaN</td>\n      <td>NaN</td>\n      <td>1989-01-31</td>\n      <td>...</td>\n      <td>NaN</td>\n      <td>NaN</td>\n      <td>NaN</td>\n      <td>NaN</td>\n      <td>NaN</td>\n      <td>None or Unspecified</td>\n      <td>PAT</td>\n      <td>Lever</td>\n      <td>NaN</td>\n      <td>NaN</td>\n    </tr>\n  </tbody>\n</table>\n<p>5 rows × 53 columns</p>\n</div>"
     },
     "execution_count": 103,
     "metadata": {},
     "output_type": "execute_result"
    }
   ],
   "source": [
    "df.head()"
   ],
   "metadata": {
    "collapsed": false,
    "ExecuteTime": {
     "end_time": "2024-04-24T11:14:33.469695300Z",
     "start_time": "2024-04-24T11:14:33.403183500Z"
    }
   },
   "id": "19110569b70c05b",
   "execution_count": 103
  },
  {
   "cell_type": "code",
   "outputs": [],
   "source": [
    "df_test = df_test.reindex(columns=list(X_train.columns))"
   ],
   "metadata": {
    "collapsed": false,
    "ExecuteTime": {
     "end_time": "2024-04-24T11:16:11.382959500Z",
     "start_time": "2024-04-24T11:16:11.348453600Z"
    }
   },
   "id": "983345f205d997f",
   "execution_count": 105
  },
  {
   "cell_type": "code",
   "outputs": [],
   "source": [
    "# Make prediction on the test data\n",
    "test_preds = ideal_model.predict(df_test)"
   ],
   "metadata": {
    "collapsed": false,
    "ExecuteTime": {
     "end_time": "2024-04-24T11:16:12.063577700Z",
     "start_time": "2024-04-24T11:16:12.008069400Z"
    }
   },
   "id": "c86c6b6d47daf5ee",
   "execution_count": 106
  },
  {
   "cell_type": "code",
   "outputs": [
    {
     "data": {
      "text/plain": "       SalesID     SalePrice\n0      1227829  22312.940582\n1      1227844  29623.444659\n2      1227847  43448.564493\n3      1227848  46139.315213\n4      1227863  33556.806817\n...        ...           ...\n12452  6643171  32698.191030\n12453  6643173  33053.816102\n12454  6643184  30364.984313\n12455  6643186  33381.535229\n12456  6643196  33381.535229\n\n[12457 rows x 2 columns]",
      "text/html": "<div>\n<style scoped>\n    .dataframe tbody tr th:only-of-type {\n        vertical-align: middle;\n    }\n\n    .dataframe tbody tr th {\n        vertical-align: top;\n    }\n\n    .dataframe thead th {\n        text-align: right;\n    }\n</style>\n<table border=\"1\" class=\"dataframe\">\n  <thead>\n    <tr style=\"text-align: right;\">\n      <th></th>\n      <th>SalesID</th>\n      <th>SalePrice</th>\n    </tr>\n  </thead>\n  <tbody>\n    <tr>\n      <th>0</th>\n      <td>1227829</td>\n      <td>22312.940582</td>\n    </tr>\n    <tr>\n      <th>1</th>\n      <td>1227844</td>\n      <td>29623.444659</td>\n    </tr>\n    <tr>\n      <th>2</th>\n      <td>1227847</td>\n      <td>43448.564493</td>\n    </tr>\n    <tr>\n      <th>3</th>\n      <td>1227848</td>\n      <td>46139.315213</td>\n    </tr>\n    <tr>\n      <th>4</th>\n      <td>1227863</td>\n      <td>33556.806817</td>\n    </tr>\n    <tr>\n      <th>...</th>\n      <td>...</td>\n      <td>...</td>\n    </tr>\n    <tr>\n      <th>12452</th>\n      <td>6643171</td>\n      <td>32698.191030</td>\n    </tr>\n    <tr>\n      <th>12453</th>\n      <td>6643173</td>\n      <td>33053.816102</td>\n    </tr>\n    <tr>\n      <th>12454</th>\n      <td>6643184</td>\n      <td>30364.984313</td>\n    </tr>\n    <tr>\n      <th>12455</th>\n      <td>6643186</td>\n      <td>33381.535229</td>\n    </tr>\n    <tr>\n      <th>12456</th>\n      <td>6643196</td>\n      <td>33381.535229</td>\n    </tr>\n  </tbody>\n</table>\n<p>12457 rows × 2 columns</p>\n</div>"
     },
     "execution_count": 107,
     "metadata": {},
     "output_type": "execute_result"
    }
   ],
   "source": [
    "# Format into Kaggle compliant format, for posterity\n",
    "df_preds = pd.DataFrame()\n",
    "df_preds['SalesID'] = df_test['SalesID']\n",
    "df_preds['SalePrice'] = test_preds\n",
    "df_preds"
   ],
   "metadata": {
    "collapsed": false,
    "ExecuteTime": {
     "end_time": "2024-04-24T11:17:58.507510200Z",
     "start_time": "2024-04-24T11:17:58.341981100Z"
    }
   },
   "id": "9671a14eedad6d3b",
   "execution_count": 107
  },
  {
   "cell_type": "code",
   "outputs": [],
   "source": [
    "# Exporting\n",
    "df_preds.to_csv('data/test_preds.csv')"
   ],
   "metadata": {
    "collapsed": false,
    "ExecuteTime": {
     "end_time": "2024-04-24T11:18:51.343226600Z",
     "start_time": "2024-04-24T11:18:51.251210700Z"
    }
   },
   "id": "4bfd8a0de28f33b7",
   "execution_count": 108
  },
  {
   "cell_type": "markdown",
   "source": [
    "# Feature Importance\n",
    "Which different attributes were most important for predicting the target variable"
   ],
   "metadata": {
    "collapsed": false
   },
   "id": "7e1b1a883cc25637"
  },
  {
   "cell_type": "code",
   "outputs": [
    {
     "data": {
      "text/plain": "array([4.77849392e-02, 2.24311940e-02, 2.95715744e-02, 9.35408721e-04,\n       6.93130783e-03, 2.51715413e-01, 6.81890883e-03, 1.38883294e-03,\n       2.43936164e-02, 4.68990736e-02, 5.77001657e-02, 3.96761401e-03,\n       5.68561354e-03, 2.16361601e-01, 3.15276822e-02, 1.15065382e-02,\n       1.55008620e-03, 1.56847056e-03, 1.38673916e-03, 2.35328347e-02,\n       6.68423703e-04, 2.26018842e-04, 1.51548262e-03, 2.25145195e-04,\n       1.19159894e-03, 4.09726382e-05, 1.70226855e-03, 2.24145328e-02,\n       5.43239271e-04, 3.09991121e-04, 4.26063377e-03, 4.14557899e-03,\n       3.17353204e-03, 3.36142358e-04, 4.47044628e-04, 3.77469714e-03,\n       1.51426015e-03, 1.36349670e-02, 5.57004930e-04, 7.65468296e-04,\n       2.64578514e-04, 1.23607900e-03, 1.55692845e-03, 8.57330664e-04,\n       7.29836421e-04, 8.37074307e-04, 1.14651091e-04, 2.60285429e-03,\n       1.11260080e-03, 1.94136377e-04, 1.66851546e-04, 6.44665195e-02,\n       4.39961132e-03, 1.27923833e-02, 6.48590061e-03, 1.38563101e-02,\n       2.39727375e-04, 6.45438997e-04, 4.96625029e-04, 0.00000000e+00,\n       0.00000000e+00, 7.55994891e-04, 6.49355697e-04, 1.04127437e-03,\n       2.10579997e-03, 0.00000000e+00, 0.00000000e+00, 0.00000000e+00,\n       0.00000000e+00, 2.08274320e-05, 1.32666574e-05, 2.60263938e-04,\n       2.15933558e-06, 1.31473945e-04, 2.37188612e-06, 1.95636800e-04,\n       1.52424230e-05, 1.04299298e-03, 1.72076510e-03, 8.44099465e-04,\n       1.56432079e-03, 2.04198007e-03, 1.25112490e-03, 5.60324031e-04,\n       1.19903868e-03, 1.10688175e-03, 3.06490710e-04, 1.67864775e-04,\n       1.27809341e-02, 1.77288432e-04, 7.56815167e-04, 7.32239551e-05,\n       9.07264863e-05, 6.04187820e-05, 7.33404831e-05, 6.15889953e-05,\n       8.75792991e-05, 1.10965061e-04, 1.91147831e-04, 1.78289349e-04,\n       1.07181089e-04, 9.08953432e-05])"
     },
     "execution_count": 109,
     "metadata": {},
     "output_type": "execute_result"
    }
   ],
   "source": [
    "# Find feature importance of the model\n",
    "model.feature_importances_"
   ],
   "metadata": {
    "collapsed": false,
    "ExecuteTime": {
     "end_time": "2024-04-24T11:21:57.928930100Z",
     "start_time": "2024-04-24T11:21:57.851916800Z"
    }
   },
   "id": "b4a627369958a7a5",
   "execution_count": 109
  },
  {
   "cell_type": "code",
   "outputs": [
    {
     "data": {
      "text/plain": "<Figure size 640x480 with 1 Axes>",
      "image/png": "[encoded data removed]"
     },
     "metadata": {},
     "output_type": "display_data"
    }
   ],
   "source": [
    "# Helper function to plot feature importance\n",
    "def plot_features(columns, importances, n=20):\n",
    "    df = (pd.DataFrame({'features': columns,\n",
    "                        'feature_importances': importances})\n",
    "          .sort_values('feature_importances', ascending=False)\n",
    "          .reset_index(drop=True))\n",
    "    \n",
    "    # Plot df\n",
    "    fig, ax = plt.subplots()\n",
    "    ax.barh(df['features'][:n], df['feature_importances'][:20])\n",
    "    ax.set_ylabel('Features')\n",
    "    ax.set_xlabel('Feature Importance')\n",
    "    ax.invert_yaxis()\n",
    "    \n",
    "plot_features(X_train.columns, model.feature_importances_)"
   ],
   "metadata": {
    "collapsed": false,
    "ExecuteTime": {
     "end_time": "2024-04-24T11:28:56.588201400Z",
     "start_time": "2024-04-24T11:28:56.349159100Z"
    }
   },
   "id": "4156596f2cb22456",
   "execution_count": 111
  }
 ],
 "metadata": {
  "kernelspec": {
   "display_name": "Python 3",
   "language": "python",
   "name": "python3"
  },
  "language_info": {
   "codemirror_mode": {
    "name": "ipython",
    "version": 2
   },
   "file_extension": ".py",
   "mimetype": "text/x-python",
   "name": "python",
   "nbconvert_exporter": "python",
   "pygments_lexer": "ipython2",
   "version": "2.7.6"
  }
 },
 "nbformat": 4,
 "nbformat_minor": 5
}
